{
 "cells": [
  {
   "cell_type": "markdown",
   "id": "126ad01d",
   "metadata": {},
   "source": [
    "# 모두의 딥러닝 개정3판\n",
    "## 12장 다중 분류 문제 해결하기"
   ]
  },
  {
   "cell_type": "markdown",
   "id": "3a5d7da5",
   "metadata": {},
   "source": [
    "샘플 수: 150\n",
    "\n",
    "- 속성 수: 4\n",
    "\n",
    "- 정보 1: 꽃받침 길이(sepal length, 단위: cm)\n",
    "\n",
    "- 정보 2: 꽃받침 너비(sepal width, 단위: cm)\n",
    "\n",
    "- 정보 3: 꽃잎 길이(petal length, 단위: cm)\n",
    "\n",
    "- 정보 4: 꽃잎 너비(petal width, 단위: cm)\n",
    "\n",
    "- 클래스: Iris-setosa, Iris-versicolor, Iris-virginica"
   ]
  },
  {
   "cell_type": "markdown",
   "id": "3f0e39e0",
   "metadata": {},
   "source": [
    "속성을 보니 우리가 앞서 다루었던 것과 중요한 차이가 있습니다. 바로 클래스가 두 개가 아니라 세 개입니다.\n",
    "즉, 참(1)과 거짓(0)으로 해결하는 것이 아니라, 여러 개 중에 어떤 것이 답인지 예측하는 문제입니다.\n",
    "\n",
    "이렇게 여러 개의 답 중 하나를 고르는 분류 문제를 다중 분류(multi classification)라고 합니다. 다중 분류 문제는 둘 중에 하나를 고르는 이항 분류(binary classification)와는 접근 방식이 조금 다릅니다."
   ]
  },
  {
   "cell_type": "code",
   "execution_count": 1,
   "id": "a51236d5",
   "metadata": {},
   "outputs": [],
   "source": [
    "import pandas as pd"
   ]
  },
  {
   "cell_type": "code",
   "execution_count": 2,
   "id": "e9a7c657",
   "metadata": {},
   "outputs": [
    {
     "data": {
      "text/html": [
       "<div>\n",
       "<style scoped>\n",
       "    .dataframe tbody tr th:only-of-type {\n",
       "        vertical-align: middle;\n",
       "    }\n",
       "\n",
       "    .dataframe tbody tr th {\n",
       "        vertical-align: top;\n",
       "    }\n",
       "\n",
       "    .dataframe thead th {\n",
       "        text-align: right;\n",
       "    }\n",
       "</style>\n",
       "<table border=\"1\" class=\"dataframe\">\n",
       "  <thead>\n",
       "    <tr style=\"text-align: right;\">\n",
       "      <th></th>\n",
       "      <th>sepal_length</th>\n",
       "      <th>sepal_width</th>\n",
       "      <th>petal_length</th>\n",
       "      <th>petal_width</th>\n",
       "      <th>species</th>\n",
       "    </tr>\n",
       "  </thead>\n",
       "  <tbody>\n",
       "    <tr>\n",
       "      <th>0</th>\n",
       "      <td>5.1</td>\n",
       "      <td>3.5</td>\n",
       "      <td>1.4</td>\n",
       "      <td>0.2</td>\n",
       "      <td>Iris-setosa</td>\n",
       "    </tr>\n",
       "    <tr>\n",
       "      <th>1</th>\n",
       "      <td>4.9</td>\n",
       "      <td>3.0</td>\n",
       "      <td>1.4</td>\n",
       "      <td>0.2</td>\n",
       "      <td>Iris-setosa</td>\n",
       "    </tr>\n",
       "    <tr>\n",
       "      <th>2</th>\n",
       "      <td>4.7</td>\n",
       "      <td>3.2</td>\n",
       "      <td>1.3</td>\n",
       "      <td>0.2</td>\n",
       "      <td>Iris-setosa</td>\n",
       "    </tr>\n",
       "    <tr>\n",
       "      <th>3</th>\n",
       "      <td>4.6</td>\n",
       "      <td>3.1</td>\n",
       "      <td>1.5</td>\n",
       "      <td>0.2</td>\n",
       "      <td>Iris-setosa</td>\n",
       "    </tr>\n",
       "    <tr>\n",
       "      <th>4</th>\n",
       "      <td>5.0</td>\n",
       "      <td>3.6</td>\n",
       "      <td>1.4</td>\n",
       "      <td>0.2</td>\n",
       "      <td>Iris-setosa</td>\n",
       "    </tr>\n",
       "  </tbody>\n",
       "</table>\n",
       "</div>"
      ],
      "text/plain": [
       "   sepal_length  sepal_width  petal_length  petal_width      species\n",
       "0           5.1          3.5           1.4          0.2  Iris-setosa\n",
       "1           4.9          3.0           1.4          0.2  Iris-setosa\n",
       "2           4.7          3.2           1.3          0.2  Iris-setosa\n",
       "3           4.6          3.1           1.5          0.2  Iris-setosa\n",
       "4           5.0          3.6           1.4          0.2  Iris-setosa"
      ]
     },
     "execution_count": 2,
     "metadata": {},
     "output_type": "execute_result"
    }
   ],
   "source": [
    "df = pd.read_csv('data/iris3.csv')\n",
    "df.head()"
   ]
  },
  {
   "cell_type": "code",
   "execution_count": 3,
   "id": "806d470e",
   "metadata": {},
   "outputs": [],
   "source": [
    "X = df.iloc[:, :4]\n",
    "y = df.iloc[:, 4]"
   ]
  },
  {
   "cell_type": "code",
   "execution_count": 4,
   "id": "2f2755fb",
   "metadata": {},
   "outputs": [
    {
     "name": "stdout",
     "output_type": "stream",
     "text": [
      "   sepal_length  sepal_width  petal_length  petal_width\n",
      "0           5.1          3.5           1.4          0.2\n",
      "1           4.9          3.0           1.4          0.2\n",
      "2           4.7          3.2           1.3          0.2\n",
      "3           4.6          3.1           1.5          0.2\n",
      "4           5.0          3.6           1.4          0.2\n"
     ]
    }
   ],
   "source": [
    "print(X[:5])"
   ]
  },
  {
   "cell_type": "code",
   "execution_count": 5,
   "id": "a5b786ec",
   "metadata": {},
   "outputs": [
    {
     "name": "stdout",
     "output_type": "stream",
     "text": [
      "0    Iris-setosa\n",
      "1    Iris-setosa\n",
      "2    Iris-setosa\n",
      "3    Iris-setosa\n",
      "4    Iris-setosa\n",
      "Name: species, dtype: object\n"
     ]
    }
   ],
   "source": [
    "print(y[:5])"
   ]
  },
  {
   "cell_type": "code",
   "execution_count": 6,
   "id": "7da722c1",
   "metadata": {},
   "outputs": [
    {
     "name": "stdout",
     "output_type": "stream",
     "text": [
      "140    Iris-virginica\n",
      "141    Iris-virginica\n",
      "142    Iris-virginica\n",
      "143    Iris-virginica\n",
      "144    Iris-virginica\n",
      "145    Iris-virginica\n",
      "146    Iris-virginica\n",
      "147    Iris-virginica\n",
      "148    Iris-virginica\n",
      "149    Iris-virginica\n",
      "Name: species, dtype: object\n"
     ]
    }
   ],
   "source": [
    "print(y[-10:])  # 뒤에서부터 10개"
   ]
  },
  {
   "cell_type": "code",
   "execution_count": 7,
   "id": "e57d1ce0",
   "metadata": {},
   "outputs": [
    {
     "name": "stdout",
     "output_type": "stream",
     "text": [
      "<class 'pandas.core.frame.DataFrame'>\n",
      "RangeIndex: 150 entries, 0 to 149\n",
      "Data columns (total 5 columns):\n",
      " #   Column        Non-Null Count  Dtype  \n",
      "---  ------        --------------  -----  \n",
      " 0   sepal_length  150 non-null    float64\n",
      " 1   sepal_width   150 non-null    float64\n",
      " 2   petal_length  150 non-null    float64\n",
      " 3   petal_width   150 non-null    float64\n",
      " 4   species       150 non-null    object \n",
      "dtypes: float64(4), object(1)\n",
      "memory usage: 6.0+ KB\n"
     ]
    }
   ],
   "source": [
    "df.info()"
   ]
  },
  {
   "cell_type": "code",
   "execution_count": 8,
   "id": "56dc5ed7",
   "metadata": {},
   "outputs": [
    {
     "name": "stdout",
     "output_type": "stream",
     "text": [
      "   Iris-setosa  Iris-versicolor  Iris-virginica\n",
      "0            1                0               0\n",
      "1            1                0               0\n",
      "2            1                0               0\n",
      "3            1                0               0\n",
      "4            1                0               0\n",
      "5            1                0               0\n",
      "6            1                0               0\n",
      "7            1                0               0\n",
      "8            1                0               0\n",
      "9            1                0               0\n"
     ]
    }
   ],
   "source": [
    "y = pd.get_dummies(y)\n",
    "print(y[:10])"
   ]
  },
  {
   "cell_type": "code",
   "execution_count": 9,
   "id": "fac94a62",
   "metadata": {},
   "outputs": [],
   "source": [
    "from tensorflow.keras import models, layers"
   ]
  },
  {
   "cell_type": "code",
   "execution_count": 10,
   "id": "577deae5",
   "metadata": {},
   "outputs": [],
   "source": [
    "model = models.Sequential()\n",
    "model.add(layers.Dense(12, input_dim=4, activation='relu'))\n",
    "model.add(layers.Dense(8, activation='relu'))\n",
    "model.add(layers.Dense(3, activation='softmax'))  # 3차원이니까 3"
   ]
  },
  {
   "cell_type": "markdown",
   "id": "b004f31b",
   "metadata": {},
   "source": [
    "입력층 weight 4 12 \\\n",
    "입력층 bias 1 12\n",
    "\n",
    "은닉층 weight 12 8 \\\n",
    "은닉층 bias 1 8\n",
    "\n",
    "출력층 weight 8 3 \\\n",
    "출력층 bias 1 3\n",
    "param 191 (60+104+27)"
   ]
  },
  {
   "cell_type": "code",
   "execution_count": 11,
   "id": "db0e8667",
   "metadata": {},
   "outputs": [
    {
     "name": "stdout",
     "output_type": "stream",
     "text": [
      "Model: \"sequential\"\n",
      "_________________________________________________________________\n",
      " Layer (type)                Output Shape              Param #   \n",
      "=================================================================\n",
      " dense (Dense)               (None, 12)                60        \n",
      "                                                                 \n",
      " dense_1 (Dense)             (None, 8)                 104       \n",
      "                                                                 \n",
      " dense_2 (Dense)             (None, 3)                 27        \n",
      "                                                                 \n",
      "=================================================================\n",
      "Total params: 191\n",
      "Trainable params: 191\n",
      "Non-trainable params: 0\n",
      "_________________________________________________________________\n"
     ]
    }
   ],
   "source": [
    "model.summary()"
   ]
  },
  {
   "cell_type": "code",
   "execution_count": 12,
   "id": "4d965e2c",
   "metadata": {},
   "outputs": [],
   "source": [
    "# 다중분류를 위한 손실함수\n",
    "model.compile(loss='categorical_crossentropy', optimizer='adam', metrics=['accuracy'])"
   ]
  },
  {
   "cell_type": "code",
   "execution_count": 13,
   "id": "807b2c9d",
   "metadata": {},
   "outputs": [
    {
     "name": "stdout",
     "output_type": "stream",
     "text": [
      "Epoch 1/30\n",
      "30/30 [==============================] - 1s 1ms/step - loss: 1.9040 - accuracy: 0.3600\n",
      "Epoch 2/30\n",
      "30/30 [==============================] - 0s 1ms/step - loss: 1.1343 - accuracy: 0.6667\n",
      "Epoch 3/30\n",
      "30/30 [==============================] - 0s 1ms/step - loss: 0.8462 - accuracy: 0.6667\n",
      "Epoch 4/30\n",
      "30/30 [==============================] - 0s 1ms/step - loss: 0.7569 - accuracy: 0.6933\n",
      "Epoch 5/30\n",
      "30/30 [==============================] - 0s 1ms/step - loss: 0.6949 - accuracy: 0.7267\n",
      "Epoch 6/30\n",
      "30/30 [==============================] - 0s 1ms/step - loss: 0.6438 - accuracy: 0.6667\n",
      "Epoch 7/30\n",
      "30/30 [==============================] - 0s 1ms/step - loss: 0.5863 - accuracy: 0.7200\n",
      "Epoch 8/30\n",
      "30/30 [==============================] - 0s 1ms/step - loss: 0.5382 - accuracy: 0.7867\n",
      "Epoch 9/30\n",
      "30/30 [==============================] - 0s 1ms/step - loss: 0.5062 - accuracy: 0.8933\n",
      "Epoch 10/30\n",
      "30/30 [==============================] - 0s 1ms/step - loss: 0.4781 - accuracy: 0.7867\n",
      "Epoch 11/30\n",
      "30/30 [==============================] - 0s 1ms/step - loss: 0.4573 - accuracy: 0.8333\n",
      "Epoch 12/30\n",
      "30/30 [==============================] - 0s 1ms/step - loss: 0.4355 - accuracy: 0.9133\n",
      "Epoch 13/30\n",
      "30/30 [==============================] - 0s 1ms/step - loss: 0.4224 - accuracy: 0.8600\n",
      "Epoch 14/30\n",
      "30/30 [==============================] - 0s 1ms/step - loss: 0.4065 - accuracy: 0.9000\n",
      "Epoch 15/30\n",
      "30/30 [==============================] - 0s 1ms/step - loss: 0.3951 - accuracy: 0.8800\n",
      "Epoch 16/30\n",
      "30/30 [==============================] - 0s 1ms/step - loss: 0.3762 - accuracy: 0.9200\n",
      "Epoch 17/30\n",
      "30/30 [==============================] - 0s 963us/step - loss: 0.3618 - accuracy: 0.9267\n",
      "Epoch 18/30\n",
      "30/30 [==============================] - 0s 1ms/step - loss: 0.3607 - accuracy: 0.9000\n",
      "Epoch 19/30\n",
      "30/30 [==============================] - 0s 2ms/step - loss: 0.3521 - accuracy: 0.8733\n",
      "Epoch 20/30\n",
      "30/30 [==============================] - 0s 2ms/step - loss: 0.3283 - accuracy: 0.9267\n",
      "Epoch 21/30\n",
      "30/30 [==============================] - 0s 1ms/step - loss: 0.3244 - accuracy: 0.9067\n",
      "Epoch 22/30\n",
      "30/30 [==============================] - 0s 1ms/step - loss: 0.3103 - accuracy: 0.9400\n",
      "Epoch 23/30\n",
      "30/30 [==============================] - 0s 1ms/step - loss: 0.2999 - accuracy: 0.9400\n",
      "Epoch 24/30\n",
      "30/30 [==============================] - 0s 1ms/step - loss: 0.2911 - accuracy: 0.9267\n",
      "Epoch 25/30\n",
      "30/30 [==============================] - 0s 1ms/step - loss: 0.2787 - accuracy: 0.9467\n",
      "Epoch 26/30\n",
      "30/30 [==============================] - 0s 1ms/step - loss: 0.2707 - accuracy: 0.9467\n",
      "Epoch 27/30\n",
      "30/30 [==============================] - 0s 1ms/step - loss: 0.2663 - accuracy: 0.9533\n",
      "Epoch 28/30\n",
      "30/30 [==============================] - 0s 1ms/step - loss: 0.2531 - accuracy: 0.9533\n",
      "Epoch 29/30\n",
      "30/30 [==============================] - 0s 1ms/step - loss: 0.2464 - accuracy: 0.9533\n",
      "Epoch 30/30\n",
      "30/30 [==============================] - 0s 2ms/step - loss: 0.2393 - accuracy: 0.9533\n"
     ]
    }
   ],
   "source": [
    "history = model.fit(X, y, epochs=30, batch_size=5)\n",
    "# df.info() 결과상 RangeIndex: 150 \n",
    "# 한 epoch당 30번 파라미터 갱신"
   ]
  }
 ],
 "metadata": {
  "kernelspec": {
   "display_name": "Python 3 (ipykernel)",
   "language": "python",
   "name": "python3"
  },
  "language_info": {
   "codemirror_mode": {
    "name": "ipython",
    "version": 3
   },
   "file_extension": ".py",
   "mimetype": "text/x-python",
   "name": "python",
   "nbconvert_exporter": "python",
   "pygments_lexer": "ipython3",
   "version": "3.8.15"
  }
 },
 "nbformat": 4,
 "nbformat_minor": 5
}
