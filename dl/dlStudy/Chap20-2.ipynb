{
 "cells": [
  {
   "cell_type": "code",
   "execution_count": 1,
   "id": "930d427f",
   "metadata": {},
   "outputs": [],
   "source": [
    "from tensorflow.keras import models, layers, optimizers\n",
    "from tensorflow.keras.preprocessing.image import ImageDataGenerator\n",
    "from tensorflow.keras.callbacks import EarlyStopping\n",
    "\n",
    "import numpy as np\n",
    "import matplotlib.pyplot as plt\n",
    "import os\n",
    "\n",
    "os.environ['KMP_DUPLICATE_LIB_OK']=\"TRUE\""
   ]
  },
  {
   "cell_type": "code",
   "execution_count": 2,
   "id": "d088cf6a",
   "metadata": {},
   "outputs": [],
   "source": [
    "# 이미지넷(ImageNet) 데이터셋에서 추출한 사진들을 활용\n",
    "# 120만 개가 넘는 이미지\n",
    "from tensorflow.keras.applications import VGG16"
   ]
  },
  {
   "cell_type": "code",
   "execution_count": 3,
   "id": "6cf90d7c",
   "metadata": {},
   "outputs": [],
   "source": [
    "BATCH_SIZE = 5"
   ]
  },
  {
   "cell_type": "code",
   "execution_count": 4,
   "id": "5471dfff",
   "metadata": {},
   "outputs": [
    {
     "name": "stdout",
     "output_type": "stream",
     "text": [
      "Found 160 images belonging to 2 classes.\n"
     ]
    }
   ],
   "source": [
    "# 특징을 미묘하게 바꿔서\n",
    "# 이미지 데이터의 수를 확장할 때 효과적으로 사용할 수 있다\n",
    "train_datagen = ImageDataGenerator(rescale=1./255,          # 주어진 이미지의 크기를 설정합니다.\n",
    "                                  horizontal_flip=True,     # 수평 대칭 이미지를 50% 확률로 만들어 추가합니다.\n",
    "                                  width_shift_range=0.1,    # 전체 크기의 15% 범위에서 좌우로 이동합니다.\n",
    "                                  height_shift_range=0.1,   # 마찬가지로 위, 아래로 이동합니다.\n",
    "                                  #rotation_range=5,        # 정해진 각도만큼 회전시킵니다.\n",
    "                                  #shear_range=0.7,         # 좌표 하나를 고정시키고 나머지를 이동시킵니다.\n",
    "                                  #zoom_range=1.2,          # 확대 또는 축소시킵니다.\n",
    "                                  #vertical_flip=True,      # 수직 대칭 이미지를 만듭니다.\n",
    "                                  #fill_mode='nearest'      # 빈 공간을 채우는 방법입니다. nearest 옵션은 가장 비슷한 색으로 채우게 됩니다.\n",
    "                                  )\n",
    "\n",
    "train_generator = train_datagen.flow_from_directory(\n",
    "       './data/train',   # 학습셋이 있는 폴더의 위치\n",
    "       target_size=(150, 150), # 이미지크기\n",
    "       batch_size=BATCH_SIZE,\n",
    "       class_mode='binary') # 치매/정상 이진 분류이므로 바이너리 모드로 실행"
   ]
  },
  {
   "cell_type": "code",
   "execution_count": 5,
   "id": "38fb59d9",
   "metadata": {},
   "outputs": [
    {
     "name": "stdout",
     "output_type": "stream",
     "text": [
      "Found 120 images belonging to 2 classes.\n"
     ]
    }
   ],
   "source": [
    "test_datagen = ImageDataGenerator(rescale=1./255)  \n",
    "\n",
    "test_generator = test_datagen.flow_from_directory(\n",
    "       './data/test',   # 테스트셋이 있는 폴더의 위치\n",
    "       target_size=(150, 150),\n",
    "       batch_size=BATCH_SIZE,\n",
    "       class_mode='binary')"
   ]
  },
  {
   "cell_type": "code",
   "execution_count": 6,
   "id": "4e1bdd1e",
   "metadata": {
    "scrolled": false
   },
   "outputs": [
    {
     "name": "stdout",
     "output_type": "stream",
     "text": [
      "Downloading data from https://storage.googleapis.com/tensorflow/keras-applications/vgg16/vgg16_weights_tf_dim_ordering_tf_kernels_notop.h5\n",
      "58889256/58889256 [==============================] - 1s 0us/step\n",
      "Model: \"vgg16\"\n",
      "_________________________________________________________________\n",
      " Layer (type)                Output Shape              Param #   \n",
      "=================================================================\n",
      " input_1 (InputLayer)        [(None, 150, 150, 3)]     0         \n",
      "                                                                 \n",
      " block1_conv1 (Conv2D)       (None, 150, 150, 64)      1792      \n",
      "                                                                 \n",
      " block1_conv2 (Conv2D)       (None, 150, 150, 64)      36928     \n",
      "                                                                 \n",
      " block1_pool (MaxPooling2D)  (None, 75, 75, 64)        0         \n",
      "                                                                 \n",
      " block2_conv1 (Conv2D)       (None, 75, 75, 128)       73856     \n",
      "                                                                 \n",
      " block2_conv2 (Conv2D)       (None, 75, 75, 128)       147584    \n",
      "                                                                 \n",
      " block2_pool (MaxPooling2D)  (None, 37, 37, 128)       0         \n",
      "                                                                 \n",
      " block3_conv1 (Conv2D)       (None, 37, 37, 256)       295168    \n",
      "                                                                 \n",
      " block3_conv2 (Conv2D)       (None, 37, 37, 256)       590080    \n",
      "                                                                 \n",
      " block3_conv3 (Conv2D)       (None, 37, 37, 256)       590080    \n",
      "                                                                 \n",
      " block3_pool (MaxPooling2D)  (None, 18, 18, 256)       0         \n",
      "                                                                 \n",
      " block4_conv1 (Conv2D)       (None, 18, 18, 512)       1180160   \n",
      "                                                                 \n",
      " block4_conv2 (Conv2D)       (None, 18, 18, 512)       2359808   \n",
      "                                                                 \n",
      " block4_conv3 (Conv2D)       (None, 18, 18, 512)       2359808   \n",
      "                                                                 \n",
      " block4_pool (MaxPooling2D)  (None, 9, 9, 512)         0         \n",
      "                                                                 \n",
      " block5_conv1 (Conv2D)       (None, 9, 9, 512)         2359808   \n",
      "                                                                 \n",
      " block5_conv2 (Conv2D)       (None, 9, 9, 512)         2359808   \n",
      "                                                                 \n",
      " block5_conv3 (Conv2D)       (None, 9, 9, 512)         2359808   \n",
      "                                                                 \n",
      " block5_pool (MaxPooling2D)  (None, 4, 4, 512)         0         \n",
      "                                                                 \n",
      "=================================================================\n",
      "Total params: 14,714,688\n",
      "Trainable params: 0\n",
      "Non-trainable params: 14,714,688\n",
      "_________________________________________________________________\n"
     ]
    }
   ],
   "source": [
    "# include_top=False란\n",
    "# VGG16의 마지막 층, 즉 분류를 담당하는 곳을 불러올지 말지를 정하는 옵션\n",
    "# 우리가 만든 로컬 네트워크를 연결할 것이므로 False로 설정\n",
    "transfer_model = VGG16(weights='imagenet', include_top=False, \n",
    "                      input_shape=(150, 150, 3))\n",
    "\n",
    "transfer_model.trainable = False\n",
    "transfer_model.summary()"
   ]
  },
  {
   "cell_type": "code",
   "execution_count": 7,
   "id": "bbc5962c",
   "metadata": {},
   "outputs": [
    {
     "name": "stdout",
     "output_type": "stream",
     "text": [
      "Model: \"sequential\"\n",
      "_________________________________________________________________\n",
      " Layer (type)                Output Shape              Param #   \n",
      "=================================================================\n",
      " vgg16 (Functional)          (None, 4, 4, 512)         14714688  \n",
      "                                                                 \n",
      " flatten (Flatten)           (None, 8192)              0         \n",
      "                                                                 \n",
      " dense (Dense)               (None, 64)                524352    \n",
      "                                                                 \n",
      " activation (Activation)     (None, 64)                0         \n",
      "                                                                 \n",
      " dropout (Dropout)           (None, 64)                0         \n",
      "                                                                 \n",
      " dense_1 (Dense)             (None, 1)                 65        \n",
      "                                                                 \n",
      " activation_1 (Activation)   (None, 1)                 0         \n",
      "                                                                 \n",
      "=================================================================\n",
      "Total params: 15,239,105\n",
      "Trainable params: 524,417\n",
      "Non-trainable params: 14,714,688\n",
      "_________________________________________________________________\n"
     ]
    }
   ],
   "source": [
    "# VGG16의 마지막 층을 우리가 만든 로컬 네트워크를 연결\n",
    "finetune_model = models.Sequential()\n",
    "finetune_model.add(transfer_model)\n",
    "finetune_model.add(layers.Flatten())\n",
    "finetune_model.add(layers.Dense(64))\n",
    "finetune_model.add(layers.Activation('relu'))\n",
    "finetune_model.add(layers.Dropout(0.5))\n",
    "finetune_model.add(layers.Dense(1))\n",
    "finetune_model.add(layers.Activation('sigmoid'))\n",
    "\n",
    "finetune_model.summary()"
   ]
  },
  {
   "cell_type": "code",
   "execution_count": 8,
   "id": "50e52ecb",
   "metadata": {},
   "outputs": [],
   "source": [
    "finetune_model.compile(loss='binary_crossentropy', \n",
    "              # 디폴트 learing_rate는 0.001 보폭을 더 줄인거임\n",
    "              optimizer=optimizers.Adam(learning_rate=0.0002), \n",
    "              metrics=['accuracy'])\n",
    "\n",
    "early_stopping = EarlyStopping(monitor='val_loss', patience=5)"
   ]
  },
  {
   "cell_type": "code",
   "execution_count": 9,
   "id": "1be2cc3c",
   "metadata": {},
   "outputs": [
    {
     "name": "stdout",
     "output_type": "stream",
     "text": [
      "Epoch 1/20\n",
      "32/32 [==============================] - 15s 451ms/step - loss: 0.6980 - accuracy: 0.5562 - val_loss: 0.5648 - val_accuracy: 0.8167\n",
      "Epoch 2/20\n",
      "32/32 [==============================] - 14s 438ms/step - loss: 0.5613 - accuracy: 0.6938 - val_loss: 0.4953 - val_accuracy: 0.8000\n",
      "Epoch 3/20\n",
      "32/32 [==============================] - 14s 444ms/step - loss: 0.4743 - accuracy: 0.8375 - val_loss: 0.4579 - val_accuracy: 0.7917\n",
      "Epoch 4/20\n",
      "32/32 [==============================] - 14s 449ms/step - loss: 0.4316 - accuracy: 0.7875 - val_loss: 0.4473 - val_accuracy: 0.8000\n",
      "Epoch 5/20\n",
      "32/32 [==============================] - 14s 438ms/step - loss: 0.3507 - accuracy: 0.9000 - val_loss: 0.3288 - val_accuracy: 0.9250\n",
      "Epoch 6/20\n",
      "32/32 [==============================] - 14s 435ms/step - loss: 0.3653 - accuracy: 0.8250 - val_loss: 0.3349 - val_accuracy: 0.8500\n",
      "Epoch 7/20\n",
      "32/32 [==============================] - 14s 447ms/step - loss: 0.3370 - accuracy: 0.8313 - val_loss: 0.2803 - val_accuracy: 0.9083\n",
      "Epoch 8/20\n",
      "32/32 [==============================] - 14s 443ms/step - loss: 0.2765 - accuracy: 0.8938 - val_loss: 0.2643 - val_accuracy: 0.9083\n",
      "Epoch 9/20\n",
      "32/32 [==============================] - 14s 443ms/step - loss: 0.3000 - accuracy: 0.8813 - val_loss: 0.2477 - val_accuracy: 0.9083\n",
      "Epoch 10/20\n",
      "32/32 [==============================] - 14s 444ms/step - loss: 0.2509 - accuracy: 0.9125 - val_loss: 0.2054 - val_accuracy: 0.9417\n",
      "Epoch 11/20\n",
      "32/32 [==============================] - 14s 454ms/step - loss: 0.1759 - accuracy: 0.9625 - val_loss: 0.2000 - val_accuracy: 0.9333\n",
      "Epoch 12/20\n",
      "32/32 [==============================] - 14s 449ms/step - loss: 0.2228 - accuracy: 0.9312 - val_loss: 0.1861 - val_accuracy: 0.9417\n",
      "Epoch 13/20\n",
      "32/32 [==============================] - 14s 437ms/step - loss: 0.1997 - accuracy: 0.9250 - val_loss: 0.1856 - val_accuracy: 0.9167\n",
      "Epoch 14/20\n",
      "32/32 [==============================] - 14s 438ms/step - loss: 0.1972 - accuracy: 0.9375 - val_loss: 0.1632 - val_accuracy: 0.9583\n",
      "Epoch 15/20\n",
      "32/32 [==============================] - 14s 438ms/step - loss: 0.2066 - accuracy: 0.9250 - val_loss: 0.1706 - val_accuracy: 0.9417\n",
      "Epoch 16/20\n",
      "32/32 [==============================] - 14s 443ms/step - loss: 0.1811 - accuracy: 0.9438 - val_loss: 0.1615 - val_accuracy: 0.9500\n",
      "Epoch 17/20\n",
      "32/32 [==============================] - 14s 439ms/step - loss: 0.1585 - accuracy: 0.9563 - val_loss: 0.1611 - val_accuracy: 0.9333\n",
      "Epoch 18/20\n",
      "32/32 [==============================] - 15s 468ms/step - loss: 0.1824 - accuracy: 0.9438 - val_loss: 0.1713 - val_accuracy: 0.9250\n",
      "Epoch 19/20\n",
      "32/32 [==============================] - 14s 440ms/step - loss: 0.1973 - accuracy: 0.9375 - val_loss: 0.2202 - val_accuracy: 0.9083\n",
      "Epoch 20/20\n",
      "32/32 [==============================] - 14s 452ms/step - loss: 0.1728 - accuracy: 0.9438 - val_loss: 0.2625 - val_accuracy: 0.8917\n"
     ]
    }
   ],
   "source": [
    "history = finetune_model.fit(\n",
    "    train_generator, epochs=20, \n",
    "    validation_data=test_generator, \n",
    "    callbacks=[early_stopping]\n",
    ")"
   ]
  },
  {
   "cell_type": "code",
   "execution_count": null,
   "id": "7b81564a",
   "metadata": {},
   "outputs": [],
   "source": []
  }
 ],
 "metadata": {
  "kernelspec": {
   "display_name": "Python 3 (ipykernel)",
   "language": "python",
   "name": "python3"
  },
  "language_info": {
   "codemirror_mode": {
    "name": "ipython",
    "version": 3
   },
   "file_extension": ".py",
   "mimetype": "text/x-python",
   "name": "python",
   "nbconvert_exporter": "python",
   "pygments_lexer": "ipython3",
   "version": "3.8.15"
  }
 },
 "nbformat": 4,
 "nbformat_minor": 5
}
