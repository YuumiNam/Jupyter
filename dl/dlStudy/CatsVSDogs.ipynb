{
 "cells": [
  {
   "cell_type": "code",
   "execution_count": 1,
   "id": "cd25848b",
   "metadata": {},
   "outputs": [],
   "source": [
    "import os, shutil\n",
    "import matplotlib.pyplot as plt\n",
    "import os\n",
    "\n",
    "os.environ['KMP_DUPLICATE_LIB_OK']=\"TRUE\""
   ]
  },
  {
   "cell_type": "code",
   "execution_count": 2,
   "id": "f15f7307",
   "metadata": {},
   "outputs": [],
   "source": [
    "# Kaggle에서 받은 CatsVSDogs 원본샘플들\n",
    "# 고양이 12500장, 강아지 12500장, 총 25000장\n",
    "original_dataset_dir = './train'\n",
    "\n",
    "# 데이터를 넣을 폴더생성\n",
    "base_dir = './data/cats_and_dogs'\n",
    "if not os.path.exists(base_dir):\n",
    "    os.mkdir(base_dir)"
   ]
  },
  {
   "cell_type": "code",
   "execution_count": 3,
   "id": "ba648aab",
   "metadata": {},
   "outputs": [],
   "source": [
    "# 훈련용 테스트용 분리\n",
    "train_dir = os.path.join(base_dir, 'train')\n",
    "if not os.path.exists(train_dir):\n",
    "    os.mkdir(train_dir)\n",
    "\n",
    "test_dir = os.path.join(base_dir, 'test')\n",
    "if not os.path.exists(test_dir):\n",
    "    os.mkdir(test_dir)"
   ]
  },
  {
   "cell_type": "code",
   "execution_count": 4,
   "id": "d9ca1442",
   "metadata": {},
   "outputs": [],
   "source": [
    "# 훈련용 폴더에 cats와 dogs를 분리할 폴더 생성\n",
    "train_cats_dir = os.path.join(train_dir, 'cats')\n",
    "if not os.path.exists(train_cats_dir):\n",
    "    os.mkdir(train_cats_dir)\n",
    "\n",
    "train_dogs_dir = os.path.join(train_dir, 'dogs')\n",
    "if not os.path.exists(train_dogs_dir):\n",
    "    os.mkdir(train_dogs_dir)"
   ]
  },
  {
   "cell_type": "code",
   "execution_count": 5,
   "id": "7eb71742",
   "metadata": {},
   "outputs": [],
   "source": [
    "# 테스트용 폴더에 cats와 dogs를 분리할 폴더 생성\n",
    "test_cats_dir = os.path.join(test_dir, 'cats')\n",
    "if not os.path.exists(test_cats_dir):\n",
    "    os.mkdir(test_cats_dir)\n",
    "\n",
    "test_dogs_dir = os.path.join(test_dir, 'dogs')\n",
    "if not os.path.exists(test_dogs_dir):\n",
    "    os.mkdir(test_dogs_dir)"
   ]
  },
  {
   "cell_type": "code",
   "execution_count": 6,
   "id": "4c2d14b8",
   "metadata": {},
   "outputs": [],
   "source": [
    "# 10000개의 고양이 파일 훈련용 폴더에 돌리기\n",
    "fnames = ['cat.{}.jpg'.format(i) for i in range(10000)]\n",
    "for fname in fnames:\n",
    "    src = os.path.join(original_dataset_dir, fname)\n",
    "    dst = os.path.join(train_cats_dir, fname)\n",
    "    # 원본 고양이 파일 10000개를 훈련용 고양이 폴더에 복사\n",
    "    shutil.copyfile(src, dst)"
   ]
  },
  {
   "cell_type": "code",
   "execution_count": 7,
   "id": "fa960daa",
   "metadata": {},
   "outputs": [],
   "source": [
    "# 나머지 2500개의 고양이 파일 테스트용 폴더에 돌리기\n",
    "fnames = ['cat.{}.jpg'.format(i) for i in range(10000, 12500)]\n",
    "for fname in fnames:\n",
    "    src = os.path.join(original_dataset_dir, fname)\n",
    "    dst = os.path.join(test_cats_dir, fname)\n",
    "    # 원본 고양이 파일 2500개를 테스트 고양이 폴더에 복사\n",
    "    shutil.copyfile(src, dst)"
   ]
  },
  {
   "cell_type": "code",
   "execution_count": 8,
   "id": "bff23e46",
   "metadata": {},
   "outputs": [],
   "source": [
    "# 10000개의 강아지 파일 훈련용 폴더에 돌리기\n",
    "fnames = ['dog.{}.jpg'.format(i) for i in range(10000)]\n",
    "for fname in fnames:\n",
    "    src = os.path.join(original_dataset_dir, fname)\n",
    "    dst = os.path.join(train_dogs_dir, fname)\n",
    "    # 원본 강아지 파일 10000개를 훈련용 고양이 폴더에 복사\n",
    "    shutil.copyfile(src, dst)"
   ]
  },
  {
   "cell_type": "code",
   "execution_count": 9,
   "id": "b425fcca",
   "metadata": {},
   "outputs": [],
   "source": [
    "# 나머지 2500개의 강아지 파일 테스트용 폴더에 돌리기\n",
    "fnames = ['dog.{}.jpg'.format(i) for i in range(10000, 12500)]\n",
    "for fname in fnames:\n",
    "    src = os.path.join(original_dataset_dir, fname)\n",
    "    dst = os.path.join(test_dogs_dir, fname)\n",
    "    # 원본 강아지 파일 2500개를 테스트 강아지 폴더에 복사\n",
    "    shutil.copyfile(src, dst)"
   ]
  },
  {
   "cell_type": "code",
   "execution_count": 10,
   "id": "53c9d456",
   "metadata": {},
   "outputs": [
    {
     "name": "stdout",
     "output_type": "stream",
     "text": [
      "훈련용 고양이 이미지 전체 개수: 10000\n",
      "훈련용 강아지 이미지 전체 개수: 10000\n",
      "테스트용 고양이 이미지 전체 개수: 2500\n",
      "테스트용 강아지 이미지 전체 개수: 2500\n"
     ]
    }
   ],
   "source": [
    "print('훈련용 고양이 이미지 전체 개수:', len(os.listdir(train_cats_dir)))\n",
    "print('훈련용 강아지 이미지 전체 개수:', len(os.listdir(train_dogs_dir)))\n",
    "print('테스트용 고양이 이미지 전체 개수:', len(os.listdir(test_cats_dir)))\n",
    "print('테스트용 강아지 이미지 전체 개수:', len(os.listdir(test_dogs_dir)))"
   ]
  },
  {
   "cell_type": "code",
   "execution_count": 11,
   "id": "fe3ba390",
   "metadata": {},
   "outputs": [],
   "source": [
    "from tensorflow.keras import models, layers"
   ]
  },
  {
   "cell_type": "code",
   "execution_count": 12,
   "id": "abb618fb",
   "metadata": {},
   "outputs": [],
   "source": [
    "model = models.Sequential()\n",
    "\n",
    "# 첫번째 input_shape은 사진마다 해상도 다 다르기 때문에 임의로 (150, 150)으로 잡는다.\n",
    "\n",
    "# 새로운 parameter 생성 ==> (입력수 1 x kernel(가중치)(3x3) x 3(RGB컬러) x 출력수 32) + bias32 = 896\n",
    "model.add(layers.Conv2D(32, kernel_size=(3, 3), input_shape=(150, 150, 3),activation='relu'))\n",
    "\n",
    "# 2x2의 범위에서 가장 큰 값만 나타내줌... 148*148에서 74*74로 줄어들음 # 모자이크가 사용 예\n",
    "# 새로운 parameter 생성x\n",
    "model.add(layers.MaxPooling2D(pool_size=(2, 2)))\n",
    "\n",
    "# 새로운 parameter 생성 ==> (입력수 32 x kernel(가중치)(3x3) x 1(RGB가 합쳐져서 1장으로 나옴) x 출력수 64) + bias64 = 18496\n",
    "model.add(layers.Conv2D(64, (3, 3), activation='relu'))\n",
    "\n",
    "# 2x2의 범위에서 가장 큰 값만 나타내줌... 74*74에서 36*36로 줄어들음 # 모자이크가 사용 예\n",
    "# 새로운 parameter 생성x\n",
    "model.add(layers.MaxPooling2D(pool_size=(2, 2)))\n",
    "\n",
    "# 새로운 parameter 생성 ==> (입력수 64 x kernel(가중치)(3x3) x 1(RGB가 합쳐져서 1장으로 나옴) x 출력수 128) + bias128 = 73856\n",
    "model.add(layers.Conv2D(128, (3, 3), activation='relu'))\n",
    "\n",
    "# 2x2의 범위에서 가장 큰 값만 나타내줌... 34*34에서 17*17로 줄어들음 # 모자이크가 사용 예\n",
    "# 새로운 parameter 생성x\n",
    "model.add(layers.MaxPooling2D(pool_size=(2, 2)))\n",
    "\n",
    "# 새로운 parameter 생성 ==> (입력수 128 x kernel(가중치)(3x3) x 1(RGB가 합쳐져서 1장으로 나옴) x 출력수 128) + bias128 = 147584\n",
    "model.add(layers.Conv2D(128, (3, 3), activation='relu'))\n",
    "\n",
    "# 2x2의 범위에서 가장 큰 값만 나타내줌... 15*15에서 7*7로 줄어들음 # 모자이크가 사용 예\n",
    "# 새로운 parameter 생성x\n",
    "model.add(layers.MaxPooling2D(pool_size=(2, 2)))\n",
    "\n",
    "# 1차원으로 데이터를 쫘악 펼침\n",
    "# 새로운 parameter 생성x\n",
    "# 입력수가 12(맨처음 150 -> conv2D 148 -> MaxPooling 74 -> fconv2D 72 -> MaxPooling 36\n",
    "# -> conv2D 34 -> MaxPooling 17 -> conv2D 15 -> MaxPooling 7) x 7 x 128 로 바뀜 = 6272\n",
    "model.add(layers.Flatten())\n",
    "\n",
    "# 전체 네트워크의 50%를 임의로 끊어버려서 뒤쪽으로 가는 순전파 양을 줄게끔함 # 효율적으로 과대적합을 막아줌\n",
    "# 새로운 parameter 생성x (존재는 하는데 계산만 안하는 것)\n",
    "model.add(layers.Dropout(0.5))\n",
    "\n",
    "# 새로운 parameter 생성 ==> (입력 수 6272 x 출력 수 512) + bias 512 = 3211776\n",
    "model.add(layers.Dense(512, activation='relu'))\n",
    "\n",
    "# 새로운 parameter 생성 ==> (입력 수 512 x 출력 수 1) + bias 1 = 513\n",
    "model.add(layers.Dense(1, activation='sigmoid'))"
   ]
  },
  {
   "cell_type": "code",
   "execution_count": 13,
   "id": "2b8716b4",
   "metadata": {},
   "outputs": [
    {
     "name": "stdout",
     "output_type": "stream",
     "text": [
      "Model: \"sequential\"\n",
      "_________________________________________________________________\n",
      " Layer (type)                Output Shape              Param #   \n",
      "=================================================================\n",
      " conv2d (Conv2D)             (None, 148, 148, 32)      896       \n",
      "                                                                 \n",
      " max_pooling2d (MaxPooling2D  (None, 74, 74, 32)       0         \n",
      " )                                                               \n",
      "                                                                 \n",
      " conv2d_1 (Conv2D)           (None, 72, 72, 64)        18496     \n",
      "                                                                 \n",
      " max_pooling2d_1 (MaxPooling  (None, 36, 36, 64)       0         \n",
      " 2D)                                                             \n",
      "                                                                 \n",
      " conv2d_2 (Conv2D)           (None, 34, 34, 128)       73856     \n",
      "                                                                 \n",
      " max_pooling2d_2 (MaxPooling  (None, 17, 17, 128)      0         \n",
      " 2D)                                                             \n",
      "                                                                 \n",
      " conv2d_3 (Conv2D)           (None, 15, 15, 128)       147584    \n",
      "                                                                 \n",
      " max_pooling2d_3 (MaxPooling  (None, 7, 7, 128)        0         \n",
      " 2D)                                                             \n",
      "                                                                 \n",
      " flatten (Flatten)           (None, 6272)              0         \n",
      "                                                                 \n",
      " dropout (Dropout)           (None, 6272)              0         \n",
      "                                                                 \n",
      " dense (Dense)               (None, 512)               3211776   \n",
      "                                                                 \n",
      " dense_1 (Dense)             (None, 1)                 513       \n",
      "                                                                 \n",
      "=================================================================\n",
      "Total params: 3,453,121\n",
      "Trainable params: 3,453,121\n",
      "Non-trainable params: 0\n",
      "_________________________________________________________________\n"
     ]
    }
   ],
   "source": [
    "model.summary()"
   ]
  },
  {
   "cell_type": "code",
   "execution_count": 14,
   "id": "a2475dcc",
   "metadata": {},
   "outputs": [],
   "source": [
    "# 모델의 실행 옵션을 설정 (손실함수) 2진분류니까 'binary_crossentropy'\n",
    "model.compile(loss='binary_crossentropy', optimizer='adam', metrics=['accuracy'])"
   ]
  },
  {
   "cell_type": "code",
   "execution_count": 15,
   "id": "77fdef33",
   "metadata": {},
   "outputs": [
    {
     "name": "stdout",
     "output_type": "stream",
     "text": [
      "Found 20000 images belonging to 2 classes.\n",
      "Found 5000 images belonging to 2 classes.\n"
     ]
    }
   ],
   "source": [
    "# 150x150을 어떻게 처리할것이냐\n",
    "from tensorflow.keras.preprocessing.image import ImageDataGenerator\n",
    "\n",
    "# 데이터의 입력 feature 값을 0~1로 맞춰줌\n",
    "train_datagen = ImageDataGenerator(rescale=1./255) # 1 나누기 255는 0이나오기 때문에 실수로 바꿔줘야함\n",
    "test_datagen = ImageDataGenerator(rescale=1./255)\n",
    "\n",
    "# flow_from_directory() 함수\n",
    "# 따로 레이블작업을 해줄 필요가 없음\n",
    "# target_size를 우리가 설정해준 만큼 알아서 잡아줌\n",
    "# batch_size도 여기서 알아서 설정가능\n",
    "train_generator = train_datagen.flow_from_directory(\n",
    "    train_dir,\n",
    "    target_size=(150, 150),\n",
    "    batch_size=20,\n",
    "    class_mode='binary' # 폴더가 cats dogs 두개니까 binary... 첫번째 cats를 0으로 dogs를 1로 알아서 잡아줌\n",
    ")\n",
    "\n",
    "validation_generator = test_datagen.flow_from_directory(\n",
    "    test_dir,\n",
    "    target_size=(150, 150),\n",
    "    batch_size=20,\n",
    "    class_mode='binary' # 폴더가 cats dogs 두개니까 binary... 첫번째 cats를 0으로 dogs를 1로 알아서 잡아줌\n",
    ")"
   ]
  },
  {
   "cell_type": "code",
   "execution_count": 16,
   "id": "1cfc5a36",
   "metadata": {},
   "outputs": [
    {
     "name": "stdout",
     "output_type": "stream",
     "text": [
      "Epoch 1/30\n",
      "1000/1000 [==============================] - 246s 245ms/step - loss: 0.6705 - accuracy: 0.5720 - val_loss: 0.6196 - val_accuracy: 0.6520\n",
      "Epoch 2/30\n",
      "1000/1000 [==============================] - 200s 200ms/step - loss: 0.5655 - accuracy: 0.7041 - val_loss: 0.4814 - val_accuracy: 0.7676\n",
      "Epoch 3/30\n",
      "1000/1000 [==============================] - 200s 200ms/step - loss: 0.4701 - accuracy: 0.7747 - val_loss: 0.4220 - val_accuracy: 0.8164\n",
      "Epoch 4/30\n",
      "1000/1000 [==============================] - 205s 205ms/step - loss: 0.4082 - accuracy: 0.8152 - val_loss: 0.3692 - val_accuracy: 0.8358\n",
      "Epoch 5/30\n",
      "1000/1000 [==============================] - 207s 207ms/step - loss: 0.3602 - accuracy: 0.8420 - val_loss: 0.3253 - val_accuracy: 0.8540\n",
      "Epoch 6/30\n",
      "1000/1000 [==============================] - 198s 198ms/step - loss: 0.3060 - accuracy: 0.8672 - val_loss: 0.3345 - val_accuracy: 0.8564\n",
      "Epoch 7/30\n",
      "1000/1000 [==============================] - 198s 197ms/step - loss: 0.2760 - accuracy: 0.8810 - val_loss: 0.2813 - val_accuracy: 0.8792\n",
      "Epoch 8/30\n",
      "1000/1000 [==============================] - 197s 197ms/step - loss: 0.2426 - accuracy: 0.8986 - val_loss: 0.2944 - val_accuracy: 0.8740\n",
      "Epoch 9/30\n",
      "1000/1000 [==============================] - 196s 196ms/step - loss: 0.2152 - accuracy: 0.9089 - val_loss: 0.3464 - val_accuracy: 0.8640\n",
      "Epoch 10/30\n",
      "1000/1000 [==============================] - 200s 200ms/step - loss: 0.1916 - accuracy: 0.9214 - val_loss: 0.2504 - val_accuracy: 0.8986\n",
      "Epoch 11/30\n",
      "1000/1000 [==============================] - 213s 213ms/step - loss: 0.1721 - accuracy: 0.9306 - val_loss: 0.2465 - val_accuracy: 0.8960\n",
      "Epoch 12/30\n",
      "1000/1000 [==============================] - 211s 211ms/step - loss: 0.1555 - accuracy: 0.9376 - val_loss: 0.2761 - val_accuracy: 0.8854\n",
      "Epoch 13/30\n",
      "1000/1000 [==============================] - 206s 206ms/step - loss: 0.1478 - accuracy: 0.9385 - val_loss: 0.2879 - val_accuracy: 0.8988\n",
      "Epoch 14/30\n",
      "1000/1000 [==============================] - 206s 206ms/step - loss: 0.1256 - accuracy: 0.9495 - val_loss: 0.2538 - val_accuracy: 0.9016\n",
      "Epoch 15/30\n",
      "1000/1000 [==============================] - 207s 207ms/step - loss: 0.1158 - accuracy: 0.9552 - val_loss: 0.2936 - val_accuracy: 0.8976\n",
      "Epoch 16/30\n",
      "1000/1000 [==============================] - 231s 231ms/step - loss: 0.0981 - accuracy: 0.9628 - val_loss: 0.2978 - val_accuracy: 0.8926\n",
      "Epoch 17/30\n",
      "1000/1000 [==============================] - 210s 210ms/step - loss: 0.0978 - accuracy: 0.9627 - val_loss: 0.2713 - val_accuracy: 0.9032\n",
      "Epoch 18/30\n",
      "1000/1000 [==============================] - 206s 206ms/step - loss: 0.0835 - accuracy: 0.9689 - val_loss: 0.3231 - val_accuracy: 0.8902\n",
      "Epoch 19/30\n",
      "1000/1000 [==============================] - 198s 198ms/step - loss: 0.0914 - accuracy: 0.9667 - val_loss: 0.2859 - val_accuracy: 0.8932\n",
      "Epoch 20/30\n",
      "1000/1000 [==============================] - 200s 200ms/step - loss: 0.0730 - accuracy: 0.9730 - val_loss: 0.2996 - val_accuracy: 0.9010\n",
      "Epoch 21/30\n",
      "1000/1000 [==============================] - 200s 200ms/step - loss: 0.0772 - accuracy: 0.9718 - val_loss: 0.3788 - val_accuracy: 0.8784\n",
      "Epoch 22/30\n",
      "1000/1000 [==============================] - 200s 200ms/step - loss: 0.0757 - accuracy: 0.9719 - val_loss: 0.3623 - val_accuracy: 0.8858\n",
      "Epoch 23/30\n",
      "1000/1000 [==============================] - 200s 199ms/step - loss: 0.0773 - accuracy: 0.9735 - val_loss: 0.3141 - val_accuracy: 0.8882\n",
      "Epoch 24/30\n",
      "1000/1000 [==============================] - 199s 199ms/step - loss: 0.0684 - accuracy: 0.9752 - val_loss: 0.3538 - val_accuracy: 0.8910\n",
      "Epoch 25/30\n",
      "1000/1000 [==============================] - 200s 200ms/step - loss: 0.0637 - accuracy: 0.9775 - val_loss: 0.3152 - val_accuracy: 0.9014\n",
      "Epoch 26/30\n",
      "1000/1000 [==============================] - 199s 199ms/step - loss: 0.0590 - accuracy: 0.9789 - val_loss: 0.3284 - val_accuracy: 0.9030\n",
      "Epoch 27/30\n",
      "1000/1000 [==============================] - 200s 200ms/step - loss: 0.0635 - accuracy: 0.9779 - val_loss: 0.3134 - val_accuracy: 0.9006\n",
      "Epoch 28/30\n",
      "1000/1000 [==============================] - 200s 200ms/step - loss: 0.0581 - accuracy: 0.9798 - val_loss: 0.3320 - val_accuracy: 0.8960\n",
      "Epoch 29/30\n",
      "1000/1000 [==============================] - 199s 199ms/step - loss: 0.0522 - accuracy: 0.9809 - val_loss: 0.3542 - val_accuracy: 0.8984\n",
      "Epoch 30/30\n",
      "1000/1000 [==============================] - 199s 199ms/step - loss: 0.0517 - accuracy: 0.9815 - val_loss: 0.3831 - val_accuracy: 0.8956\n"
     ]
    }
   ],
   "source": [
    "history = model.fit(\n",
    "    train_generator,\n",
    "    epochs=30,\n",
    "    validation_data=validation_generator\n",
    ")"
   ]
  },
  {
   "cell_type": "code",
   "execution_count": 17,
   "id": "1e297c8f",
   "metadata": {},
   "outputs": [
    {
     "data": {
      "image/png": "[encoded data removed]",
      "text/plain": [
       "<Figure size 640x480 with 1 Axes>"
      ]
     },
     "metadata": {},
     "output_type": "display_data"
    },
    {
     "data": {
      "image/png": "[encoded data removed]",
      "text/plain": [
       "<Figure size 640x480 with 1 Axes>"
      ]
     },
     "metadata": {},
     "output_type": "display_data"
    }
   ],
   "source": [
    "acc = history.history['accuracy']\n",
    "val_acc = history.history['val_accuracy']\n",
    "loss = history.history['loss']\n",
    "val_loss = history.history['val_loss']\n",
    "\n",
    "epochs = range(len(acc))\n",
    "\n",
    "plt.plot(epochs, acc, 'ro', label='Training acc')\n",
    "plt.plot(epochs, val_acc, 'b', label='Validation acc')\n",
    "plt.title('Training and validation accuracy')\n",
    "plt.legend()\n",
    "\n",
    "plt.figure()\n",
    "\n",
    "plt.plot(epochs, loss, 'ro', label='Training loss')\n",
    "plt.plot(epochs, val_loss, 'b', label='Validation loss')\n",
    "plt.title('Training and validation loss')\n",
    "plt.legend()\n",
    "\n",
    "plt.show()"
   ]
  }
 ],
 "metadata": {
  "kernelspec": {
   "display_name": "Python 3 (ipykernel)",
   "language": "python",
   "name": "python3"
  },
  "language_info": {
   "codemirror_mode": {
    "name": "ipython",
    "version": 3
   },
   "file_extension": ".py",
   "mimetype": "text/x-python",
   "name": "python",
   "nbconvert_exporter": "python",
   "pygments_lexer": "ipython3",
   "version": "3.8.15"
  }
 },
 "nbformat": 4,
 "nbformat_minor": 5
}
