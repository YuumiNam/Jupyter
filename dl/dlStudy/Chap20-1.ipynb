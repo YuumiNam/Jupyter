{
 "cells": [
  {
   "cell_type": "markdown",
   "id": "e98509b4",
   "metadata": {},
   "source": [
    "# 모두의 딥러닝\n",
    "## 20장 전이 학습을 통해 딥러닝의 성능 극대화하기"
   ]
  },
  {
   "cell_type": "markdown",
   "id": "c547503a",
   "metadata": {},
   "source": [
    "- 이미지 같은경우 충분한 학습데이터를 모으는것이 쉽지않음\n",
    "- 이럴때 쓸수있는 방법을 두가지를 알아볼것"
   ]
  },
  {
   "cell_type": "markdown",
   "id": "3266059f",
   "metadata": {},
   "source": [
    "- 각 data폴더안에 train, test폴더에\n",
    "- normal 정상뇌사진 ad 치매뇌사진이\n",
    "- train 80장씩 test 60장씩 있음"
   ]
  },
  {
   "cell_type": "code",
   "execution_count": 1,
   "id": "f0d449c9",
   "metadata": {},
   "outputs": [],
   "source": [
    "from tensorflow.keras import models, layers, optimizers\n",
    "from tensorflow.keras.preprocessing.image import ImageDataGenerator\n",
    "from tensorflow.keras.callbacks import EarlyStopping\n",
    "\n",
    "import numpy as np\n",
    "import matplotlib.pyplot as plt\n",
    "import os\n",
    "\n",
    "os.environ['KMP_DUPLICATE_LIB_OK']=\"TRUE\""
   ]
  },
  {
   "cell_type": "code",
   "execution_count": 2,
   "id": "1f674965",
   "metadata": {},
   "outputs": [],
   "source": [
    "BATCH_SIZE = 5"
   ]
  },
  {
   "cell_type": "code",
   "execution_count": 3,
   "id": "6da82391",
   "metadata": {},
   "outputs": [
    {
     "name": "stdout",
     "output_type": "stream",
     "text": [
      "Found 160 images belonging to 2 classes.\n"
     ]
    }
   ],
   "source": [
    "# 특징을 미묘하게 바꿔서\n",
    "# 이미지 데이터의 수를 확장할 때 효과적으로 사용할 수 있다\n",
    "train_datagen = ImageDataGenerator(rescale=1./255,          # 주어진 이미지의 크기를 설정합니다.\n",
    "                                  horizontal_flip=True,     # 수평 대칭 이미지를 50% 확률로 만들어 추가합니다.\n",
    "                                  width_shift_range=0.1,    # 전체 크기의 15% 범위에서 좌우로 이동합니다.\n",
    "                                  height_shift_range=0.1,   # 마찬가지로 위, 아래로 이동합니다.\n",
    "                                  #rotation_range=5,        # 정해진 각도만큼 회전시킵니다.\n",
    "                                  #shear_range=0.7,         # 좌표 하나를 고정시키고 나머지를 이동시킵니다.\n",
    "                                  #zoom_range=1.2,          # 확대 또는 축소시킵니다.\n",
    "                                  #vertical_flip=True,      # 수직 대칭 이미지를 만듭니다.\n",
    "                                  #fill_mode='nearest'      # 빈 공간을 채우는 방법입니다. nearest 옵션은 가장 비슷한 색으로 채우게 됩니다.\n",
    "                                  )\n",
    "\n",
    "train_generator = train_datagen.flow_from_directory(\n",
    "       './data/train',   # 학습셋이 있는 폴더의 위치\n",
    "       target_size=(150, 150), # 이미지크기\n",
    "       batch_size=BATCH_SIZE,\n",
    "       class_mode='binary') # 치매/정상 이진 분류이므로 바이너리 모드로 실행"
   ]
  },
  {
   "cell_type": "code",
   "execution_count": 4,
   "id": "33a5bb63",
   "metadata": {},
   "outputs": [
    {
     "name": "stdout",
     "output_type": "stream",
     "text": [
      "Found 120 images belonging to 2 classes.\n"
     ]
    }
   ],
   "source": [
    "test_datagen = ImageDataGenerator(rescale=1./255)  \n",
    "\n",
    "test_generator = test_datagen.flow_from_directory(\n",
    "       './data/test',   # 테스트셋이 있는 폴더의 위치\n",
    "       target_size=(150, 150),\n",
    "       batch_size=BATCH_SIZE,\n",
    "       class_mode='binary')"
   ]
  },
  {
   "cell_type": "code",
   "execution_count": 5,
   "id": "1c328d81",
   "metadata": {
    "scrolled": true
   },
   "outputs": [
    {
     "name": "stdout",
     "output_type": "stream",
     "text": [
      "Model: \"sequential\"\n",
      "_________________________________________________________________\n",
      " Layer (type)                Output Shape              Param #   \n",
      "=================================================================\n",
      " conv2d (Conv2D)             (None, 148, 148, 32)      896       \n",
      "                                                                 \n",
      " activation (Activation)     (None, 148, 148, 32)      0         \n",
      "                                                                 \n",
      " max_pooling2d (MaxPooling2D  (None, 74, 74, 32)       0         \n",
      " )                                                               \n",
      "                                                                 \n",
      " conv2d_1 (Conv2D)           (None, 72, 72, 32)        9248      \n",
      "                                                                 \n",
      " activation_1 (Activation)   (None, 72, 72, 32)        0         \n",
      "                                                                 \n",
      " max_pooling2d_1 (MaxPooling  (None, 36, 36, 32)       0         \n",
      " 2D)                                                             \n",
      "                                                                 \n",
      " conv2d_2 (Conv2D)           (None, 34, 34, 64)        18496     \n",
      "                                                                 \n",
      " activation_2 (Activation)   (None, 34, 34, 64)        0         \n",
      "                                                                 \n",
      " max_pooling2d_2 (MaxPooling  (None, 17, 17, 64)       0         \n",
      " 2D)                                                             \n",
      "                                                                 \n",
      " flatten (Flatten)           (None, 18496)             0         \n",
      "                                                                 \n",
      " dense (Dense)               (None, 64)                1183808   \n",
      "                                                                 \n",
      " activation_3 (Activation)   (None, 64)                0         \n",
      "                                                                 \n",
      " dropout (Dropout)           (None, 64)                0         \n",
      "                                                                 \n",
      " dense_1 (Dense)             (None, 1)                 65        \n",
      "                                                                 \n",
      " activation_4 (Activation)   (None, 1)                 0         \n",
      "                                                                 \n",
      "=================================================================\n",
      "Total params: 1,212,513\n",
      "Trainable params: 1,212,513\n",
      "Non-trainable params: 0\n",
      "_________________________________________________________________\n"
     ]
    }
   ],
   "source": [
    "model = models.Sequential()\n",
    "model.add(layers.Conv2D(32, (3, 3), input_shape=(150, 150, 3)))\n",
    "model.add(layers.Activation('relu'))\n",
    "model.add(layers.MaxPooling2D(pool_size=(2, 2)))\n",
    "\n",
    "model.add(layers.Conv2D(32, (3, 3)))\n",
    "model.add(layers.Activation('relu'))\n",
    "model.add(layers.MaxPooling2D(pool_size=(2, 2)))\n",
    "\n",
    "model.add(layers.Conv2D(64, (3, 3)))\n",
    "model.add(layers.Activation('relu'))\n",
    "model.add(layers.MaxPooling2D(pool_size=(2, 2)))\n",
    "\n",
    "model.add(layers.Flatten())\n",
    "model.add(layers.Dense(64))\n",
    "model.add(layers.Activation('relu'))\n",
    "model.add(layers.Dropout(0.5))\n",
    "model.add(layers.Dense(1))\n",
    "model.add(layers.Activation('sigmoid'))\n",
    "\n",
    "model.summary()"
   ]
  },
  {
   "cell_type": "code",
   "execution_count": 6,
   "id": "a0be7654",
   "metadata": {},
   "outputs": [],
   "source": [
    "model.compile(loss='binary_crossentropy', \n",
    "              # 디폴트 learing_rate는 0.001 보폭을 더 줄인거임\n",
    "              optimizer=optimizers.Adam(learning_rate=0.0002), \n",
    "              metrics=['accuracy'])"
   ]
  },
  {
   "cell_type": "code",
   "execution_count": 7,
   "id": "48a780d4",
   "metadata": {},
   "outputs": [],
   "source": [
    "early_stopping = EarlyStopping(monitor='val_loss', patience=5)"
   ]
  },
  {
   "cell_type": "code",
   "execution_count": null,
   "id": "6749dc3c",
   "metadata": {},
   "outputs": [
    {
     "name": "stdout",
     "output_type": "stream",
     "text": [
      "Epoch 1/100\n",
      "32/32 [==============================] - 3s 69ms/step - loss: 0.7158 - accuracy: 0.4563 - val_loss: 0.6877 - val_accuracy: 0.5000\n",
      "Epoch 2/100\n",
      "32/32 [==============================] - 2s 62ms/step - loss: 0.6930 - accuracy: 0.5063 - val_loss: 0.6832 - val_accuracy: 0.6833\n",
      "Epoch 3/100\n",
      "32/32 [==============================] - 2s 60ms/step - loss: 0.6805 - accuracy: 0.6125 - val_loss: 0.6845 - val_accuracy: 0.5000\n",
      "Epoch 4/100\n",
      "32/32 [==============================] - 2s 59ms/step - loss: 0.6710 - accuracy: 0.6062 - val_loss: 0.6509 - val_accuracy: 0.5583\n",
      "Epoch 5/100\n",
      "32/32 [==============================] - 2s 60ms/step - loss: 0.6498 - accuracy: 0.6750 - val_loss: 0.6600 - val_accuracy: 0.5167\n",
      "Epoch 6/100\n",
      "32/32 [==============================] - 2s 60ms/step - loss: 0.6101 - accuracy: 0.7250 - val_loss: 0.7624 - val_accuracy: 0.5000\n",
      "Epoch 7/100\n",
      "32/32 [==============================] - 2s 59ms/step - loss: 0.6196 - accuracy: 0.6625 - val_loss: 0.6268 - val_accuracy: 0.5917\n",
      "Epoch 8/100\n",
      "32/32 [==============================] - 2s 58ms/step - loss: 0.5960 - accuracy: 0.7125 - val_loss: 0.5008 - val_accuracy: 0.8250\n",
      "Epoch 9/100\n",
      "32/32 [==============================] - 2s 59ms/step - loss: 0.4815 - accuracy: 0.8250 - val_loss: 0.4405 - val_accuracy: 0.8000\n",
      "Epoch 10/100\n",
      "32/32 [==============================] - 2s 64ms/step - loss: 0.4791 - accuracy: 0.7937 - val_loss: 0.3577 - val_accuracy: 0.9167\n",
      "Epoch 11/100\n",
      "32/32 [==============================] - 2s 62ms/step - loss: 0.3107 - accuracy: 0.9125 - val_loss: 0.2621 - val_accuracy: 0.9000\n",
      "Epoch 12/100\n",
      "32/32 [==============================] - 2s 60ms/step - loss: 0.3102 - accuracy: 0.8750 - val_loss: 0.2284 - val_accuracy: 0.9417\n",
      "Epoch 13/100\n",
      "32/32 [==============================] - 2s 58ms/step - loss: 0.2281 - accuracy: 0.9312 - val_loss: 0.1792 - val_accuracy: 0.9500\n",
      "Epoch 14/100\n",
      "32/32 [==============================] - 2s 56ms/step - loss: 0.2306 - accuracy: 0.9000 - val_loss: 0.6192 - val_accuracy: 0.7167\n",
      "Epoch 15/100\n",
      "32/32 [==============================] - 2s 58ms/step - loss: 0.2566 - accuracy: 0.9250 - val_loss: 0.1636 - val_accuracy: 0.9417\n",
      "Epoch 16/100\n",
      "32/32 [==============================] - 2s 57ms/step - loss: 0.2039 - accuracy: 0.9250 - val_loss: 0.1249 - val_accuracy: 0.9667\n",
      "Epoch 17/100\n",
      "32/32 [==============================] - 2s 58ms/step - loss: 0.1810 - accuracy: 0.9438 - val_loss: 0.1217 - val_accuracy: 0.9667\n",
      "Epoch 18/100\n",
      "32/32 [==============================] - 2s 59ms/step - loss: 0.1667 - accuracy: 0.9438 - val_loss: 0.1088 - val_accuracy: 0.9583\n",
      "Epoch 19/100\n",
      "32/32 [==============================] - 2s 58ms/step - loss: 0.1052 - accuracy: 0.9812 - val_loss: 0.1226 - val_accuracy: 0.9583\n",
      "Epoch 20/100\n",
      "32/32 [==============================] - 2s 57ms/step - loss: 0.1241 - accuracy: 0.9563 - val_loss: 0.1039 - val_accuracy: 0.9583\n",
      "Epoch 21/100\n",
      "32/32 [==============================] - 2s 58ms/step - loss: 0.1150 - accuracy: 0.9563 - val_loss: 0.1034 - val_accuracy: 0.9500\n",
      "Epoch 22/100\n",
      "32/32 [==============================] - 2s 58ms/step - loss: 0.0825 - accuracy: 0.9688 - val_loss: 0.0715 - val_accuracy: 0.9750\n",
      "Epoch 23/100\n",
      "32/32 [==============================] - 2s 61ms/step - loss: 0.0780 - accuracy: 0.9688 - val_loss: 0.0839 - val_accuracy: 0.9750\n",
      "Epoch 24/100\n",
      "16/32 [==============>...............] - ETA: 0s - loss: 0.0934 - accuracy: 0.9875"
     ]
    }
   ],
   "source": [
    "history = model.fit(\n",
    "    train_generator, epochs=100, \n",
    "    validation_data=test_generator, \n",
    "    callbacks=[early_stopping]\n",
    ")"
   ]
  },
  {
   "cell_type": "code",
   "execution_count": null,
   "id": "b3e5ba34",
   "metadata": {},
   "outputs": [],
   "source": [
    "y_vloss = history.history['val_loss']\n",
    "y_loss = history.history['loss']\n",
    "\n",
    "# 그래프로 표현\n",
    "x_len = np.arange(len(y_loss))\n",
    "plt.plot(x_len, y_vloss, marker='.', c=\"red\", label='Testset_loss')\n",
    "plt.plot(x_len, y_loss, marker='.', c=\"blue\", label='Trainset_loss')\n",
    "\n",
    "# 그래프에 그리드를 주고 레이블을 표시\n",
    "plt.legend(loc='upper right')\n",
    "plt.grid()\n",
    "plt.xlabel('epoch')\n",
    "plt.ylabel('loss')\n",
    "plt.show()"
   ]
  },
  {
   "cell_type": "code",
   "execution_count": null,
   "id": "7f27070e",
   "metadata": {},
   "outputs": [],
   "source": []
  }
 ],
 "metadata": {
  "kernelspec": {
   "display_name": "Python 3 (ipykernel)",
   "language": "python",
   "name": "python3"
  },
  "language_info": {
   "codemirror_mode": {
    "name": "ipython",
    "version": 3
   },
   "file_extension": ".py",
   "mimetype": "text/x-python",
   "name": "python",
   "nbconvert_exporter": "python",
   "pygments_lexer": "ipython3",
   "version": "3.8.15"
  }
 },
 "nbformat": 4,
 "nbformat_minor": 5
}
