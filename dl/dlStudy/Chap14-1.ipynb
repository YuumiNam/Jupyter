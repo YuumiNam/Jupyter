{
 "cells": [
  {
   "cell_type": "markdown",
   "id": "66a46ae5",
   "metadata": {},
   "source": [
    "# 모두의 딥러닝 개정 3판\n",
    "## 14장 모델 성능 향상시키기"
   ]
  },
  {
   "cell_type": "markdown",
   "id": "40955cc2",
   "metadata": {},
   "source": [
    "- 샘플이 전체 6,497개 있습니다. 모두 속성이 12개 기록되어 있고 13번째 열에 클래스가 준비되어 있습니다."
   ]
  },
  {
   "cell_type": "code",
   "execution_count": 1,
   "id": "d9cf9e24",
   "metadata": {},
   "outputs": [],
   "source": [
    "import pandas as pd\n",
    "from tensorflow.keras import models, layers\n",
    "from sklearn.model_selection import train_test_split"
   ]
  },
  {
   "cell_type": "code",
   "execution_count": 2,
   "id": "732d6ce4",
   "metadata": {},
   "outputs": [
    {
     "data": {
      "text/html": [
       "<div>\n",
       "<style scoped>\n",
       "    .dataframe tbody tr th:only-of-type {\n",
       "        vertical-align: middle;\n",
       "    }\n",
       "\n",
       "    .dataframe tbody tr th {\n",
       "        vertical-align: top;\n",
       "    }\n",
       "\n",
       "    .dataframe thead th {\n",
       "        text-align: right;\n",
       "    }\n",
       "</style>\n",
       "<table border=\"1\" class=\"dataframe\">\n",
       "  <thead>\n",
       "    <tr style=\"text-align: right;\">\n",
       "      <th></th>\n",
       "      <th>0</th>\n",
       "      <th>1</th>\n",
       "      <th>2</th>\n",
       "      <th>3</th>\n",
       "      <th>4</th>\n",
       "      <th>5</th>\n",
       "      <th>6</th>\n",
       "      <th>7</th>\n",
       "      <th>8</th>\n",
       "      <th>9</th>\n",
       "      <th>10</th>\n",
       "      <th>11</th>\n",
       "      <th>12</th>\n",
       "    </tr>\n",
       "  </thead>\n",
       "  <tbody>\n",
       "    <tr>\n",
       "      <th>0</th>\n",
       "      <td>7.4</td>\n",
       "      <td>0.70</td>\n",
       "      <td>0.00</td>\n",
       "      <td>1.9</td>\n",
       "      <td>0.076</td>\n",
       "      <td>11.0</td>\n",
       "      <td>34.0</td>\n",
       "      <td>0.9978</td>\n",
       "      <td>3.51</td>\n",
       "      <td>0.56</td>\n",
       "      <td>9.4</td>\n",
       "      <td>5</td>\n",
       "      <td>1</td>\n",
       "    </tr>\n",
       "    <tr>\n",
       "      <th>1</th>\n",
       "      <td>7.8</td>\n",
       "      <td>0.88</td>\n",
       "      <td>0.00</td>\n",
       "      <td>2.6</td>\n",
       "      <td>0.098</td>\n",
       "      <td>25.0</td>\n",
       "      <td>67.0</td>\n",
       "      <td>0.9968</td>\n",
       "      <td>3.20</td>\n",
       "      <td>0.68</td>\n",
       "      <td>9.8</td>\n",
       "      <td>5</td>\n",
       "      <td>1</td>\n",
       "    </tr>\n",
       "    <tr>\n",
       "      <th>2</th>\n",
       "      <td>7.8</td>\n",
       "      <td>0.76</td>\n",
       "      <td>0.04</td>\n",
       "      <td>2.3</td>\n",
       "      <td>0.092</td>\n",
       "      <td>15.0</td>\n",
       "      <td>54.0</td>\n",
       "      <td>0.9970</td>\n",
       "      <td>3.26</td>\n",
       "      <td>0.65</td>\n",
       "      <td>9.8</td>\n",
       "      <td>5</td>\n",
       "      <td>1</td>\n",
       "    </tr>\n",
       "    <tr>\n",
       "      <th>3</th>\n",
       "      <td>11.2</td>\n",
       "      <td>0.28</td>\n",
       "      <td>0.56</td>\n",
       "      <td>1.9</td>\n",
       "      <td>0.075</td>\n",
       "      <td>17.0</td>\n",
       "      <td>60.0</td>\n",
       "      <td>0.9980</td>\n",
       "      <td>3.16</td>\n",
       "      <td>0.58</td>\n",
       "      <td>9.8</td>\n",
       "      <td>6</td>\n",
       "      <td>1</td>\n",
       "    </tr>\n",
       "    <tr>\n",
       "      <th>4</th>\n",
       "      <td>7.4</td>\n",
       "      <td>0.70</td>\n",
       "      <td>0.00</td>\n",
       "      <td>1.9</td>\n",
       "      <td>0.076</td>\n",
       "      <td>11.0</td>\n",
       "      <td>34.0</td>\n",
       "      <td>0.9978</td>\n",
       "      <td>3.51</td>\n",
       "      <td>0.56</td>\n",
       "      <td>9.4</td>\n",
       "      <td>5</td>\n",
       "      <td>1</td>\n",
       "    </tr>\n",
       "  </tbody>\n",
       "</table>\n",
       "</div>"
      ],
      "text/plain": [
       "     0     1     2    3      4     5     6       7     8     9    10  11  12\n",
       "0   7.4  0.70  0.00  1.9  0.076  11.0  34.0  0.9978  3.51  0.56  9.4   5   1\n",
       "1   7.8  0.88  0.00  2.6  0.098  25.0  67.0  0.9968  3.20  0.68  9.8   5   1\n",
       "2   7.8  0.76  0.04  2.3  0.092  15.0  54.0  0.9970  3.26  0.65  9.8   5   1\n",
       "3  11.2  0.28  0.56  1.9  0.075  17.0  60.0  0.9980  3.16  0.58  9.8   6   1\n",
       "4   7.4  0.70  0.00  1.9  0.076  11.0  34.0  0.9978  3.51  0.56  9.4   5   1"
      ]
     },
     "execution_count": 2,
     "metadata": {},
     "output_type": "execute_result"
    }
   ],
   "source": [
    "# 준비된 데이터 가져오기\n",
    "df = pd.read_csv('data/wine.csv', header=None);\n",
    "df.head()"
   ]
  },
  {
   "cell_type": "code",
   "execution_count": 3,
   "id": "c4c25e58",
   "metadata": {},
   "outputs": [],
   "source": [
    "# 와인의 속성을 X로 와인의 분류를 y로 저장\n",
    "X = df.iloc[:, :12];\n",
    "y = df.iloc[:, 12];"
   ]
  },
  {
   "cell_type": "code",
   "execution_count": 4,
   "id": "389e32ed",
   "metadata": {},
   "outputs": [],
   "source": [
    "# 학습셋과 테스트셋으로 나눔\n",
    "X_train, X_test, y_train, y_test = \\\n",
    "train_test_split(X, y, test_size=0.2, shuffle=True)"
   ]
  },
  {
   "cell_type": "code",
   "execution_count": 5,
   "id": "f821adb7",
   "metadata": {},
   "outputs": [],
   "source": [
    "# 모델구조를 설정\n",
    "model = models.Sequential();\n",
    "model.add(layers.Dense(30, input_dim=12, activation='relu'))\n",
    "model.add(layers.Dense(12, activation='relu'))\n",
    "model.add(layers.Dense(8, activation='relu'))\n",
    "model.add(layers.Dense(1, activation='sigmoid')) # hidden layer가 2개 들어간 모델"
   ]
  },
  {
   "cell_type": "code",
   "execution_count": 7,
   "id": "b8a0f002",
   "metadata": {},
   "outputs": [
    {
     "name": "stdout",
     "output_type": "stream",
     "text": [
      "Model: \"sequential\"\n",
      "_________________________________________________________________\n",
      " Layer (type)                Output Shape              Param #   \n",
      "=================================================================\n",
      " dense (Dense)               (None, 30)                390       \n",
      "                                                                 \n",
      " dense_1 (Dense)             (None, 12)                372       \n",
      "                                                                 \n",
      " dense_2 (Dense)             (None, 8)                 104       \n",
      "                                                                 \n",
      " dense_3 (Dense)             (None, 1)                 9         \n",
      "                                                                 \n",
      "=================================================================\n",
      "Total params: 875\n",
      "Trainable params: 875\n",
      "Non-trainable params: 0\n",
      "_________________________________________________________________\n"
     ]
    }
   ],
   "source": [
    "model.summary()"
   ]
  },
  {
   "cell_type": "code",
   "execution_count": 10,
   "id": "13d4997b",
   "metadata": {},
   "outputs": [
    {
     "name": "stdout",
     "output_type": "stream",
     "text": [
      "Epoch 1/50\n"
     ]
    },
    {
     "name": "stderr",
     "output_type": "stream",
     "text": [
      "C:\\Users\\BIT\\miniconda3\\envs\\ml-env\\lib\\site-packages\\keras\\engine\\data_adapter.py:1699: FutureWarning: The behavior of `series[i:j]` with an integer-dtype index is deprecated. In a future version, this will be treated as *label-based* indexing, consistent with e.g. `series[i]` lookups. To retain the old behavior, use `series.iloc[i:j]`. To get the future behavior, use `series.loc[i:j]`.\n",
      "  return t[start:end]\n"
     ]
    },
    {
     "name": "stdout",
     "output_type": "stream",
     "text": [
      "8/8 [==============================] - 1s 31ms/step - loss: 0.1898 - accuracy: 0.9356 - val_loss: 0.2217 - val_accuracy: 0.9231\n",
      "Epoch 2/50\n",
      "8/8 [==============================] - 0s 5ms/step - loss: 0.1953 - accuracy: 0.9328 - val_loss: 0.2010 - val_accuracy: 0.9269\n",
      "Epoch 3/50\n",
      "8/8 [==============================] - 0s 5ms/step - loss: 0.1898 - accuracy: 0.9376 - val_loss: 0.1997 - val_accuracy: 0.9315\n",
      "Epoch 4/50\n",
      "8/8 [==============================] - 0s 5ms/step - loss: 0.1837 - accuracy: 0.9361 - val_loss: 0.1944 - val_accuracy: 0.9300\n",
      "Epoch 5/50\n",
      "8/8 [==============================] - 0s 6ms/step - loss: 0.1821 - accuracy: 0.9392 - val_loss: 0.1916 - val_accuracy: 0.9300\n",
      "Epoch 6/50\n",
      "8/8 [==============================] - 0s 5ms/step - loss: 0.1803 - accuracy: 0.9405 - val_loss: 0.1921 - val_accuracy: 0.9323\n",
      "Epoch 7/50\n",
      "8/8 [==============================] - 0s 5ms/step - loss: 0.1786 - accuracy: 0.9374 - val_loss: 0.1893 - val_accuracy: 0.9331\n",
      "Epoch 8/50\n",
      "8/8 [==============================] - 0s 5ms/step - loss: 0.1766 - accuracy: 0.9382 - val_loss: 0.1862 - val_accuracy: 0.9338\n",
      "Epoch 9/50\n",
      "8/8 [==============================] - 0s 5ms/step - loss: 0.1747 - accuracy: 0.9392 - val_loss: 0.1849 - val_accuracy: 0.9346\n",
      "Epoch 10/50\n",
      "8/8 [==============================] - 0s 5ms/step - loss: 0.1729 - accuracy: 0.9397 - val_loss: 0.1837 - val_accuracy: 0.9346\n",
      "Epoch 11/50\n",
      "8/8 [==============================] - 0s 5ms/step - loss: 0.1711 - accuracy: 0.9392 - val_loss: 0.1804 - val_accuracy: 0.9377\n",
      "Epoch 12/50\n",
      "8/8 [==============================] - 0s 5ms/step - loss: 0.1694 - accuracy: 0.9407 - val_loss: 0.1792 - val_accuracy: 0.9385\n",
      "Epoch 13/50\n",
      "8/8 [==============================] - 0s 6ms/step - loss: 0.1686 - accuracy: 0.9407 - val_loss: 0.1782 - val_accuracy: 0.9354\n",
      "Epoch 14/50\n",
      "8/8 [==============================] - 0s 7ms/step - loss: 0.1674 - accuracy: 0.9407 - val_loss: 0.1800 - val_accuracy: 0.9408\n",
      "Epoch 15/50\n",
      "8/8 [==============================] - 0s 6ms/step - loss: 0.1650 - accuracy: 0.9400 - val_loss: 0.1733 - val_accuracy: 0.9354\n",
      "Epoch 16/50\n",
      "8/8 [==============================] - 0s 6ms/step - loss: 0.1640 - accuracy: 0.9410 - val_loss: 0.1721 - val_accuracy: 0.9369\n",
      "Epoch 17/50\n",
      "8/8 [==============================] - 0s 5ms/step - loss: 0.1623 - accuracy: 0.9412 - val_loss: 0.1768 - val_accuracy: 0.9415\n",
      "Epoch 18/50\n",
      "8/8 [==============================] - 0s 5ms/step - loss: 0.1622 - accuracy: 0.9420 - val_loss: 0.1695 - val_accuracy: 0.9408\n",
      "Epoch 19/50\n",
      "8/8 [==============================] - 0s 5ms/step - loss: 0.1593 - accuracy: 0.9423 - val_loss: 0.1674 - val_accuracy: 0.9385\n",
      "Epoch 20/50\n",
      "8/8 [==============================] - 0s 6ms/step - loss: 0.1577 - accuracy: 0.9428 - val_loss: 0.1669 - val_accuracy: 0.9408\n",
      "Epoch 21/50\n",
      "8/8 [==============================] - 0s 6ms/step - loss: 0.1567 - accuracy: 0.9430 - val_loss: 0.1644 - val_accuracy: 0.9400\n",
      "Epoch 22/50\n",
      "8/8 [==============================] - 0s 5ms/step - loss: 0.1548 - accuracy: 0.9430 - val_loss: 0.1668 - val_accuracy: 0.9446\n",
      "Epoch 23/50\n",
      "8/8 [==============================] - 0s 5ms/step - loss: 0.1539 - accuracy: 0.9443 - val_loss: 0.1620 - val_accuracy: 0.9408\n",
      "Epoch 24/50\n",
      "8/8 [==============================] - 0s 5ms/step - loss: 0.1527 - accuracy: 0.9446 - val_loss: 0.1616 - val_accuracy: 0.9438\n",
      "Epoch 25/50\n",
      "8/8 [==============================] - 0s 5ms/step - loss: 0.1507 - accuracy: 0.9456 - val_loss: 0.1586 - val_accuracy: 0.9446\n",
      "Epoch 26/50\n",
      "8/8 [==============================] - 0s 5ms/step - loss: 0.1502 - accuracy: 0.9456 - val_loss: 0.1568 - val_accuracy: 0.9431\n",
      "Epoch 27/50\n",
      "8/8 [==============================] - 0s 5ms/step - loss: 0.1503 - accuracy: 0.9456 - val_loss: 0.1627 - val_accuracy: 0.9454\n",
      "Epoch 28/50\n",
      "8/8 [==============================] - 0s 7ms/step - loss: 0.1483 - accuracy: 0.9453 - val_loss: 0.1534 - val_accuracy: 0.9462\n",
      "Epoch 29/50\n",
      "8/8 [==============================] - 0s 6ms/step - loss: 0.1486 - accuracy: 0.9464 - val_loss: 0.1534 - val_accuracy: 0.9477\n",
      "Epoch 30/50\n",
      "8/8 [==============================] - 0s 5ms/step - loss: 0.1469 - accuracy: 0.9482 - val_loss: 0.1510 - val_accuracy: 0.9462\n",
      "Epoch 31/50\n",
      "8/8 [==============================] - 0s 6ms/step - loss: 0.1453 - accuracy: 0.9464 - val_loss: 0.1562 - val_accuracy: 0.9492\n",
      "Epoch 32/50\n",
      "8/8 [==============================] - 0s 5ms/step - loss: 0.1426 - accuracy: 0.9464 - val_loss: 0.1490 - val_accuracy: 0.9477\n",
      "Epoch 33/50\n",
      "8/8 [==============================] - 0s 6ms/step - loss: 0.1405 - accuracy: 0.9474 - val_loss: 0.1468 - val_accuracy: 0.9485\n",
      "Epoch 34/50\n",
      "8/8 [==============================] - 0s 6ms/step - loss: 0.1394 - accuracy: 0.9477 - val_loss: 0.1491 - val_accuracy: 0.9485\n",
      "Epoch 35/50\n",
      "8/8 [==============================] - 0s 6ms/step - loss: 0.1397 - accuracy: 0.9482 - val_loss: 0.1480 - val_accuracy: 0.9500\n",
      "Epoch 36/50\n",
      "8/8 [==============================] - 0s 5ms/step - loss: 0.1441 - accuracy: 0.9459 - val_loss: 0.1429 - val_accuracy: 0.9515\n",
      "Epoch 37/50\n",
      "8/8 [==============================] - 0s 6ms/step - loss: 0.1402 - accuracy: 0.9474 - val_loss: 0.1542 - val_accuracy: 0.9492\n",
      "Epoch 38/50\n",
      "8/8 [==============================] - 0s 6ms/step - loss: 0.1359 - accuracy: 0.9492 - val_loss: 0.1432 - val_accuracy: 0.9500\n",
      "Epoch 39/50\n",
      "8/8 [==============================] - 0s 5ms/step - loss: 0.1369 - accuracy: 0.9489 - val_loss: 0.1387 - val_accuracy: 0.9508\n",
      "Epoch 40/50\n",
      "8/8 [==============================] - 0s 5ms/step - loss: 0.1319 - accuracy: 0.9500 - val_loss: 0.1384 - val_accuracy: 0.9523\n",
      "Epoch 41/50\n",
      "8/8 [==============================] - 0s 6ms/step - loss: 0.1307 - accuracy: 0.9505 - val_loss: 0.1363 - val_accuracy: 0.9515\n",
      "Epoch 42/50\n",
      "8/8 [==============================] - 0s 5ms/step - loss: 0.1294 - accuracy: 0.9500 - val_loss: 0.1356 - val_accuracy: 0.9531\n",
      "Epoch 43/50\n",
      "8/8 [==============================] - 0s 6ms/step - loss: 0.1281 - accuracy: 0.9502 - val_loss: 0.1322 - val_accuracy: 0.9523\n",
      "Epoch 44/50\n",
      "8/8 [==============================] - 0s 5ms/step - loss: 0.1271 - accuracy: 0.9512 - val_loss: 0.1369 - val_accuracy: 0.9569\n",
      "Epoch 45/50\n",
      "8/8 [==============================] - 0s 5ms/step - loss: 0.1282 - accuracy: 0.9500 - val_loss: 0.1304 - val_accuracy: 0.9531\n",
      "Epoch 46/50\n",
      "8/8 [==============================] - 0s 5ms/step - loss: 0.1260 - accuracy: 0.9533 - val_loss: 0.1299 - val_accuracy: 0.9554\n",
      "Epoch 47/50\n",
      "8/8 [==============================] - 0s 5ms/step - loss: 0.1247 - accuracy: 0.9520 - val_loss: 0.1308 - val_accuracy: 0.9562\n",
      "Epoch 48/50\n",
      "8/8 [==============================] - 0s 6ms/step - loss: 0.1237 - accuracy: 0.9520 - val_loss: 0.1272 - val_accuracy: 0.9538\n",
      "Epoch 49/50\n",
      "8/8 [==============================] - 0s 5ms/step - loss: 0.1215 - accuracy: 0.9530 - val_loss: 0.1263 - val_accuracy: 0.9554\n",
      "Epoch 50/50\n",
      "8/8 [==============================] - 0s 5ms/step - loss: 0.1211 - accuracy: 0.9536 - val_loss: 0.1262 - val_accuracy: 0.9577\n"
     ]
    }
   ],
   "source": [
    "# 모델 컴파일 & 실행\n",
    "model.compile(loss='binary_crossentropy', optimizer='adam', metrics=['accuracy']);\n",
    "\n",
    "model.fit(X_train, y_train, epochs=50, batch_size=500, validation_split=0.25);\n",
    "# validation_split=0.25를 해주면 위의 학습데이터에서 25%는 검증을하는데에 사용됨"
   ]
  },
  {
   "cell_type": "code",
   "execution_count": 9,
   "id": "ee8d7542",
   "metadata": {},
   "outputs": [
    {
     "name": "stdout",
     "output_type": "stream",
     "text": [
      "41/41 [==============================] - 0s 1ms/step - loss: 0.1957 - accuracy: 0.9369\n",
      "Test Accuracy:  0.936923086643219\n"
     ]
    }
   ],
   "source": [
    "# 테스트 결과를 출력\n",
    "score = model.evaluate(X_test, y_test);\n",
    "print('Test Accuracy: ', score[1]);"
   ]
  }
 ],
 "metadata": {
  "kernelspec": {
   "display_name": "Python 3 (ipykernel)",
   "language": "python",
   "name": "python3"
  },
  "language_info": {
   "codemirror_mode": {
    "name": "ipython",
    "version": 3
   },
   "file_extension": ".py",
   "mimetype": "text/x-python",
   "name": "python",
   "nbconvert_exporter": "python",
   "pygments_lexer": "ipython3",
   "version": "3.8.15"
  }
 },
 "nbformat": 4,
 "nbformat_minor": 5
}
