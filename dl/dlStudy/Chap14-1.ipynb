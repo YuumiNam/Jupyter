{
 "cells": [
  {
   "cell_type": "markdown",
   "id": "66a46ae5",
   "metadata": {},
   "source": [
    "# 모두의 딥러닝 개정 3판\n",
    "## 14장 모델 성능 향상시키기"
   ]
  },
  {
   "cell_type": "markdown",
   "id": "40955cc2",
   "metadata": {},
   "source": [
    "- 샘플 수: 6,49개 \n",
    "- 속성: 12가지\n",
    "- 클래스(13열)(0: 화이트와인 / 1: 레드와인)"
   ]
  },
  {
   "cell_type": "code",
   "execution_count": 1,
   "id": "d9cf9e24",
   "metadata": {},
   "outputs": [],
   "source": [
    "import pandas as pd\n",
    "from tensorflow.keras import models, layers\n",
    "from sklearn.model_selection import train_test_split"
   ]
  },
  {
   "cell_type": "code",
   "execution_count": 2,
   "id": "732d6ce4",
   "metadata": {},
   "outputs": [
    {
     "data": {
      "text/html": [
       "<div>\n",
       "<style scoped>\n",
       "    .dataframe tbody tr th:only-of-type {\n",
       "        vertical-align: middle;\n",
       "    }\n",
       "\n",
       "    .dataframe tbody tr th {\n",
       "        vertical-align: top;\n",
       "    }\n",
       "\n",
       "    .dataframe thead th {\n",
       "        text-align: right;\n",
       "    }\n",
       "</style>\n",
       "<table border=\"1\" class=\"dataframe\">\n",
       "  <thead>\n",
       "    <tr style=\"text-align: right;\">\n",
       "      <th></th>\n",
       "      <th>0</th>\n",
       "      <th>1</th>\n",
       "      <th>2</th>\n",
       "      <th>3</th>\n",
       "      <th>4</th>\n",
       "      <th>5</th>\n",
       "      <th>6</th>\n",
       "      <th>7</th>\n",
       "      <th>8</th>\n",
       "      <th>9</th>\n",
       "      <th>10</th>\n",
       "      <th>11</th>\n",
       "      <th>12</th>\n",
       "    </tr>\n",
       "  </thead>\n",
       "  <tbody>\n",
       "    <tr>\n",
       "      <th>0</th>\n",
       "      <td>7.4</td>\n",
       "      <td>0.70</td>\n",
       "      <td>0.00</td>\n",
       "      <td>1.9</td>\n",
       "      <td>0.076</td>\n",
       "      <td>11.0</td>\n",
       "      <td>34.0</td>\n",
       "      <td>0.9978</td>\n",
       "      <td>3.51</td>\n",
       "      <td>0.56</td>\n",
       "      <td>9.4</td>\n",
       "      <td>5</td>\n",
       "      <td>1</td>\n",
       "    </tr>\n",
       "    <tr>\n",
       "      <th>1</th>\n",
       "      <td>7.8</td>\n",
       "      <td>0.88</td>\n",
       "      <td>0.00</td>\n",
       "      <td>2.6</td>\n",
       "      <td>0.098</td>\n",
       "      <td>25.0</td>\n",
       "      <td>67.0</td>\n",
       "      <td>0.9968</td>\n",
       "      <td>3.20</td>\n",
       "      <td>0.68</td>\n",
       "      <td>9.8</td>\n",
       "      <td>5</td>\n",
       "      <td>1</td>\n",
       "    </tr>\n",
       "    <tr>\n",
       "      <th>2</th>\n",
       "      <td>7.8</td>\n",
       "      <td>0.76</td>\n",
       "      <td>0.04</td>\n",
       "      <td>2.3</td>\n",
       "      <td>0.092</td>\n",
       "      <td>15.0</td>\n",
       "      <td>54.0</td>\n",
       "      <td>0.9970</td>\n",
       "      <td>3.26</td>\n",
       "      <td>0.65</td>\n",
       "      <td>9.8</td>\n",
       "      <td>5</td>\n",
       "      <td>1</td>\n",
       "    </tr>\n",
       "    <tr>\n",
       "      <th>3</th>\n",
       "      <td>11.2</td>\n",
       "      <td>0.28</td>\n",
       "      <td>0.56</td>\n",
       "      <td>1.9</td>\n",
       "      <td>0.075</td>\n",
       "      <td>17.0</td>\n",
       "      <td>60.0</td>\n",
       "      <td>0.9980</td>\n",
       "      <td>3.16</td>\n",
       "      <td>0.58</td>\n",
       "      <td>9.8</td>\n",
       "      <td>6</td>\n",
       "      <td>1</td>\n",
       "    </tr>\n",
       "    <tr>\n",
       "      <th>4</th>\n",
       "      <td>7.4</td>\n",
       "      <td>0.70</td>\n",
       "      <td>0.00</td>\n",
       "      <td>1.9</td>\n",
       "      <td>0.076</td>\n",
       "      <td>11.0</td>\n",
       "      <td>34.0</td>\n",
       "      <td>0.9978</td>\n",
       "      <td>3.51</td>\n",
       "      <td>0.56</td>\n",
       "      <td>9.4</td>\n",
       "      <td>5</td>\n",
       "      <td>1</td>\n",
       "    </tr>\n",
       "  </tbody>\n",
       "</table>\n",
       "</div>"
      ],
      "text/plain": [
       "     0     1     2    3      4     5     6       7     8     9    10  11  12\n",
       "0   7.4  0.70  0.00  1.9  0.076  11.0  34.0  0.9978  3.51  0.56  9.4   5   1\n",
       "1   7.8  0.88  0.00  2.6  0.098  25.0  67.0  0.9968  3.20  0.68  9.8   5   1\n",
       "2   7.8  0.76  0.04  2.3  0.092  15.0  54.0  0.9970  3.26  0.65  9.8   5   1\n",
       "3  11.2  0.28  0.56  1.9  0.075  17.0  60.0  0.9980  3.16  0.58  9.8   6   1\n",
       "4   7.4  0.70  0.00  1.9  0.076  11.0  34.0  0.9978  3.51  0.56  9.4   5   1"
      ]
     },
     "execution_count": 2,
     "metadata": {},
     "output_type": "execute_result"
    }
   ],
   "source": [
    "# 준비된 데이터 가져오기\n",
    "df = pd.read_csv('data/wine.csv', header=None);\n",
    "df.head()"
   ]
  },
  {
   "cell_type": "code",
   "execution_count": 3,
   "id": "c4c25e58",
   "metadata": {},
   "outputs": [],
   "source": [
    "# 와인의 속성을 X로 와인의 분류를 y로 저장\n",
    "X = df.iloc[:, :12];\n",
    "y = df.iloc[:, 12];"
   ]
  },
  {
   "cell_type": "code",
   "execution_count": 4,
   "id": "389e32ed",
   "metadata": {},
   "outputs": [],
   "source": [
    "# 학습셋과 테스트셋으로 나눔\n",
    "X_train, X_test, y_train, y_test = \\\n",
    "train_test_split(X, y, test_size=0.2, shuffle=True)"
   ]
  },
  {
   "cell_type": "code",
   "execution_count": 5,
   "id": "f821adb7",
   "metadata": {},
   "outputs": [],
   "source": [
    "# 모델구조를 설정\n",
    "model = models.Sequential();\n",
    "model.add(layers.Dense(30, input_dim=12, activation='relu'))\n",
    "model.add(layers.Dense(12, activation='relu'))\n",
    "model.add(layers.Dense(8, activation='relu'))\n",
    "model.add(layers.Dense(1, activation='sigmoid')) # hidden layer가 2개 들어간 모델"
   ]
  },
  {
   "cell_type": "code",
   "execution_count": 6,
   "id": "b8a0f002",
   "metadata": {},
   "outputs": [
    {
     "name": "stdout",
     "output_type": "stream",
     "text": [
      "Model: \"sequential\"\n",
      "_________________________________________________________________\n",
      " Layer (type)                Output Shape              Param #   \n",
      "=================================================================\n",
      " dense (Dense)               (None, 30)                390       \n",
      "                                                                 \n",
      " dense_1 (Dense)             (None, 12)                372       \n",
      "                                                                 \n",
      " dense_2 (Dense)             (None, 8)                 104       \n",
      "                                                                 \n",
      " dense_3 (Dense)             (None, 1)                 9         \n",
      "                                                                 \n",
      "=================================================================\n",
      "Total params: 875\n",
      "Trainable params: 875\n",
      "Non-trainable params: 0\n",
      "_________________________________________________________________\n"
     ]
    }
   ],
   "source": [
    "model.summary()"
   ]
  },
  {
   "cell_type": "code",
   "execution_count": 7,
   "id": "13d4997b",
   "metadata": {},
   "outputs": [
    {
     "name": "stdout",
     "output_type": "stream",
     "text": [
      "Epoch 1/50\n"
     ]
    },
    {
     "name": "stderr",
     "output_type": "stream",
     "text": [
      "C:\\Users\\BIT\\miniconda3\\envs\\ml-env\\lib\\site-packages\\keras\\engine\\data_adapter.py:1699: FutureWarning: The behavior of `series[i:j]` with an integer-dtype index is deprecated. In a future version, this will be treated as *label-based* indexing, consistent with e.g. `series[i]` lookups. To retain the old behavior, use `series.iloc[i:j]`. To get the future behavior, use `series.loc[i:j]`.\n",
      "  return t[start:end]\n"
     ]
    },
    {
     "name": "stdout",
     "output_type": "stream",
     "text": [
      "8/8 [==============================] - 1s 39ms/step - loss: 0.6790 - accuracy: 0.6998 - val_loss: 0.5189 - val_accuracy: 0.8038\n",
      "Epoch 2/50\n",
      "8/8 [==============================] - 0s 5ms/step - loss: 0.5344 - accuracy: 0.8024 - val_loss: 0.4228 - val_accuracy: 0.8615\n",
      "Epoch 3/50\n",
      "8/8 [==============================] - 0s 6ms/step - loss: 0.3793 - accuracy: 0.8748 - val_loss: 0.3186 - val_accuracy: 0.8785\n",
      "Epoch 4/50\n",
      "8/8 [==============================] - 0s 5ms/step - loss: 0.3141 - accuracy: 0.8776 - val_loss: 0.2613 - val_accuracy: 0.9069\n",
      "Epoch 5/50\n",
      "8/8 [==============================] - 0s 5ms/step - loss: 0.2475 - accuracy: 0.9140 - val_loss: 0.2259 - val_accuracy: 0.9285\n",
      "Epoch 6/50\n",
      "8/8 [==============================] - 0s 5ms/step - loss: 0.2228 - accuracy: 0.9274 - val_loss: 0.2160 - val_accuracy: 0.9269\n",
      "Epoch 7/50\n",
      "8/8 [==============================] - 0s 6ms/step - loss: 0.2129 - accuracy: 0.9297 - val_loss: 0.2048 - val_accuracy: 0.9315\n",
      "Epoch 8/50\n",
      "8/8 [==============================] - 0s 5ms/step - loss: 0.2047 - accuracy: 0.9328 - val_loss: 0.2004 - val_accuracy: 0.9362\n",
      "Epoch 9/50\n",
      "8/8 [==============================] - 0s 5ms/step - loss: 0.2002 - accuracy: 0.9330 - val_loss: 0.1969 - val_accuracy: 0.9385\n",
      "Epoch 10/50\n",
      "8/8 [==============================] - 0s 6ms/step - loss: 0.1970 - accuracy: 0.9348 - val_loss: 0.1937 - val_accuracy: 0.9385\n",
      "Epoch 11/50\n",
      "8/8 [==============================] - 0s 5ms/step - loss: 0.1937 - accuracy: 0.9361 - val_loss: 0.1909 - val_accuracy: 0.9400\n",
      "Epoch 12/50\n",
      "8/8 [==============================] - 0s 5ms/step - loss: 0.1914 - accuracy: 0.9348 - val_loss: 0.1890 - val_accuracy: 0.9415\n",
      "Epoch 13/50\n",
      "8/8 [==============================] - 0s 5ms/step - loss: 0.1883 - accuracy: 0.9382 - val_loss: 0.1858 - val_accuracy: 0.9415\n",
      "Epoch 14/50\n",
      "8/8 [==============================] - 0s 5ms/step - loss: 0.1864 - accuracy: 0.9376 - val_loss: 0.1837 - val_accuracy: 0.9431\n",
      "Epoch 15/50\n",
      "8/8 [==============================] - 0s 5ms/step - loss: 0.1840 - accuracy: 0.9392 - val_loss: 0.1808 - val_accuracy: 0.9423\n",
      "Epoch 16/50\n",
      "8/8 [==============================] - 0s 5ms/step - loss: 0.1814 - accuracy: 0.9384 - val_loss: 0.1788 - val_accuracy: 0.9438\n",
      "Epoch 17/50\n",
      "8/8 [==============================] - 0s 6ms/step - loss: 0.1793 - accuracy: 0.9402 - val_loss: 0.1777 - val_accuracy: 0.9423\n",
      "Epoch 18/50\n",
      "8/8 [==============================] - 0s 5ms/step - loss: 0.1778 - accuracy: 0.9400 - val_loss: 0.1754 - val_accuracy: 0.9438\n",
      "Epoch 19/50\n",
      "8/8 [==============================] - 0s 6ms/step - loss: 0.1752 - accuracy: 0.9402 - val_loss: 0.1727 - val_accuracy: 0.9454\n",
      "Epoch 20/50\n",
      "8/8 [==============================] - 0s 6ms/step - loss: 0.1739 - accuracy: 0.9410 - val_loss: 0.1721 - val_accuracy: 0.9431\n",
      "Epoch 21/50\n",
      "8/8 [==============================] - 0s 6ms/step - loss: 0.1723 - accuracy: 0.9428 - val_loss: 0.1685 - val_accuracy: 0.9454\n",
      "Epoch 22/50\n",
      "8/8 [==============================] - 0s 6ms/step - loss: 0.1691 - accuracy: 0.9435 - val_loss: 0.1669 - val_accuracy: 0.9462\n",
      "Epoch 23/50\n",
      "8/8 [==============================] - 0s 6ms/step - loss: 0.1667 - accuracy: 0.9435 - val_loss: 0.1649 - val_accuracy: 0.9446\n",
      "Epoch 24/50\n",
      "8/8 [==============================] - 0s 6ms/step - loss: 0.1648 - accuracy: 0.9443 - val_loss: 0.1637 - val_accuracy: 0.9462\n",
      "Epoch 25/50\n",
      "8/8 [==============================] - 0s 5ms/step - loss: 0.1622 - accuracy: 0.9448 - val_loss: 0.1618 - val_accuracy: 0.9469\n",
      "Epoch 26/50\n",
      "8/8 [==============================] - 0s 5ms/step - loss: 0.1597 - accuracy: 0.9456 - val_loss: 0.1608 - val_accuracy: 0.9469\n",
      "Epoch 27/50\n",
      "8/8 [==============================] - 0s 6ms/step - loss: 0.1574 - accuracy: 0.9466 - val_loss: 0.1587 - val_accuracy: 0.9462\n",
      "Epoch 28/50\n",
      "8/8 [==============================] - 0s 5ms/step - loss: 0.1557 - accuracy: 0.9459 - val_loss: 0.1570 - val_accuracy: 0.9462\n",
      "Epoch 29/50\n",
      "8/8 [==============================] - 0s 5ms/step - loss: 0.1537 - accuracy: 0.9466 - val_loss: 0.1553 - val_accuracy: 0.9462\n",
      "Epoch 30/50\n",
      "8/8 [==============================] - 0s 5ms/step - loss: 0.1529 - accuracy: 0.9469 - val_loss: 0.1552 - val_accuracy: 0.9469\n",
      "Epoch 31/50\n",
      "8/8 [==============================] - 0s 5ms/step - loss: 0.1518 - accuracy: 0.9466 - val_loss: 0.1548 - val_accuracy: 0.9415\n",
      "Epoch 32/50\n",
      "8/8 [==============================] - 0s 5ms/step - loss: 0.1494 - accuracy: 0.9477 - val_loss: 0.1523 - val_accuracy: 0.9477\n",
      "Epoch 33/50\n",
      "8/8 [==============================] - 0s 6ms/step - loss: 0.1486 - accuracy: 0.9479 - val_loss: 0.1490 - val_accuracy: 0.9454\n",
      "Epoch 34/50\n",
      "8/8 [==============================] - 0s 5ms/step - loss: 0.1480 - accuracy: 0.9471 - val_loss: 0.1519 - val_accuracy: 0.9423\n",
      "Epoch 35/50\n",
      "8/8 [==============================] - 0s 6ms/step - loss: 0.1457 - accuracy: 0.9484 - val_loss: 0.1458 - val_accuracy: 0.9462\n",
      "Epoch 36/50\n",
      "8/8 [==============================] - 0s 5ms/step - loss: 0.1441 - accuracy: 0.9479 - val_loss: 0.1501 - val_accuracy: 0.9462\n",
      "Epoch 37/50\n",
      "8/8 [==============================] - 0s 6ms/step - loss: 0.1478 - accuracy: 0.9448 - val_loss: 0.1436 - val_accuracy: 0.9469\n",
      "Epoch 38/50\n",
      "8/8 [==============================] - 0s 5ms/step - loss: 0.1434 - accuracy: 0.9500 - val_loss: 0.1441 - val_accuracy: 0.9431\n",
      "Epoch 39/50\n",
      "8/8 [==============================] - 0s 5ms/step - loss: 0.1396 - accuracy: 0.9505 - val_loss: 0.1415 - val_accuracy: 0.9438\n",
      "Epoch 40/50\n",
      "8/8 [==============================] - 0s 5ms/step - loss: 0.1378 - accuracy: 0.9492 - val_loss: 0.1352 - val_accuracy: 0.9469\n",
      "Epoch 41/50\n",
      "8/8 [==============================] - 0s 5ms/step - loss: 0.1328 - accuracy: 0.9512 - val_loss: 0.1324 - val_accuracy: 0.9485\n",
      "Epoch 42/50\n",
      "8/8 [==============================] - 0s 5ms/step - loss: 0.1337 - accuracy: 0.9502 - val_loss: 0.1297 - val_accuracy: 0.9508\n",
      "Epoch 43/50\n",
      "8/8 [==============================] - 0s 5ms/step - loss: 0.1291 - accuracy: 0.9543 - val_loss: 0.1283 - val_accuracy: 0.9492\n",
      "Epoch 44/50\n",
      "8/8 [==============================] - 0s 5ms/step - loss: 0.1270 - accuracy: 0.9520 - val_loss: 0.1268 - val_accuracy: 0.9492\n",
      "Epoch 45/50\n",
      "8/8 [==============================] - 0s 5ms/step - loss: 0.1252 - accuracy: 0.9556 - val_loss: 0.1276 - val_accuracy: 0.9469\n",
      "Epoch 46/50\n",
      "8/8 [==============================] - 0s 5ms/step - loss: 0.1247 - accuracy: 0.9579 - val_loss: 0.1236 - val_accuracy: 0.9492\n",
      "Epoch 47/50\n",
      "8/8 [==============================] - 0s 5ms/step - loss: 0.1253 - accuracy: 0.9564 - val_loss: 0.1299 - val_accuracy: 0.9500\n",
      "Epoch 48/50\n",
      "8/8 [==============================] - 0s 6ms/step - loss: 0.1224 - accuracy: 0.9574 - val_loss: 0.1286 - val_accuracy: 0.9500\n",
      "Epoch 49/50\n",
      "8/8 [==============================] - 0s 5ms/step - loss: 0.1231 - accuracy: 0.9577 - val_loss: 0.1226 - val_accuracy: 0.9508\n",
      "Epoch 50/50\n",
      "8/8 [==============================] - 0s 5ms/step - loss: 0.1238 - accuracy: 0.9561 - val_loss: 0.1333 - val_accuracy: 0.9485\n"
     ]
    }
   ],
   "source": [
    "# 모델 컴파일 & 실행\n",
    "model.compile(loss='binary_crossentropy', optimizer='adam', metrics=['accuracy']);\n",
    "\n",
    "# validation_split=0.25를 해주면 위의 학습데이터에서 25%는 검증을하는데에 사용됨\n",
    "# epochs는 학습을 몇 번 반복할 것인지 정해줌\n",
    "# epochs=50 이면 순전파와 역전파를 50번 실시한다는 뜻 (적정한 값을 넣어주는것이 중요)\n",
    "model.fit(X_train, y_train, epochs=50, batch_size=500, validation_split=0.25);"
   ]
  },
  {
   "cell_type": "code",
   "execution_count": 8,
   "id": "ee8d7542",
   "metadata": {},
   "outputs": [
    {
     "name": "stdout",
     "output_type": "stream",
     "text": [
      "41/41 [==============================] - 0s 1ms/step - loss: 0.1154 - accuracy: 0.9592\n",
      "Test Accuracy:  0.9592307806015015\n"
     ]
    }
   ],
   "source": [
    "# 테스트 결과를 출력\n",
    "score = model.evaluate(X_test, y_test);\n",
    "print('Test Accuracy: ', score[1]);"
   ]
  }
 ],
 "metadata": {
  "kernelspec": {
   "display_name": "Python 3 (ipykernel)",
   "language": "python",
   "name": "python3"
  },
  "language_info": {
   "codemirror_mode": {
    "name": "ipython",
    "version": 3
   },
   "file_extension": ".py",
   "mimetype": "text/x-python",
   "name": "python",
   "nbconvert_exporter": "python",
   "pygments_lexer": "ipython3",
   "version": "3.8.15"
  }
 },
 "nbformat": 4,
 "nbformat_minor": 5
}
