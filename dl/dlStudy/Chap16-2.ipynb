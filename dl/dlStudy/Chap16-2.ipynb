{
 "cells": [
  {
   "cell_type": "markdown",
   "id": "34fa096a",
   "metadata": {},
   "source": [
    "# Convolution 기법"
   ]
  },
  {
   "cell_type": "markdown",
   "id": "b0cd0dff",
   "metadata": {},
   "source": [
    "- 공간영역기반 처리\n",
    "- mask내의 원소값과 공간영역에 있는 입력 영상 화소값들을 대응되게 곱하여 출력화소값을 계산\n",
    "- 이때 곱해지는 mask를 kernel이라고도 함\n",
    "\n",
    "적용범위 : \\\n",
    "Blurring \\\n",
    "영상을 밝게 수정하면서 약간 흐리게 처리 (뽀샵) \\\n",
    "급격한 화소차이를 점진적으로 바뀌게 도와줌\n",
    "\n",
    "Sharpening\n",
    "약간 뚜렷하게 표시\n",
    "출력화소에서 이웃간 화소차이를 크게함"
   ]
  },
  {
   "cell_type": "code",
   "execution_count": 1,
   "id": "82134a3e",
   "metadata": {},
   "outputs": [],
   "source": [
    "from tensorflow.keras import models, layers\n",
    "from tensorflow.keras.callbacks import EarlyStopping, ModelCheckpoint\n",
    "from tensorflow.keras.datasets import mnist\n",
    "from tensorflow.keras.utils import to_categorical\n",
    "\n",
    "import numpy as np\n",
    "import matplotlib.pyplot as plt\n",
    "import os\n",
    "os.environ[\"KMP_DUPLICATE_LIB_OK\"]='1'"
   ]
  },
  {
   "cell_type": "code",
   "execution_count": null,
   "id": "662706a3",
   "metadata": {},
   "outputs": [],
   "source": [
    "(X_train, y_train), (X_test, y_test) = mnist.load_data()\n",
    "\n",
    "# 이전에 28*28으로 2차원으로 만들어줬는데\n",
    "# Convolution기법은 사진 그대로를 써준다\n",
    "# 28,28 뒤의 1은 흑백or컬러를 의미 -> 흑백 = 1 채널, 컬러 = 3채널\n",
    "X_train = X_train.reshape(X_train.shape[0], 28, 28, 1).astype(float) / 255\n",
    "X_test = X_test.reshape(X_test.shape[0], 28,28, 1).astype(float) / 255\n",
    "y_train = to_categorical(y_train)\n",
    "y_test = to_categorical(y_test)"
   ]
  }
 ],
 "metadata": {
  "kernelspec": {
   "display_name": "Python 3 (ipykernel)",
   "language": "python",
   "name": "python3"
  },
  "language_info": {
   "codemirror_mode": {
    "name": "ipython",
    "version": 3
   },
   "file_extension": ".py",
   "mimetype": "text/x-python",
   "name": "python",
   "nbconvert_exporter": "python",
   "pygments_lexer": "ipython3",
   "version": "3.8.15"
  }
 },
 "nbformat": 4,
 "nbformat_minor": 5
}
