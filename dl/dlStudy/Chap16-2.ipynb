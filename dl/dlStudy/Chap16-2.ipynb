{
 "cells": [
  {
   "cell_type": "markdown",
   "id": "94a7a38c",
   "metadata": {},
   "source": [
    "# Convolution 기법"
   ]
  },
  {
   "cell_type": "markdown",
   "id": "2d4e8071",
   "metadata": {},
   "source": [
    "- 공간영역기반 처리\n",
    "- mask내의 원소값과 공간영역에 있는 입력 영상 화소값들을 대응되게 곱하여 출력화소값을 계산\n",
    "- 이때 곱해지는 mask를 kernel이라고도 함\n",
    "\n",
    "적용범위 : \\\n",
    "Blurring \\\n",
    "영상을 밝게 수정하면서 약간 흐리게 처리 (뽀샵) \\\n",
    "급격한 화소차이를 점진적으로 바뀌게 도와줌\n",
    "\n",
    "Sharpening\n",
    "약간 뚜렷하게 표시\n",
    "출력화소에서 이웃간 화소차이를 크게함"
   ]
  },
  {
   "cell_type": "code",
   "execution_count": 1,
   "id": "9ecdefd8",
   "metadata": {},
   "outputs": [],
   "source": [
    "from tensorflow.keras import models, layers\n",
    "from tensorflow.keras.callbacks import EarlyStopping, ModelCheckpoint\n",
    "from tensorflow.keras.datasets import mnist\n",
    "from tensorflow.keras.utils import to_categorical\n",
    "\n",
    "import numpy as np\n",
    "import matplotlib.pyplot as plt\n",
    "import os\n",
    "os.environ[\"KMP_DUPLICATE_LIB_OK\"]='1'"
   ]
  },
  {
   "cell_type": "code",
   "execution_count": 2,
   "id": "83fcfef8",
   "metadata": {},
   "outputs": [],
   "source": [
    "(X_train, y_train), (X_test, y_test) = mnist.load_data()\n",
    "\n",
    "# 이전에 28*28으로 2차원으로 만들어줬는데\n",
    "# Convolution기법은 사진 그대로를 써준다\n",
    "# 28,28 뒤의 1은 흑백or컬러를 의미 -> 흑백 = 1 채널, 컬러 = 3채널\n",
    "X_train = X_train.reshape(X_train.shape[0], 28, 28, 1).astype(float) / 255\n",
    "X_test = X_test.reshape(X_test.shape[0], 28,28, 1).astype(float) / 255\n",
    "y_train = to_categorical(y_train)\n",
    "y_test = to_categorical(y_test)"
   ]
  },
  {
   "cell_type": "code",
   "execution_count": 3,
   "id": "ab17c4e7",
   "metadata": {
    "scrolled": false
   },
   "outputs": [
    {
     "name": "stdout",
     "output_type": "stream",
     "text": [
      "Model: \"sequential\"\n",
      "_________________________________________________________________\n",
      " Layer (type)                Output Shape              Param #   \n",
      "=================================================================\n",
      " conv2d (Conv2D)             (None, 26, 26, 32)        320       \n",
      "                                                                 \n",
      " conv2d_1 (Conv2D)           (None, 24, 24, 64)        18496     \n",
      "                                                                 \n",
      " max_pooling2d (MaxPooling2D  (None, 12, 12, 64)       0         \n",
      " )                                                               \n",
      "                                                                 \n",
      " dropout (Dropout)           (None, 12, 12, 64)        0         \n",
      "                                                                 \n",
      " flatten (Flatten)           (None, 9216)              0         \n",
      "                                                                 \n",
      " dense (Dense)               (None, 128)               1179776   \n",
      "                                                                 \n",
      " dropout_1 (Dropout)         (None, 128)               0         \n",
      "                                                                 \n",
      " dense_1 (Dense)             (None, 10)                1290      \n",
      "                                                                 \n",
      "=================================================================\n",
      "Total params: 1,199,882\n",
      "Trainable params: 1,199,882\n",
      "Non-trainable params: 0\n",
      "_________________________________________________________________\n"
     ]
    }
   ],
   "source": [
    "model = models.Sequential()\n",
    "\n",
    "# parameter 계산법\n",
    "# parameter = weight + bias\n",
    "# weight = 입력 수 x 가중치 x 출력 수\n",
    "\n",
    "\n",
    "# 새로운 parameter 생성 ==> 입력수 1 x kernel(가중치)(3x3) x 출력수 32 + bias32 = 320\n",
    "model.add(layers.Conv2D(32, kernel_size=(3, 3), input_shape=(28, 28, 1), activation='relu'))\n",
    "\n",
    "# 새로운 parameter 생성 ==> 입력수 32 x kernel(가중치)(3x3) x 출력수 64 + bias 64 = 18496\n",
    "model.add(layers.Conv2D(64, kernel_size=(3, 3), activation='relu'))\n",
    "\n",
    "# 2x2의 범위에서 가장 큰 값만 나타내줌... 24*24에서 12*12로 줄어들음 # 모자이크가 사용 예\n",
    "# 새로운 parameter 생성x\n",
    "model.add(layers.MaxPooling2D(pool_size=(2, 2)))\n",
    "\n",
    "# 전체 네트워크의 25%를 임의로 끊어버려서 뒤쪽으로 가는 순전파 양을 줄게끔함 # 효율적으로 과대적합을 막아줌\n",
    "# 새로운 parameter 생성x\n",
    "model.add(layers.Dropout(0.25))\n",
    "\n",
    "# 1차원으로 데이터를 쫘악 펼침\n",
    "# 새로운 parameter 생성x\n",
    "# 입력수가 12(맨처음 28 -> conv2D 26 -> conv2D 24 -> flatten 12) x 12 x 64 로 바뀜 = 9216\n",
    "model.add(layers.Flatten())\n",
    "\n",
    "# 새로운 parameter 생성 ==> 입력 수 9216 x 출력 수 128 + bias 128 = 1179776\n",
    "model.add(layers.Dense(128, activation='relu'))\n",
    "model.add(layers.Dropout(0.25))\n",
    "\n",
    "# 새로운 parameter 생성 ==> 입력 수 128 x 출력 수 10 + bias 10 = 1290\n",
    "model.add(layers.Dense(10, activation='softmax'))\n",
    "model.summary()"
   ]
  },
  {
   "cell_type": "markdown",
   "id": "914d5914",
   "metadata": {},
   "source": [
    "- 1 첫 번째 인자: 커널을 몇 개 적용할지 정함. 여기서는 32개의 커널을 적용\n",
    "\n",
    "- 2 kernel_size: 커널의 크기를 정함. kernel_size=(행, 열) 형식으로 정하며, 여기서는 3×3 크기의 커널을 사용하게끔 정함\n",
    "\n",
    "- 3 input_shape: Dense 층과 마찬가지로 맨 처음 층에는 입력되는 값을 알려 주어야함 input_shape=(행, 열, 색상 또는 흑백) 형식으로 정함. 만약 입력 이미지가 색상이면 3, 흑백이면 1을 지정함. 여기서는 28×28 크기의 흑백 이미지를 사용하도록 정함\n",
    "\n",
    "- 4 activation: 사용할 활성화 함수를 정의"
   ]
  },
  {
   "cell_type": "code",
   "execution_count": 4,
   "id": "5f885ff9",
   "metadata": {},
   "outputs": [],
   "source": [
    "# 모델의 실행 옵션을 설정\n",
    "model.compile(loss='categorical_crossentropy', optimizer='adam', metrics=['accuracy'])"
   ]
  },
  {
   "cell_type": "code",
   "execution_count": 5,
   "id": "96c7d46d",
   "metadata": {
    "scrolled": false
   },
   "outputs": [
    {
     "name": "stdout",
     "output_type": "stream",
     "text": [
      "Epoch 1/30\n",
      "225/225 [==============================] - ETA: 0s - loss: 0.2467 - accuracy: 0.9251WARNING:tensorflow:Early stopping conditioned on metric `var_loss` which is not available. Available metrics are: loss,accuracy,val_loss,val_accuracy\n",
      "225/225 [==============================] - 23s 98ms/step - loss: 0.2467 - accuracy: 0.9251 - val_loss: 0.0779 - val_accuracy: 0.9775\n",
      "Epoch 2/30\n",
      "225/225 [==============================] - ETA: 0s - loss: 0.0679 - accuracy: 0.9791WARNING:tensorflow:Early stopping conditioned on metric `var_loss` which is not available. Available metrics are: loss,accuracy,val_loss,val_accuracy\n",
      "225/225 [==============================] - 22s 97ms/step - loss: 0.0679 - accuracy: 0.9791 - val_loss: 0.0567 - val_accuracy: 0.9835\n",
      "Epoch 3/30\n",
      "225/225 [==============================] - ETA: 0s - loss: 0.0444 - accuracy: 0.9864WARNING:tensorflow:Early stopping conditioned on metric `var_loss` which is not available. Available metrics are: loss,accuracy,val_loss,val_accuracy\n",
      "225/225 [==============================] - 22s 98ms/step - loss: 0.0444 - accuracy: 0.9864 - val_loss: 0.0463 - val_accuracy: 0.9865\n",
      "Epoch 4/30\n",
      "225/225 [==============================] - ETA: 0s - loss: 0.0369 - accuracy: 0.9883WARNING:tensorflow:Early stopping conditioned on metric `var_loss` which is not available. Available metrics are: loss,accuracy,val_loss,val_accuracy\n",
      "225/225 [==============================] - 22s 98ms/step - loss: 0.0369 - accuracy: 0.9883 - val_loss: 0.0436 - val_accuracy: 0.9867\n",
      "Epoch 5/30\n",
      "225/225 [==============================] - ETA: 0s - loss: 0.0304 - accuracy: 0.9902WARNING:tensorflow:Early stopping conditioned on metric `var_loss` which is not available. Available metrics are: loss,accuracy,val_loss,val_accuracy\n",
      "225/225 [==============================] - 22s 98ms/step - loss: 0.0304 - accuracy: 0.9902 - val_loss: 0.0446 - val_accuracy: 0.9874\n",
      "Epoch 6/30\n",
      "225/225 [==============================] - ETA: 0s - loss: 0.0246 - accuracy: 0.9918WARNING:tensorflow:Early stopping conditioned on metric `var_loss` which is not available. Available metrics are: loss,accuracy,val_loss,val_accuracy\n",
      "225/225 [==============================] - 24s 107ms/step - loss: 0.0246 - accuracy: 0.9918 - val_loss: 0.0446 - val_accuracy: 0.9872\n",
      "Epoch 7/30\n",
      "225/225 [==============================] - ETA: 0s - loss: 0.0209 - accuracy: 0.9930WARNING:tensorflow:Early stopping conditioned on metric `var_loss` which is not available. Available metrics are: loss,accuracy,val_loss,val_accuracy\n",
      "225/225 [==============================] - 22s 99ms/step - loss: 0.0209 - accuracy: 0.9930 - val_loss: 0.0421 - val_accuracy: 0.9892\n",
      "Epoch 8/30\n",
      "225/225 [==============================] - ETA: 0s - loss: 0.0156 - accuracy: 0.9949WARNING:tensorflow:Early stopping conditioned on metric `var_loss` which is not available. Available metrics are: loss,accuracy,val_loss,val_accuracy\n",
      "225/225 [==============================] - 22s 99ms/step - loss: 0.0156 - accuracy: 0.9949 - val_loss: 0.0470 - val_accuracy: 0.9872\n",
      "Epoch 9/30\n",
      "225/225 [==============================] - ETA: 0s - loss: 0.0144 - accuracy: 0.9949WARNING:tensorflow:Early stopping conditioned on metric `var_loss` which is not available. Available metrics are: loss,accuracy,val_loss,val_accuracy\n",
      "225/225 [==============================] - 22s 99ms/step - loss: 0.0144 - accuracy: 0.9949 - val_loss: 0.0442 - val_accuracy: 0.9890\n",
      "Epoch 10/30\n",
      "225/225 [==============================] - ETA: 0s - loss: 0.0136 - accuracy: 0.9954WARNING:tensorflow:Early stopping conditioned on metric `var_loss` which is not available. Available metrics are: loss,accuracy,val_loss,val_accuracy\n",
      "225/225 [==============================] - 22s 99ms/step - loss: 0.0136 - accuracy: 0.9954 - val_loss: 0.0416 - val_accuracy: 0.9900\n",
      "Epoch 11/30\n",
      "225/225 [==============================] - ETA: 0s - loss: 0.0118 - accuracy: 0.9962WARNING:tensorflow:Early stopping conditioned on metric `var_loss` which is not available. Available metrics are: loss,accuracy,val_loss,val_accuracy\n",
      "225/225 [==============================] - 22s 99ms/step - loss: 0.0118 - accuracy: 0.9962 - val_loss: 0.0412 - val_accuracy: 0.9901\n",
      "Epoch 12/30\n",
      "225/225 [==============================] - ETA: 0s - loss: 0.0104 - accuracy: 0.9966WARNING:tensorflow:Early stopping conditioned on metric `var_loss` which is not available. Available metrics are: loss,accuracy,val_loss,val_accuracy\n",
      "225/225 [==============================] - 22s 99ms/step - loss: 0.0104 - accuracy: 0.9966 - val_loss: 0.0444 - val_accuracy: 0.9894\n",
      "Epoch 13/30\n",
      "225/225 [==============================] - ETA: 0s - loss: 0.0124 - accuracy: 0.9960WARNING:tensorflow:Early stopping conditioned on metric `var_loss` which is not available. Available metrics are: loss,accuracy,val_loss,val_accuracy\n",
      "225/225 [==============================] - 22s 98ms/step - loss: 0.0124 - accuracy: 0.9960 - val_loss: 0.0446 - val_accuracy: 0.9893\n",
      "Epoch 14/30\n",
      "225/225 [==============================] - ETA: 0s - loss: 0.0092 - accuracy: 0.9970WARNING:tensorflow:Early stopping conditioned on metric `var_loss` which is not available. Available metrics are: loss,accuracy,val_loss,val_accuracy\n",
      "225/225 [==============================] - 22s 99ms/step - loss: 0.0092 - accuracy: 0.9970 - val_loss: 0.0483 - val_accuracy: 0.9898\n",
      "Epoch 15/30\n",
      "225/225 [==============================] - ETA: 0s - loss: 0.0089 - accuracy: 0.9969WARNING:tensorflow:Early stopping conditioned on metric `var_loss` which is not available. Available metrics are: loss,accuracy,val_loss,val_accuracy\n",
      "225/225 [==============================] - 22s 99ms/step - loss: 0.0089 - accuracy: 0.9969 - val_loss: 0.0466 - val_accuracy: 0.9892\n",
      "Epoch 16/30\n",
      "225/225 [==============================] - ETA: 0s - loss: 0.0103 - accuracy: 0.9964WARNING:tensorflow:Early stopping conditioned on metric `var_loss` which is not available. Available metrics are: loss,accuracy,val_loss,val_accuracy\n",
      "225/225 [==============================] - 22s 99ms/step - loss: 0.0103 - accuracy: 0.9964 - val_loss: 0.0493 - val_accuracy: 0.9894\n",
      "Epoch 17/30\n",
      "225/225 [==============================] - ETA: 0s - loss: 0.0076 - accuracy: 0.9970WARNING:tensorflow:Early stopping conditioned on metric `var_loss` which is not available. Available metrics are: loss,accuracy,val_loss,val_accuracy\n",
      "225/225 [==============================] - 22s 99ms/step - loss: 0.0076 - accuracy: 0.9970 - val_loss: 0.0506 - val_accuracy: 0.9891\n",
      "Epoch 18/30\n",
      "225/225 [==============================] - ETA: 0s - loss: 0.0076 - accuracy: 0.9974WARNING:tensorflow:Early stopping conditioned on metric `var_loss` which is not available. Available metrics are: loss,accuracy,val_loss,val_accuracy\n",
      "225/225 [==============================] - 22s 99ms/step - loss: 0.0076 - accuracy: 0.9974 - val_loss: 0.0513 - val_accuracy: 0.9892\n",
      "Epoch 19/30\n",
      "225/225 [==============================] - ETA: 0s - loss: 0.0071 - accuracy: 0.9978WARNING:tensorflow:Early stopping conditioned on metric `var_loss` which is not available. Available metrics are: loss,accuracy,val_loss,val_accuracy\n",
      "225/225 [==============================] - 23s 101ms/step - loss: 0.0071 - accuracy: 0.9978 - val_loss: 0.0502 - val_accuracy: 0.9897\n",
      "Epoch 20/30\n",
      "225/225 [==============================] - ETA: 0s - loss: 0.0058 - accuracy: 0.9980WARNING:tensorflow:Early stopping conditioned on metric `var_loss` which is not available. Available metrics are: loss,accuracy,val_loss,val_accuracy\n",
      "225/225 [==============================] - 23s 101ms/step - loss: 0.0058 - accuracy: 0.9980 - val_loss: 0.0586 - val_accuracy: 0.9889\n",
      "Epoch 21/30\n",
      "225/225 [==============================] - ETA: 0s - loss: 0.0067 - accuracy: 0.9977WARNING:tensorflow:Early stopping conditioned on metric `var_loss` which is not available. Available metrics are: loss,accuracy,val_loss,val_accuracy\n",
      "225/225 [==============================] - 22s 99ms/step - loss: 0.0067 - accuracy: 0.9977 - val_loss: 0.0525 - val_accuracy: 0.9896\n",
      "Epoch 22/30\n",
      "225/225 [==============================] - ETA: 0s - loss: 0.0045 - accuracy: 0.9986WARNING:tensorflow:Early stopping conditioned on metric `var_loss` which is not available. Available metrics are: loss,accuracy,val_loss,val_accuracy\n"
     ]
    },
    {
     "name": "stdout",
     "output_type": "stream",
     "text": [
      "225/225 [==============================] - 23s 101ms/step - loss: 0.0045 - accuracy: 0.9986 - val_loss: 0.0518 - val_accuracy: 0.9896\n",
      "Epoch 23/30\n",
      "225/225 [==============================] - ETA: 0s - loss: 0.0074 - accuracy: 0.9973WARNING:tensorflow:Early stopping conditioned on metric `var_loss` which is not available. Available metrics are: loss,accuracy,val_loss,val_accuracy\n",
      "225/225 [==============================] - 22s 97ms/step - loss: 0.0074 - accuracy: 0.9973 - val_loss: 0.0561 - val_accuracy: 0.9893\n",
      "Epoch 24/30\n",
      "225/225 [==============================] - ETA: 0s - loss: 0.0054 - accuracy: 0.9981WARNING:tensorflow:Early stopping conditioned on metric `var_loss` which is not available. Available metrics are: loss,accuracy,val_loss,val_accuracy\n",
      "225/225 [==============================] - 23s 101ms/step - loss: 0.0054 - accuracy: 0.9981 - val_loss: 0.0508 - val_accuracy: 0.9894\n",
      "Epoch 25/30\n",
      "225/225 [==============================] - ETA: 0s - loss: 0.0051 - accuracy: 0.9982WARNING:tensorflow:Early stopping conditioned on metric `var_loss` which is not available. Available metrics are: loss,accuracy,val_loss,val_accuracy\n",
      "225/225 [==============================] - 21s 95ms/step - loss: 0.0051 - accuracy: 0.9982 - val_loss: 0.0495 - val_accuracy: 0.9900\n",
      "Epoch 26/30\n",
      "225/225 [==============================] - ETA: 0s - loss: 0.0048 - accuracy: 0.9983WARNING:tensorflow:Early stopping conditioned on metric `var_loss` which is not available. Available metrics are: loss,accuracy,val_loss,val_accuracy\n",
      "225/225 [==============================] - 22s 96ms/step - loss: 0.0048 - accuracy: 0.9983 - val_loss: 0.0593 - val_accuracy: 0.9895\n",
      "Epoch 27/30\n",
      "225/225 [==============================] - ETA: 0s - loss: 0.0060 - accuracy: 0.9980WARNING:tensorflow:Early stopping conditioned on metric `var_loss` which is not available. Available metrics are: loss,accuracy,val_loss,val_accuracy\n",
      "225/225 [==============================] - 22s 99ms/step - loss: 0.0060 - accuracy: 0.9980 - val_loss: 0.0608 - val_accuracy: 0.9883\n",
      "Epoch 28/30\n",
      "225/225 [==============================] - ETA: 0s - loss: 0.0056 - accuracy: 0.9979WARNING:tensorflow:Early stopping conditioned on metric `var_loss` which is not available. Available metrics are: loss,accuracy,val_loss,val_accuracy\n",
      "225/225 [==============================] - 22s 98ms/step - loss: 0.0056 - accuracy: 0.9979 - val_loss: 0.0515 - val_accuracy: 0.9903\n",
      "Epoch 29/30\n",
      "225/225 [==============================] - ETA: 0s - loss: 0.0041 - accuracy: 0.9988WARNING:tensorflow:Early stopping conditioned on metric `var_loss` which is not available. Available metrics are: loss,accuracy,val_loss,val_accuracy\n",
      "225/225 [==============================] - 22s 97ms/step - loss: 0.0041 - accuracy: 0.9988 - val_loss: 0.0495 - val_accuracy: 0.9901\n",
      "Epoch 30/30\n",
      "225/225 [==============================] - ETA: 0s - loss: 0.0039 - accuracy: 0.9986WARNING:tensorflow:Early stopping conditioned on metric `var_loss` which is not available. Available metrics are: loss,accuracy,val_loss,val_accuracy\n",
      "225/225 [==============================] - 23s 101ms/step - loss: 0.0039 - accuracy: 0.9986 - val_loss: 0.0599 - val_accuracy: 0.9899\n"
     ]
    }
   ],
   "source": [
    "early_stopping = EarlyStopping(monitor='val_loss', patience=10)\n",
    "\n",
    "history = model.fit(X_train, y_train, validation_split=0.25, epochs=30, batch_size=200, callbacks=[early_stopping])"
   ]
  },
  {
   "cell_type": "code",
   "execution_count": 11,
   "id": "95ac2388",
   "metadata": {},
   "outputs": [
    {
     "name": "stdout",
     "output_type": "stream",
     "text": [
      "313/313 [==============================] - 2s 4ms/step - loss: 0.0397 - accuracy: 0.9922\n",
      "Test Accuracy: 0.9922\n"
     ]
    }
   ],
   "source": [
    "# 테스트의 정확도를 출력\n",
    "print(\"Test Accuracy: %.4f\" % (model.evaluate(X_test, y_test)[1]))"
   ]
  },
  {
   "cell_type": "code",
   "execution_count": 7,
   "id": "5582065e",
   "metadata": {},
   "outputs": [
    {
     "data": {
      "image/png": "[encoded data removed]",
      "text/plain": [
       "<Figure size 640x480 with 1 Axes>"
      ]
     },
     "metadata": {},
     "output_type": "display_data"
    }
   ],
   "source": [
    "# 검증셋과 학습셋의 오차를 저장합니다. \n",
    "y_vloss = history.history['val_loss']\n",
    "y_loss = history.history['loss']\n",
    "\n",
    "# 그래프로 표현해 봅니다.\n",
    "x_len = np.arange(len(y_loss))\n",
    "plt.plot(x_len, y_vloss, marker='.', c=\"red\", label='Testset_loss')\n",
    "plt.plot(x_len, y_loss, marker='.', c=\"blue\", label='Trainset_loss')\n",
    "\n",
    "# 그래프에 그리드를 주고 레이블을 표시해 보겠습니다.\n",
    "plt.legend(loc='upper right')\n",
    "plt.grid()\n",
    "plt.xlabel('epoch')\n",
    "plt.ylabel('loss')\n",
    "plt.show()"
   ]
  }
 ],
 "metadata": {
  "kernelspec": {
   "display_name": "Python 3 (ipykernel)",
   "language": "python",
   "name": "python3"
  },
  "language_info": {
   "codemirror_mode": {
    "name": "ipython",
    "version": 3
   },
   "file_extension": ".py",
   "mimetype": "text/x-python",
   "name": "python",
   "nbconvert_exporter": "python",
   "pygments_lexer": "ipython3",
   "version": "3.8.15"
  }
 },
 "nbformat": 4,
 "nbformat_minor": 5
}
