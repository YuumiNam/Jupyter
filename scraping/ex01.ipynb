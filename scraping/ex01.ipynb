{
 "cells": [
  {
   "cell_type": "markdown",
   "id": "156fd59f",
   "metadata": {},
   "source": [
    "# 파이썬에서 웹페이지를 스크래핑해보기"
   ]
  },
  {
   "cell_type": "code",
   "execution_count": 1,
   "id": "e4d9ed55",
   "metadata": {},
   "outputs": [],
   "source": [
    "# 파이썬에서 웹페이지를 scraping\n",
    "# 원하는 데이터를 뽑아오기 위한 예제\n",
    "import requests"
   ]
  },
  {
   "cell_type": "code",
   "execution_count": 2,
   "id": "872b5e02",
   "metadata": {},
   "outputs": [
    {
     "name": "stdout",
     "output_type": "stream",
     "text": [
      "<Response [200]>\n"
     ]
    }
   ],
   "source": [
    "r = requests.get('https://www.naver.com/')\n",
    "print(r)"
   ]
  },
  {
   "cell_type": "code",
   "execution_count": 3,
   "id": "565901a8",
   "metadata": {},
   "outputs": [],
   "source": [
    "# print(r.text)"
   ]
  },
  {
   "cell_type": "code",
   "execution_count": 4,
   "id": "15f3e7b5",
   "metadata": {},
   "outputs": [],
   "source": [
    "html = requests.get('https://www.naver.com/').text\n",
    "# print(html)"
   ]
  },
  {
   "cell_type": "code",
   "execution_count": 5,
   "id": "4eef924f",
   "metadata": {},
   "outputs": [],
   "source": [
    "from bs4 import BeautifulSoup"
   ]
  },
  {
   "cell_type": "code",
   "execution_count": 6,
   "id": "48964a81",
   "metadata": {},
   "outputs": [],
   "source": [
    "html = \"\"\"<html>\n",
    "          <body>\n",
    "              <div>\n",
    "                  <span>\n",
    "                      <a href=http://www.naver.com>naver</a>\n",
    "                      <a href=https://www.google.com>google</a>\n",
    "                      <a href=http://www.daum.net/>daum</a>\n",
    "                  </span>\n",
    "            </div>\n",
    "        </body>\n",
    "        </html>\"\"\""
   ]
  },
  {
   "cell_type": "code",
   "execution_count": 7,
   "id": "fc971bf9",
   "metadata": {},
   "outputs": [],
   "source": [
    "soup = BeautifulSoup(html, 'lxml')"
   ]
  },
  {
   "cell_type": "code",
   "execution_count": 8,
   "id": "c5a4fac8",
   "metadata": {},
   "outputs": [
    {
     "name": "stdout",
     "output_type": "stream",
     "text": [
      "<html>\n",
      "<body>\n",
      "<div>\n",
      "<span>\n",
      "<a href=\"http://www.naver.com\">naver</a>\n",
      "<a href=\"https://www.google.com\">google</a>\n",
      "<a href=\"http://www.daum.net/\">daum</a>\n",
      "</span>\n",
      "</div>\n",
      "</body>\n",
      "</html>\n"
     ]
    }
   ],
   "source": [
    "print(soup)"
   ]
  },
  {
   "cell_type": "code",
   "execution_count": 9,
   "id": "2cdadc45",
   "metadata": {},
   "outputs": [
    {
     "name": "stdout",
     "output_type": "stream",
     "text": [
      "<html>\n",
      " <body>\n",
      "  <div>\n",
      "   <span>\n",
      "    <a href=\"http://www.naver.com\">\n",
      "     naver\n",
      "    </a>\n",
      "    <a href=\"https://www.google.com\">\n",
      "     google\n",
      "    </a>\n",
      "    <a href=\"http://www.daum.net/\">\n",
      "     daum\n",
      "    </a>\n",
      "   </span>\n",
      "  </div>\n",
      " </body>\n",
      "</html>\n"
     ]
    }
   ],
   "source": [
    "print(soup.prettify()) # 이쁘게 펼쳐줌"
   ]
  },
  {
   "cell_type": "code",
   "execution_count": 10,
   "id": "a06e3502",
   "metadata": {},
   "outputs": [
    {
     "name": "stdout",
     "output_type": "stream",
     "text": [
      "<a href=\"http://www.naver.com\">naver</a>\n"
     ]
    }
   ],
   "source": [
    "print(soup.find('a')) # 맨 처음 찾은 'a' 값만 리턴"
   ]
  },
  {
   "cell_type": "code",
   "execution_count": 11,
   "id": "f9a4717e",
   "metadata": {},
   "outputs": [
    {
     "name": "stdout",
     "output_type": "stream",
     "text": [
      "naver\n"
     ]
    }
   ],
   "source": [
    "print(soup.find('a').get_text()) # 맨 처음 찾은 'a' 값의 text를 리턴"
   ]
  },
  {
   "cell_type": "code",
   "execution_count": 12,
   "id": "ac84ec61",
   "metadata": {},
   "outputs": [
    {
     "name": "stdout",
     "output_type": "stream",
     "text": [
      "[<a href=\"http://www.naver.com\">naver</a>, <a href=\"https://www.google.com\">google</a>, <a href=\"http://www.daum.net/\">daum</a>]\n"
     ]
    }
   ],
   "source": [
    "print(soup.find_all('a')) # 리스트형태"
   ]
  },
  {
   "cell_type": "code",
   "execution_count": 13,
   "id": "1da5970b",
   "metadata": {},
   "outputs": [
    {
     "name": "stdout",
     "output_type": "stream",
     "text": [
      "naver\n",
      "google\n",
      "daum\n"
     ]
    }
   ],
   "source": [
    "sites = soup.find_all('a') # 리스트형태이기 때문에 바로 get_text() 못씀\n",
    "for site in sites: \n",
    "    print(site.get_text())"
   ]
  },
  {
   "cell_type": "code",
   "execution_count": 14,
   "id": "c591f3ae",
   "metadata": {},
   "outputs": [],
   "source": [
    "html02 = \"\"\"\n",
    "<html>\n",
    "<head>\n",
    "<title>작품과 작가 모음</title>\n",
    "</head>\n",
    "<body>\n",
    "    <h1>책 정보</h1>\n",
    "        <p id=\"book_title\">토지</p>\n",
    "        <p id=\"author\">박경리</p>\n",
    "        <p id=\"book_title\">태백산맥</p>\n",
    "        <p id=\"author\">조정래</p>\n",
    "        <p id=\"book_title\">감옥으로부터의 사색</p>\n",
    "        <p id=\"author\">신영복</p>\n",
    "</body>\n",
    "</html>\n",
    "\"\"\""
   ]
  },
  {
   "cell_type": "code",
   "execution_count": 15,
   "id": "0abba4c7",
   "metadata": {},
   "outputs": [],
   "source": [
    "soup02 = BeautifulSoup(html02, 'lxml')"
   ]
  },
  {
   "cell_type": "code",
   "execution_count": 16,
   "id": "a31d9c0a",
   "metadata": {},
   "outputs": [
    {
     "name": "stdout",
     "output_type": "stream",
     "text": [
      "<title>작품과 작가 모음</title>\n"
     ]
    }
   ],
   "source": [
    "print(soup02.title)"
   ]
  },
  {
   "cell_type": "code",
   "execution_count": 17,
   "id": "5ba7f7dd",
   "metadata": {},
   "outputs": [
    {
     "name": "stdout",
     "output_type": "stream",
     "text": [
      "<body>\n",
      "<h1>책 정보</h1>\n",
      "<p id=\"book_title\">토지</p>\n",
      "<p id=\"author\">박경리</p>\n",
      "<p id=\"book_title\">태백산맥</p>\n",
      "<p id=\"author\">조정래</p>\n",
      "<p id=\"book_title\">감옥으로부터의 사색</p>\n",
      "<p id=\"author\">신영복</p>\n",
      "</body>\n"
     ]
    }
   ],
   "source": [
    "print(soup02.body)"
   ]
  },
  {
   "cell_type": "code",
   "execution_count": 18,
   "id": "6a977bdf",
   "metadata": {},
   "outputs": [
    {
     "name": "stdout",
     "output_type": "stream",
     "text": [
      "<h1>책 정보</h1>\n"
     ]
    }
   ],
   "source": [
    "print(soup02.body.h1)"
   ]
  },
  {
   "cell_type": "code",
   "execution_count": 19,
   "id": "678e3d0f",
   "metadata": {
    "scrolled": true
   },
   "outputs": [
    {
     "name": "stdout",
     "output_type": "stream",
     "text": [
      "<p id=\"book_title\">토지</p>\n"
     ]
    }
   ],
   "source": [
    "print(soup02.find('p', {'id': 'book_title'})) # p 태그중 id값을 가져오고싶을때"
   ]
  },
  {
   "cell_type": "code",
   "execution_count": 20,
   "id": "9ad6220b",
   "metadata": {},
   "outputs": [
    {
     "name": "stdout",
     "output_type": "stream",
     "text": [
      "[<p id=\"book_title\">토지</p>, <p id=\"book_title\">태백산맥</p>, <p id=\"book_title\">감옥으로부터의 사색</p>]\n"
     ]
    }
   ],
   "source": [
    "print(soup02.find_all('p', {'id': 'book_title'}))"
   ]
  },
  {
   "cell_type": "code",
   "execution_count": 21,
   "id": "fa1a8b64",
   "metadata": {},
   "outputs": [
    {
     "name": "stdout",
     "output_type": "stream",
     "text": [
      "토지/박경리\n",
      "태백산맥/조정래\n",
      "감옥으로부터의 사색/신영복\n"
     ]
    }
   ],
   "source": [
    "book_titles = soup02.find_all('p', {\"id\":\"book_title\"})\n",
    "authors = soup02.find_all('p', {\"id\":\"author\"})\n",
    "\n",
    "for book_title, author in zip(book_titles, authors):\n",
    "    print(book_title.get_text() + '/' + author.get_text())"
   ]
  },
  {
   "cell_type": "code",
   "execution_count": 22,
   "id": "9b785757",
   "metadata": {},
   "outputs": [
    {
     "name": "stdout",
     "output_type": "stream",
     "text": [
      "[<h1>책 정보</h1>]\n"
     ]
    }
   ],
   "source": [
    "## css selector\n",
    "print(soup02.select('body h1')) "
   ]
  },
  {
   "cell_type": "code",
   "execution_count": 23,
   "id": "8d2aa465",
   "metadata": {},
   "outputs": [
    {
     "name": "stdout",
     "output_type": "stream",
     "text": [
      "[<p id=\"book_title\">토지</p>, <p id=\"author\">박경리</p>, <p id=\"book_title\">태백산맥</p>, <p id=\"author\">조정래</p>, <p id=\"book_title\">감옥으로부터의 사색</p>, <p id=\"author\">신영복</p>]\n"
     ]
    }
   ],
   "source": [
    "print(soup02.select('body p'))"
   ]
  },
  {
   "cell_type": "code",
   "execution_count": 24,
   "id": "2d05437c",
   "metadata": {},
   "outputs": [
    {
     "name": "stdout",
     "output_type": "stream",
     "text": [
      "[<p id=\"book_title\">토지</p>, <p id=\"book_title\">태백산맥</p>, <p id=\"book_title\">감옥으로부터의 사색</p>]\n"
     ]
    }
   ],
   "source": [
    "print(soup02.select('p#book_title'))"
   ]
  },
  {
   "cell_type": "code",
   "execution_count": 25,
   "id": "397b60cd",
   "metadata": {},
   "outputs": [],
   "source": [
    "html03 = \"\"\"\n",
    "    <!doctype html>\n",
    "\n",
    "    <html>\n",
    "    <head>\n",
    "    <meta charset=\"utf-8\">\n",
    "    <title>사이트 모음</title>\n",
    "    </head>\n",
    "    <body>\n",
    "        <p id=\"title\">\n",
    "            <b>자주 가는 사이트 모음</b>\n",
    "        </p>\n",
    "        \n",
    "        <p id=\"contents\">이곳은 자주 가는 사이트를 모아둔 곳입니다.</p>\n",
    "            <a href=\"http://www.naver.com\" class=\"portal\" id=\"naver\">네이버</a> <br>\n",
    "            <a href=\"https://www.google.com\" class=\"search\" id=\"google\">구글</a> <br>\n",
    "            <a href=\"http://www.daum.net\" class=\"portal\" id=\"daum\">다음</a> <br>\n",
    "            <a href=\"http://www.nl.go.kr\" class=\"government\" id=\"nl\">국립중앙도서관</a>\n",
    "    </body>\n",
    "    </html>\n",
    "\"\"\""
   ]
  },
  {
   "cell_type": "code",
   "execution_count": 26,
   "id": "7e274662",
   "metadata": {},
   "outputs": [
    {
     "name": "stdout",
     "output_type": "stream",
     "text": [
      "[<a class=\"portal\" href=\"http://www.naver.com\" id=\"naver\">네이버</a>, <a class=\"portal\" href=\"http://www.daum.net\" id=\"daum\">다음</a>]\n"
     ]
    }
   ],
   "source": [
    "soup03 = BeautifulSoup(html03, 'lxml')\n",
    "\n",
    "print(soup03.select('a.portal'))"
   ]
  }
 ],
 "metadata": {
  "kernelspec": {
   "display_name": "Python 3 (ipykernel)",
   "language": "python",
   "name": "python3"
  },
  "language_info": {
   "codemirror_mode": {
    "name": "ipython",
    "version": 3
   },
   "file_extension": ".py",
   "mimetype": "text/x-python",
   "name": "python",
   "nbconvert_exporter": "python",
   "pygments_lexer": "ipython3",
   "version": "3.8.15"
  }
 },
 "nbformat": 4,
 "nbformat_minor": 5
}
