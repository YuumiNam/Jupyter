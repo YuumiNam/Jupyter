{
 "cells": [
  {
   "cell_type": "markdown",
   "id": "c890ddb2",
   "metadata": {},
   "source": [
    "# Chicago 사이트에서 정보 불러오고 맵에 표시하기"
   ]
  },
  {
   "cell_type": "markdown",
   "id": "c3455341",
   "metadata": {},
   "source": [
    "#### 참고자료(지금은 12년도 사이트를 활용할것)\n",
    "- (2012년도) : https://www.chicagomag.com/Chicago-Magazine/November-2012/Best-Sandwiches-Chicago/\n",
    "\n",
    "- 최신년도 : https://www.chicagomag.com"
   ]
  },
  {
   "cell_type": "code",
   "execution_count": 1,
   "id": "a665631c",
   "metadata": {},
   "outputs": [],
   "source": [
    "from bs4 import BeautifulSoup\n",
    "import requests"
   ]
  },
  {
   "cell_type": "markdown",
   "id": "b0ca9ded",
   "metadata": {},
   "source": [
    "### 사이트 접속"
   ]
  },
  {
   "cell_type": "code",
   "execution_count": 2,
   "id": "48bba4e1",
   "metadata": {},
   "outputs": [],
   "source": [
    "url = 'https://www.chicagomag.com/Chicago-Magazine/November-2012/Best-Sandwiches-Chicago/'\n",
    "\n",
    "# headers={\"User-Agent\":\"Mozilla/5.0\"}\n",
    "# 접근하는 웹사이트가 우리를 브라우저로 인식하게해서\n",
    "# 접근금지를 풀어줌\n",
    "html = requests.get(url, headers={\"User-Agent\":\"Mozilla/5.0\"}).text\n",
    "soup = BeautifulSoup(html, 'lxml')"
   ]
  },
  {
   "cell_type": "code",
   "execution_count": 3,
   "id": "d93f32d6",
   "metadata": {
    "scrolled": true
   },
   "outputs": [],
   "source": [
    "# headers={\"User-Agent\":\"Mozilla/5.0\"}를 안적었다면\n",
    "# 접근금지뜸\n",
    "# print(soup)"
   ]
  },
  {
   "cell_type": "markdown",
   "id": "6caf1308",
   "metadata": {},
   "source": [
    "### 첫번째 햄버거 정보 뽑아보기"
   ]
  },
  {
   "cell_type": "code",
   "execution_count": 4,
   "id": "a344940e",
   "metadata": {},
   "outputs": [
    {
     "data": {
      "text/plain": [
       "50"
      ]
     },
     "execution_count": 4,
     "metadata": {},
     "output_type": "execute_result"
    }
   ],
   "source": [
    "# 사이트에 있는 햄버거의 개수\n",
    "len(soup.select('div.sammy'))"
   ]
  },
  {
   "cell_type": "code",
   "execution_count": 5,
   "id": "dc2a2295",
   "metadata": {
    "scrolled": false
   },
   "outputs": [
    {
     "data": {
      "text/plain": [
       "<div class=\"sammy\" style=\"position: relative;\">\n",
       "<div class=\"sammyRank\">1</div>\n",
       "<div class=\"sammyListing\"><a href=\"/Chicago-Magazine/November-2012/Best-Sandwiches-in-Chicago-Old-Oak-Tap-BLT/\"><b>BLT</b><br/>\n",
       "Old Oak Tap<br/>\n",
       "<em>Read more</em> </a></div>\n",
       "</div>"
      ]
     },
     "execution_count": 5,
     "metadata": {},
     "output_type": "execute_result"
    }
   ],
   "source": [
    "# 첫번째 햄버거 정보\n",
    "soup.select('div.sammy')[0]"
   ]
  },
  {
   "cell_type": "code",
   "execution_count": 6,
   "id": "7db4c6d4",
   "metadata": {},
   "outputs": [],
   "source": [
    "# sammy태그의 첫번째 햄버거 정보를 변수로 지정\n",
    "tmp = soup.select('div.sammy')[0]"
   ]
  },
  {
   "cell_type": "code",
   "execution_count": 7,
   "id": "b2ba6c61",
   "metadata": {
    "scrolled": false
   },
   "outputs": [
    {
     "data": {
      "text/plain": [
       "'1'"
      ]
     },
     "execution_count": 7,
     "metadata": {},
     "output_type": "execute_result"
    }
   ],
   "source": [
    "# .text와 get_text()의 차이는 뭘까\n",
    "# select는 배열로 가져오기때문에\n",
    "# 값을 뽑아오려면 뒤에 [0]을 붙인것임\n",
    "tmp.select('.sammyRank')[0].text"
   ]
  },
  {
   "cell_type": "code",
   "execution_count": 8,
   "id": "f10427cf",
   "metadata": {
    "scrolled": true
   },
   "outputs": [
    {
     "data": {
      "text/plain": [
       "'BLT\\nOld Oak Tap\\nRead more '"
      ]
     },
     "execution_count": 8,
     "metadata": {},
     "output_type": "execute_result"
    }
   ],
   "source": [
    "tmp.select('.sammyListing')[0].text"
   ]
  },
  {
   "cell_type": "code",
   "execution_count": 9,
   "id": "dd3de2cd",
   "metadata": {},
   "outputs": [
    {
     "data": {
      "text/plain": [
       "['BLT', 'Old Oak Tap', 'Read more ']"
      ]
     },
     "execution_count": 9,
     "metadata": {},
     "output_type": "execute_result"
    }
   ],
   "source": [
    "# 띄어쓰기를 기준으로 단어 나누기\n",
    "tmp.select('.sammyListing')[0].text.split('\\n')"
   ]
  },
  {
   "cell_type": "code",
   "execution_count": 10,
   "id": "639cae48",
   "metadata": {
    "scrolled": true
   },
   "outputs": [
    {
     "data": {
      "text/plain": [
       "<a href=\"/Chicago-Magazine/November-2012/Best-Sandwiches-in-Chicago-Old-Oak-Tap-BLT/\"><b>BLT</b><br/>\n",
       "Old Oak Tap<br/>\n",
       "<em>Read more</em> </a>"
      ]
     },
     "execution_count": 10,
     "metadata": {},
     "output_type": "execute_result"
    }
   ],
   "source": [
    "tmp.find('a')"
   ]
  },
  {
   "cell_type": "code",
   "execution_count": 11,
   "id": "f75a9a0c",
   "metadata": {
    "scrolled": false
   },
   "outputs": [
    {
     "data": {
      "text/plain": [
       "<a href=\"/Chicago-Magazine/November-2012/Best-Sandwiches-in-Chicago-Old-Oak-Tap-BLT/\"><b>BLT</b><br/>\n",
       "Old Oak Tap<br/>\n",
       "<em>Read more</em> </a>"
      ]
     },
     "execution_count": 11,
     "metadata": {},
     "output_type": "execute_result"
    }
   ],
   "source": [
    "# href 안에있는 내용만 뽑아오고싶음\n",
    "tmp.select('div.sammyListing a')[0] # 실패"
   ]
  },
  {
   "cell_type": "code",
   "execution_count": 12,
   "id": "abed0cba",
   "metadata": {},
   "outputs": [
    {
     "data": {
      "text/plain": [
       "'/Chicago-Magazine/November-2012/Best-Sandwiches-in-Chicago-Old-Oak-Tap-BLT/'"
      ]
     },
     "execution_count": 12,
     "metadata": {},
     "output_type": "execute_result"
    }
   ],
   "source": [
    "tmp.find('a')['href'] # 성공"
   ]
  },
  {
   "cell_type": "markdown",
   "id": "3a185909",
   "metadata": {},
   "source": [
    "### 50종류의 햄버거를 각 배열에 저장"
   ]
  },
  {
   "cell_type": "code",
   "execution_count": 13,
   "id": "04b65216",
   "metadata": {},
   "outputs": [],
   "source": [
    "rank = []\n",
    "main_menu = []\n",
    "cafe_name = []\n",
    "link_url = []\n",
    "\n",
    "list_soup = soup.select('div.sammy')\n",
    "\n",
    "for item in list_soup:\n",
    "    rank.append(item.select('.sammyRank')[0].text)\n",
    "    \n",
    "    # 띄어쓰기를 기준으로 단어를 나누기\n",
    "    list_string = item.select('.sammyListing')[0].text.split('\\n')\n",
    "    main_menu.append(list_string[0])\n",
    "    cafe_name.append(list_string[1])\n",
    "    \n",
    "    link_url.append(item.find('a')['href'])"
   ]
  },
  {
   "cell_type": "code",
   "execution_count": 14,
   "id": "4365a7c0",
   "metadata": {},
   "outputs": [
    {
     "name": "stdout",
     "output_type": "stream",
     "text": [
      "50 50 50 50\n"
     ]
    }
   ],
   "source": [
    "print(len(rank), len(main_menu), len(cafe_name), len(link_url))"
   ]
  },
  {
   "cell_type": "code",
   "execution_count": 15,
   "id": "4757e26c",
   "metadata": {},
   "outputs": [
    {
     "name": "stdout",
     "output_type": "stream",
     "text": [
      "['1', '2', '3', '4', '5', '6', '7', '8', '9', '10', '11', '12', '13', '14', '15', '16', '17', '18', '19', '20', '21', '22', '23', '24', '25', '26', '27', '28', '29', '30', '31', '32', '33', '34', '35', '36', '37', '38', '39', '40', '41', '42', '43', '44', '45', '46', '47', '48', '49', '50']\n"
     ]
    }
   ],
   "source": [
    "print(rank)"
   ]
  },
  {
   "cell_type": "code",
   "execution_count": 16,
   "id": "5a904bb3",
   "metadata": {},
   "outputs": [],
   "source": [
    "base_url = 'https://www.chicagomag.com/Chicago-Magazine/November-2012/Best-Sandwiches-Chicago/'"
   ]
  },
  {
   "cell_type": "code",
   "execution_count": 17,
   "id": "99d4cd43",
   "metadata": {},
   "outputs": [
    {
     "data": {
      "application/vnd.jupyter.widget-view+json": {
       "model_id": "31f888721bac402792d7256cec198de8",
       "version_major": 2,
       "version_minor": 0
      },
      "text/plain": [
       "  0%|          | 0/50 [00:00<?, ?it/s]"
      ]
     },
     "metadata": {},
     "output_type": "display_data"
    }
   ],
   "source": [
    "from urllib.parse import urljoin\n",
    "from tqdm.notebook import tqdm\n",
    "\n",
    "rank = []\n",
    "main_menu = []\n",
    "cafe_name = []\n",
    "link_url = []\n",
    "\n",
    "list_soup = soup.select('div.sammy')\n",
    "\n",
    "# tqdm\n",
    "# 해당부분의 진행정도를 보여주게 됨\n",
    "for item in tqdm(list_soup):\n",
    "    rank.append(item.select('.sammyRank')[0].text)\n",
    "    \n",
    "    # 띄어쓰기를 기준으로 단어를 나누기\n",
    "    list_string = item.select('.sammyListing')[0].text.split('\\n')\n",
    "    main_menu.append(list_string[0])\n",
    "    cafe_name.append(list_string[1])\n",
    "    \n",
    "    link_url.append(urljoin(base_url, \n",
    "                            item.find('a')['href']))"
   ]
  },
  {
   "cell_type": "code",
   "execution_count": 18,
   "id": "c44adcf6",
   "metadata": {
    "scrolled": true
   },
   "outputs": [
    {
     "data": {
      "text/html": [
       "<div>\n",
       "<style scoped>\n",
       "    .dataframe tbody tr th:only-of-type {\n",
       "        vertical-align: middle;\n",
       "    }\n",
       "\n",
       "    .dataframe tbody tr th {\n",
       "        vertical-align: top;\n",
       "    }\n",
       "\n",
       "    .dataframe thead th {\n",
       "        text-align: right;\n",
       "    }\n",
       "</style>\n",
       "<table border=\"1\" class=\"dataframe\">\n",
       "  <thead>\n",
       "    <tr style=\"text-align: right;\">\n",
       "      <th></th>\n",
       "      <th>Rank</th>\n",
       "      <th>Cafe</th>\n",
       "      <th>Menu</th>\n",
       "      <th>URL</th>\n",
       "    </tr>\n",
       "  </thead>\n",
       "  <tbody>\n",
       "    <tr>\n",
       "      <th>0</th>\n",
       "      <td>1</td>\n",
       "      <td>Old Oak Tap</td>\n",
       "      <td>BLT</td>\n",
       "      <td>https://www.chicagomag.com/Chicago-Magazine/No...</td>\n",
       "    </tr>\n",
       "    <tr>\n",
       "      <th>1</th>\n",
       "      <td>2</td>\n",
       "      <td>Au Cheval</td>\n",
       "      <td>Fried Bologna</td>\n",
       "      <td>https://www.chicagomag.com/Chicago-Magazine/No...</td>\n",
       "    </tr>\n",
       "    <tr>\n",
       "      <th>2</th>\n",
       "      <td>3</td>\n",
       "      <td>Xoco</td>\n",
       "      <td>Woodland Mushroom</td>\n",
       "      <td>https://www.chicagomag.com/Chicago-Magazine/No...</td>\n",
       "    </tr>\n",
       "    <tr>\n",
       "      <th>3</th>\n",
       "      <td>4</td>\n",
       "      <td>Al’s Deli</td>\n",
       "      <td>Roast Beef</td>\n",
       "      <td>https://www.chicagomag.com/Chicago-Magazine/No...</td>\n",
       "    </tr>\n",
       "    <tr>\n",
       "      <th>4</th>\n",
       "      <td>5</td>\n",
       "      <td>Publican Quality Meats</td>\n",
       "      <td>PB&amp;L</td>\n",
       "      <td>https://www.chicagomag.com/Chicago-Magazine/No...</td>\n",
       "    </tr>\n",
       "  </tbody>\n",
       "</table>\n",
       "</div>"
      ],
      "text/plain": [
       "  Rank                    Cafe               Menu  \\\n",
       "0    1             Old Oak Tap                BLT   \n",
       "1    2               Au Cheval      Fried Bologna   \n",
       "2    3                    Xoco  Woodland Mushroom   \n",
       "3    4               Al’s Deli         Roast Beef   \n",
       "4    5  Publican Quality Meats               PB&L   \n",
       "\n",
       "                                                 URL  \n",
       "0  https://www.chicagomag.com/Chicago-Magazine/No...  \n",
       "1  https://www.chicagomag.com/Chicago-Magazine/No...  \n",
       "2  https://www.chicagomag.com/Chicago-Magazine/No...  \n",
       "3  https://www.chicagomag.com/Chicago-Magazine/No...  \n",
       "4  https://www.chicagomag.com/Chicago-Magazine/No...  "
      ]
     },
     "execution_count": 18,
     "metadata": {},
     "output_type": "execute_result"
    }
   ],
   "source": [
    "import pandas as pd\n",
    "\n",
    "data = {'Rank':rank, 'Cafe':cafe_name, 'Menu':main_menu, 'URL':link_url}\n",
    "df = pd.DataFrame(data)\n",
    "df.head()"
   ]
  },
  {
   "cell_type": "markdown",
   "id": "0fb4ed3d",
   "metadata": {},
   "source": [
    "### 이제 주소와 가격 등을 뽑기위해 \n",
    "### 각 햄버거마다 다른 url에 접속해줘야함"
   ]
  },
  {
   "cell_type": "markdown",
   "id": "36860d8e",
   "metadata": {},
   "source": [
    "### 첫번째 햄버거 url에 접근"
   ]
  },
  {
   "cell_type": "code",
   "execution_count": 19,
   "id": "5404b9ad",
   "metadata": {},
   "outputs": [
    {
     "data": {
      "text/plain": [
       "RangeIndex(start=0, stop=50, step=1)"
      ]
     },
     "execution_count": 19,
     "metadata": {},
     "output_type": "execute_result"
    }
   ],
   "source": [
    "df.index"
   ]
  },
  {
   "cell_type": "code",
   "execution_count": 20,
   "id": "8a9010a5",
   "metadata": {},
   "outputs": [
    {
     "data": {
      "text/plain": [
       "'https://www.chicagomag.com/Chicago-Magazine/November-2012/Best-Sandwiches-in-Chicago-Old-Oak-Tap-BLT/'"
      ]
     },
     "execution_count": 20,
     "metadata": {},
     "output_type": "execute_result"
    }
   ],
   "source": [
    "df['URL'][0]"
   ]
  },
  {
   "cell_type": "code",
   "execution_count": 21,
   "id": "fb5c99e0",
   "metadata": {},
   "outputs": [],
   "source": [
    "# 50종류의 햄버거중 첫번째 햄버거로 url 클릭\n",
    "html = requests.get(df['URL'][0], headers={\"User-Agent\":\"Mozilla/5.0\"}).text\n",
    "tmp = BeautifulSoup(html, 'lxml')"
   ]
  },
  {
   "cell_type": "code",
   "execution_count": 22,
   "id": "5a40694b",
   "metadata": {},
   "outputs": [
    {
     "data": {
      "text/plain": [
       "'\\n$10. 2109 W. Chicago Ave., 773-772-0406, theoldoaktap.com'"
      ]
     },
     "execution_count": 22,
     "metadata": {},
     "output_type": "execute_result"
    }
   ],
   "source": [
    "# p태그의 addy클래스의 주소정보, 전화번호, 사이트를 뽑아옴\n",
    "tmp.select('p.addy')[0].text"
   ]
  },
  {
   "cell_type": "code",
   "execution_count": 23,
   "id": "0a67f109",
   "metadata": {
    "scrolled": false
   },
   "outputs": [
    {
     "data": {
      "text/plain": [
       "'\\n$10. 2109 W. Chicago Ave.'"
      ]
     },
     "execution_count": 23,
     "metadata": {},
     "output_type": "execute_result"
    }
   ],
   "source": [
    "# 주소정보만 뽑아옴\n",
    "tmp.select('p.addy')[0].text.split(',')[0]"
   ]
  },
  {
   "cell_type": "code",
   "execution_count": 24,
   "id": "c65c8e07",
   "metadata": {},
   "outputs": [
    {
     "data": {
      "text/plain": [
       "['$10.', '2109', 'W.', 'Chicago', 'Ave.']"
      ]
     },
     "execution_count": 24,
     "metadata": {},
     "output_type": "execute_result"
    }
   ],
   "source": [
    "# 주소정보를 불러옴\n",
    "tmp.select('p.addy')[0].text.split(',')[0].split()"
   ]
  },
  {
   "cell_type": "code",
   "execution_count": 25,
   "id": "cea61940",
   "metadata": {},
   "outputs": [
    {
     "data": {
      "text/plain": [
       "'$10.'"
      ]
     },
     "execution_count": 25,
     "metadata": {},
     "output_type": "execute_result"
    }
   ],
   "source": [
    "# $10. 만 뽑아옴 (가격 완성!)\n",
    "tmp.select('p.addy')[0].text.split(',')[0].split()[0]"
   ]
  },
  {
   "cell_type": "code",
   "execution_count": 26,
   "id": "f94a1206",
   "metadata": {},
   "outputs": [
    {
     "data": {
      "text/plain": [
       "'$10'"
      ]
     },
     "execution_count": 26,
     "metadata": {},
     "output_type": "execute_result"
    }
   ],
   "source": [
    "# $10과 .을 분리\n",
    "# [:-1]은 뒤에서 빼고 나머지는 출력\n",
    "# [-1]은 뒤에서 첫번째만 출력\n",
    "tmp.select('p.addy')[0].text.split(',')[0].split()[0][:-1]"
   ]
  },
  {
   "cell_type": "code",
   "execution_count": 27,
   "id": "2843a5d3",
   "metadata": {
    "scrolled": true
   },
   "outputs": [
    {
     "data": {
      "text/plain": [
       "['2109', 'W.', 'Chicago', 'Ave.']"
      ]
     },
     "execution_count": 27,
     "metadata": {},
     "output_type": "execute_result"
    }
   ],
   "source": [
    "# $10 빼고 출력\n",
    "tmp.select('p.addy')[0].text.split(',')[0].split()[1:]"
   ]
  },
  {
   "cell_type": "code",
   "execution_count": 28,
   "id": "994d98af",
   "metadata": {},
   "outputs": [
    {
     "data": {
      "text/plain": [
       "'2109 W. Chicago Ave.'"
      ]
     },
     "execution_count": 28,
     "metadata": {},
     "output_type": "execute_result"
    }
   ],
   "source": [
    "# $10 빼고 출력한것을 붙여줌 (주소 완성!)\n",
    "' '.join(tmp.select('p.addy')[0].text.split(',')[0].split()[1:])"
   ]
  },
  {
   "cell_type": "markdown",
   "id": "8605a8f2",
   "metadata": {},
   "source": [
    "### 50종류에 대한 햄버거의 주소, 가격 등을 뽑아옴"
   ]
  },
  {
   "cell_type": "code",
   "execution_count": 29,
   "id": "5d5f99d4",
   "metadata": {},
   "outputs": [
    {
     "data": {
      "application/vnd.jupyter.widget-view+json": {
       "model_id": "68537a330a6440238398f0cbafc24df6",
       "version_major": 2,
       "version_minor": 0
      },
      "text/plain": [
       "  0%|          | 0/50 [00:00<?, ?it/s]"
      ]
     },
     "metadata": {},
     "output_type": "display_data"
    }
   ],
   "source": [
    "import time\n",
    "\n",
    "price = []\n",
    "address = []\n",
    "\n",
    "for n in tqdm(df.index):\n",
    "    html = requests.get(df['URL'][n], headers={\"User-Agent\":\"Mozilla/5.0\"})\n",
    "    time.sleep(1)\n",
    "    tmp = BeautifulSoup(html.text, 'lxml')\n",
    "    \n",
    "    val_list = tmp.select('p.addy')[0].text.split(',')[0].split()\n",
    "    \n",
    "    price.append(val_list[0][:-1])\n",
    "    address.append(' '.join(val_list[1:]))"
   ]
  },
  {
   "cell_type": "code",
   "execution_count": 30,
   "id": "2f23afbf",
   "metadata": {},
   "outputs": [
    {
     "name": "stdout",
     "output_type": "stream",
     "text": [
      "50 50\n"
     ]
    }
   ],
   "source": [
    "print(len(price), len(address))"
   ]
  },
  {
   "cell_type": "code",
   "execution_count": 31,
   "id": "a87ff12c",
   "metadata": {},
   "outputs": [
    {
     "data": {
      "text/html": [
       "<div>\n",
       "<style scoped>\n",
       "    .dataframe tbody tr th:only-of-type {\n",
       "        vertical-align: middle;\n",
       "    }\n",
       "\n",
       "    .dataframe tbody tr th {\n",
       "        vertical-align: top;\n",
       "    }\n",
       "\n",
       "    .dataframe thead th {\n",
       "        text-align: right;\n",
       "    }\n",
       "</style>\n",
       "<table border=\"1\" class=\"dataframe\">\n",
       "  <thead>\n",
       "    <tr style=\"text-align: right;\">\n",
       "      <th></th>\n",
       "      <th>Rank</th>\n",
       "      <th>Cafe</th>\n",
       "      <th>Menu</th>\n",
       "      <th>URL</th>\n",
       "      <th>Price</th>\n",
       "      <th>Address</th>\n",
       "    </tr>\n",
       "  </thead>\n",
       "  <tbody>\n",
       "    <tr>\n",
       "      <th>0</th>\n",
       "      <td>1</td>\n",
       "      <td>Old Oak Tap</td>\n",
       "      <td>BLT</td>\n",
       "      <td>https://www.chicagomag.com/Chicago-Magazine/No...</td>\n",
       "      <td>$10</td>\n",
       "      <td>2109 W. Chicago Ave.</td>\n",
       "    </tr>\n",
       "    <tr>\n",
       "      <th>1</th>\n",
       "      <td>2</td>\n",
       "      <td>Au Cheval</td>\n",
       "      <td>Fried Bologna</td>\n",
       "      <td>https://www.chicagomag.com/Chicago-Magazine/No...</td>\n",
       "      <td>$9</td>\n",
       "      <td>800 W. Randolph St.</td>\n",
       "    </tr>\n",
       "    <tr>\n",
       "      <th>2</th>\n",
       "      <td>3</td>\n",
       "      <td>Xoco</td>\n",
       "      <td>Woodland Mushroom</td>\n",
       "      <td>https://www.chicagomag.com/Chicago-Magazine/No...</td>\n",
       "      <td>$9.50</td>\n",
       "      <td>445 N. Clark St.</td>\n",
       "    </tr>\n",
       "    <tr>\n",
       "      <th>3</th>\n",
       "      <td>4</td>\n",
       "      <td>Al’s Deli</td>\n",
       "      <td>Roast Beef</td>\n",
       "      <td>https://www.chicagomag.com/Chicago-Magazine/No...</td>\n",
       "      <td>$9.40</td>\n",
       "      <td>914 Noyes St.</td>\n",
       "    </tr>\n",
       "    <tr>\n",
       "      <th>4</th>\n",
       "      <td>5</td>\n",
       "      <td>Publican Quality Meats</td>\n",
       "      <td>PB&amp;L</td>\n",
       "      <td>https://www.chicagomag.com/Chicago-Magazine/No...</td>\n",
       "      <td>$10</td>\n",
       "      <td>825 W. Fulton Mkt.</td>\n",
       "    </tr>\n",
       "  </tbody>\n",
       "</table>\n",
       "</div>"
      ],
      "text/plain": [
       "  Rank                    Cafe               Menu  \\\n",
       "0    1             Old Oak Tap                BLT   \n",
       "1    2               Au Cheval      Fried Bologna   \n",
       "2    3                    Xoco  Woodland Mushroom   \n",
       "3    4               Al’s Deli         Roast Beef   \n",
       "4    5  Publican Quality Meats               PB&L   \n",
       "\n",
       "                                                 URL  Price  \\\n",
       "0  https://www.chicagomag.com/Chicago-Magazine/No...    $10   \n",
       "1  https://www.chicagomag.com/Chicago-Magazine/No...     $9   \n",
       "2  https://www.chicagomag.com/Chicago-Magazine/No...  $9.50   \n",
       "3  https://www.chicagomag.com/Chicago-Magazine/No...  $9.40   \n",
       "4  https://www.chicagomag.com/Chicago-Magazine/No...    $10   \n",
       "\n",
       "                Address  \n",
       "0  2109 W. Chicago Ave.  \n",
       "1   800 W. Randolph St.  \n",
       "2      445 N. Clark St.  \n",
       "3         914 Noyes St.  \n",
       "4    825 W. Fulton Mkt.  "
      ]
     },
     "execution_count": 31,
     "metadata": {},
     "output_type": "execute_result"
    }
   ],
   "source": [
    "df['Price'] = price\n",
    "df['Address'] = address\n",
    "df.head()"
   ]
  },
  {
   "cell_type": "code",
   "execution_count": 32,
   "id": "af31cad6",
   "metadata": {},
   "outputs": [
    {
     "data": {
      "text/html": [
       "<div>\n",
       "<style scoped>\n",
       "    .dataframe tbody tr th:only-of-type {\n",
       "        vertical-align: middle;\n",
       "    }\n",
       "\n",
       "    .dataframe tbody tr th {\n",
       "        vertical-align: top;\n",
       "    }\n",
       "\n",
       "    .dataframe thead th {\n",
       "        text-align: right;\n",
       "    }\n",
       "</style>\n",
       "<table border=\"1\" class=\"dataframe\">\n",
       "  <thead>\n",
       "    <tr style=\"text-align: right;\">\n",
       "      <th></th>\n",
       "      <th>Rank</th>\n",
       "      <th>Cafe</th>\n",
       "      <th>Menu</th>\n",
       "      <th>Price</th>\n",
       "      <th>Address</th>\n",
       "    </tr>\n",
       "  </thead>\n",
       "  <tbody>\n",
       "    <tr>\n",
       "      <th>0</th>\n",
       "      <td>1</td>\n",
       "      <td>Old Oak Tap</td>\n",
       "      <td>BLT</td>\n",
       "      <td>$10</td>\n",
       "      <td>2109 W. Chicago Ave.</td>\n",
       "    </tr>\n",
       "    <tr>\n",
       "      <th>1</th>\n",
       "      <td>2</td>\n",
       "      <td>Au Cheval</td>\n",
       "      <td>Fried Bologna</td>\n",
       "      <td>$9</td>\n",
       "      <td>800 W. Randolph St.</td>\n",
       "    </tr>\n",
       "    <tr>\n",
       "      <th>2</th>\n",
       "      <td>3</td>\n",
       "      <td>Xoco</td>\n",
       "      <td>Woodland Mushroom</td>\n",
       "      <td>$9.50</td>\n",
       "      <td>445 N. Clark St.</td>\n",
       "    </tr>\n",
       "    <tr>\n",
       "      <th>3</th>\n",
       "      <td>4</td>\n",
       "      <td>Al’s Deli</td>\n",
       "      <td>Roast Beef</td>\n",
       "      <td>$9.40</td>\n",
       "      <td>914 Noyes St.</td>\n",
       "    </tr>\n",
       "    <tr>\n",
       "      <th>4</th>\n",
       "      <td>5</td>\n",
       "      <td>Publican Quality Meats</td>\n",
       "      <td>PB&amp;L</td>\n",
       "      <td>$10</td>\n",
       "      <td>825 W. Fulton Mkt.</td>\n",
       "    </tr>\n",
       "  </tbody>\n",
       "</table>\n",
       "</div>"
      ],
      "text/plain": [
       "  Rank                    Cafe               Menu  Price               Address\n",
       "0    1             Old Oak Tap                BLT    $10  2109 W. Chicago Ave.\n",
       "1    2               Au Cheval      Fried Bologna     $9   800 W. Randolph St.\n",
       "2    3                    Xoco  Woodland Mushroom  $9.50      445 N. Clark St.\n",
       "3    4               Al’s Deli         Roast Beef  $9.40         914 Noyes St.\n",
       "4    5  Publican Quality Meats               PB&L    $10    825 W. Fulton Mkt."
      ]
     },
     "execution_count": 32,
     "metadata": {},
     "output_type": "execute_result"
    }
   ],
   "source": [
    "del df['URL']\n",
    "df.head()"
   ]
  },
  {
   "cell_type": "code",
   "execution_count": 33,
   "id": "852e588b",
   "metadata": {
    "scrolled": true
   },
   "outputs": [
    {
     "data": {
      "text/html": [
       "<div>\n",
       "<style scoped>\n",
       "    .dataframe tbody tr th:only-of-type {\n",
       "        vertical-align: middle;\n",
       "    }\n",
       "\n",
       "    .dataframe tbody tr th {\n",
       "        vertical-align: top;\n",
       "    }\n",
       "\n",
       "    .dataframe thead th {\n",
       "        text-align: right;\n",
       "    }\n",
       "</style>\n",
       "<table border=\"1\" class=\"dataframe\">\n",
       "  <thead>\n",
       "    <tr style=\"text-align: right;\">\n",
       "      <th></th>\n",
       "      <th>Cafe</th>\n",
       "      <th>Menu</th>\n",
       "      <th>Price</th>\n",
       "      <th>Address</th>\n",
       "    </tr>\n",
       "    <tr>\n",
       "      <th>Rank</th>\n",
       "      <th></th>\n",
       "      <th></th>\n",
       "      <th></th>\n",
       "      <th></th>\n",
       "    </tr>\n",
       "  </thead>\n",
       "  <tbody>\n",
       "    <tr>\n",
       "      <th>1</th>\n",
       "      <td>Old Oak Tap</td>\n",
       "      <td>BLT</td>\n",
       "      <td>$10</td>\n",
       "      <td>2109 W. Chicago Ave.</td>\n",
       "    </tr>\n",
       "    <tr>\n",
       "      <th>2</th>\n",
       "      <td>Au Cheval</td>\n",
       "      <td>Fried Bologna</td>\n",
       "      <td>$9</td>\n",
       "      <td>800 W. Randolph St.</td>\n",
       "    </tr>\n",
       "    <tr>\n",
       "      <th>3</th>\n",
       "      <td>Xoco</td>\n",
       "      <td>Woodland Mushroom</td>\n",
       "      <td>$9.50</td>\n",
       "      <td>445 N. Clark St.</td>\n",
       "    </tr>\n",
       "    <tr>\n",
       "      <th>4</th>\n",
       "      <td>Al’s Deli</td>\n",
       "      <td>Roast Beef</td>\n",
       "      <td>$9.40</td>\n",
       "      <td>914 Noyes St.</td>\n",
       "    </tr>\n",
       "    <tr>\n",
       "      <th>5</th>\n",
       "      <td>Publican Quality Meats</td>\n",
       "      <td>PB&amp;L</td>\n",
       "      <td>$10</td>\n",
       "      <td>825 W. Fulton Mkt.</td>\n",
       "    </tr>\n",
       "  </tbody>\n",
       "</table>\n",
       "</div>"
      ],
      "text/plain": [
       "                        Cafe               Menu  Price               Address\n",
       "Rank                                                                        \n",
       "1                Old Oak Tap                BLT    $10  2109 W. Chicago Ave.\n",
       "2                  Au Cheval      Fried Bologna     $9   800 W. Randolph St.\n",
       "3                       Xoco  Woodland Mushroom  $9.50      445 N. Clark St.\n",
       "4                  Al’s Deli         Roast Beef  $9.40         914 Noyes St.\n",
       "5     Publican Quality Meats               PB&L    $10    825 W. Fulton Mkt."
      ]
     },
     "execution_count": 33,
     "metadata": {},
     "output_type": "execute_result"
    }
   ],
   "source": [
    "df.set_index('Rank', inplace=True)\n",
    "df.head()"
   ]
  },
  {
   "cell_type": "markdown",
   "id": "4611d1a9",
   "metadata": {},
   "source": [
    "### 주소를 활용해서 구글맵에 표시\n",
    "### 구글 키(Geocoding API)를 발급받아야함\n",
    "### Git에 올릴때 키가 노출되지않도록 조심"
   ]
  },
  {
   "cell_type": "code",
   "execution_count": 34,
   "id": "9f8245b9",
   "metadata": {},
   "outputs": [],
   "source": [
    "import folium\n",
    "import googlemaps\n",
    "import numpy as np"
   ]
  },
  {
   "cell_type": "code",
   "execution_count": 35,
   "id": "d6a1d7a4",
   "metadata": {},
   "outputs": [],
   "source": [
    "# Git 노출때문에 gmaps_key는 가렸음\n",
    "gmaps_key = \"**************************\"\n",
    "gmaps = googlemaps.Client(key=gmaps_key)"
   ]
  },
  {
   "cell_type": "code",
   "execution_count": 36,
   "id": "f4128a28",
   "metadata": {},
   "outputs": [
    {
     "data": {
      "application/vnd.jupyter.widget-view+json": {
       "model_id": "d8ed04dfab5a4ddeb82f1ff14d926c54",
       "version_major": 2,
       "version_minor": 0
      },
      "text/plain": [
       "  0%|          | 0/50 [00:00<?, ?it/s]"
      ]
     },
     "metadata": {},
     "output_type": "display_data"
    }
   ],
   "source": [
    "lat = []\n",
    "lng = []\n",
    "\n",
    "for n in tqdm(df.index):\n",
    "    if df['Address'][n] != 'Multiple locations':\n",
    "        target_name = df['Address'][n] + ', ' + 'Chicago'\n",
    "        gmaps_output = gmaps.geocode(target_name)\n",
    "        time.sleep(0.5)\n",
    "        location = gmaps_output[0].get('geometry')\n",
    "        lat.append(location['location']['lat'])\n",
    "        lng.append(location['location']['lng'])\n",
    "    else:\n",
    "        lat.append(np.nan)\n",
    "        lng.append(np.nan)"
   ]
  },
  {
   "cell_type": "code",
   "execution_count": 37,
   "id": "17262b8f",
   "metadata": {},
   "outputs": [
    {
     "name": "stdout",
     "output_type": "stream",
     "text": [
      "50 50\n"
     ]
    }
   ],
   "source": [
    "print(len(lat), len(lng))"
   ]
  },
  {
   "cell_type": "code",
   "execution_count": 38,
   "id": "b5cbbad3",
   "metadata": {
    "scrolled": true
   },
   "outputs": [
    {
     "name": "stdout",
     "output_type": "stream",
     "text": [
      "{'bounds': {'northeast': {'lat': 41.8957463, 'lng': -87.6798563}, 'southwest': {'lat': 41.8954846, 'lng': -87.6800603}}, 'location': {'lat': 41.8955577, 'lng': -87.6799673}, 'location_type': 'ROOFTOP', 'viewport': {'northeast': {'lat': 41.89702008029149, 'lng': -87.67860931970849}, 'southwest': {'lat': 41.8943221197085, 'lng': -87.6813072802915}}}\n"
     ]
    }
   ],
   "source": [
    "# 위도 경도로 쓰이는 'geometry' value값 구해보기\n",
    "target_name = df['Address'][0] + ', ' + 'Chicago'\n",
    "gmaps_output = gmaps.geocode(target_name)\n",
    "\n",
    "print(gmaps_output[0]['geometry'])"
   ]
  },
  {
   "cell_type": "code",
   "execution_count": 39,
   "id": "684c7c2b",
   "metadata": {
    "scrolled": true
   },
   "outputs": [
    {
     "data": {
      "text/html": [
       "<div>\n",
       "<style scoped>\n",
       "    .dataframe tbody tr th:only-of-type {\n",
       "        vertical-align: middle;\n",
       "    }\n",
       "\n",
       "    .dataframe tbody tr th {\n",
       "        vertical-align: top;\n",
       "    }\n",
       "\n",
       "    .dataframe thead th {\n",
       "        text-align: right;\n",
       "    }\n",
       "</style>\n",
       "<table border=\"1\" class=\"dataframe\">\n",
       "  <thead>\n",
       "    <tr style=\"text-align: right;\">\n",
       "      <th></th>\n",
       "      <th>Cafe</th>\n",
       "      <th>Menu</th>\n",
       "      <th>Price</th>\n",
       "      <th>Address</th>\n",
       "      <th>lat</th>\n",
       "      <th>lng</th>\n",
       "    </tr>\n",
       "    <tr>\n",
       "      <th>Rank</th>\n",
       "      <th></th>\n",
       "      <th></th>\n",
       "      <th></th>\n",
       "      <th></th>\n",
       "      <th></th>\n",
       "      <th></th>\n",
       "    </tr>\n",
       "  </thead>\n",
       "  <tbody>\n",
       "    <tr>\n",
       "      <th>1</th>\n",
       "      <td>Old Oak Tap</td>\n",
       "      <td>BLT</td>\n",
       "      <td>$10</td>\n",
       "      <td>2109 W. Chicago Ave.</td>\n",
       "      <td>41.895558</td>\n",
       "      <td>-87.679967</td>\n",
       "    </tr>\n",
       "    <tr>\n",
       "      <th>2</th>\n",
       "      <td>Au Cheval</td>\n",
       "      <td>Fried Bologna</td>\n",
       "      <td>$9</td>\n",
       "      <td>800 W. Randolph St.</td>\n",
       "      <td>41.884639</td>\n",
       "      <td>-87.647590</td>\n",
       "    </tr>\n",
       "    <tr>\n",
       "      <th>3</th>\n",
       "      <td>Xoco</td>\n",
       "      <td>Woodland Mushroom</td>\n",
       "      <td>$9.50</td>\n",
       "      <td>445 N. Clark St.</td>\n",
       "      <td>41.890523</td>\n",
       "      <td>-87.630783</td>\n",
       "    </tr>\n",
       "    <tr>\n",
       "      <th>4</th>\n",
       "      <td>Al’s Deli</td>\n",
       "      <td>Roast Beef</td>\n",
       "      <td>$9.40</td>\n",
       "      <td>914 Noyes St.</td>\n",
       "      <td>41.878114</td>\n",
       "      <td>-87.629798</td>\n",
       "    </tr>\n",
       "    <tr>\n",
       "      <th>5</th>\n",
       "      <td>Publican Quality Meats</td>\n",
       "      <td>PB&amp;L</td>\n",
       "      <td>$10</td>\n",
       "      <td>825 W. Fulton Mkt.</td>\n",
       "      <td>41.886604</td>\n",
       "      <td>-87.648536</td>\n",
       "    </tr>\n",
       "  </tbody>\n",
       "</table>\n",
       "</div>"
      ],
      "text/plain": [
       "                        Cafe               Menu  Price               Address  \\\n",
       "Rank                                                                           \n",
       "1                Old Oak Tap                BLT    $10  2109 W. Chicago Ave.   \n",
       "2                  Au Cheval      Fried Bologna     $9   800 W. Randolph St.   \n",
       "3                       Xoco  Woodland Mushroom  $9.50      445 N. Clark St.   \n",
       "4                  Al’s Deli         Roast Beef  $9.40         914 Noyes St.   \n",
       "5     Publican Quality Meats               PB&L    $10    825 W. Fulton Mkt.   \n",
       "\n",
       "            lat        lng  \n",
       "Rank                        \n",
       "1     41.895558 -87.679967  \n",
       "2     41.884639 -87.647590  \n",
       "3     41.890523 -87.630783  \n",
       "4     41.878114 -87.629798  \n",
       "5     41.886604 -87.648536  "
      ]
     },
     "execution_count": 39,
     "metadata": {},
     "output_type": "execute_result"
    }
   ],
   "source": [
    "df['lat'] = lat\n",
    "df['lng'] = lng\n",
    "df.head()"
   ]
  },
  {
   "cell_type": "code",
   "execution_count": 40,
   "id": "f3c98d82",
   "metadata": {
    "scrolled": true
   },
   "outputs": [
    {
     "data": {
      "text/html": [
       "<div style=\"width:100%;\"><div style=\"position:relative;width:100%;height:0;padding-bottom:60%;\"><span style=\"color:#565656\">Make this Notebook Trusted to load map: File -> Trust Notebook</span><iframe srcdoc=\"&lt;!DOCTYPE html&gt;\n",
       "&lt;html&gt;\n",
       "&lt;head&gt;\n",
       "    \n",
       "    &lt;meta http-equiv=&quot;content-type&quot; content=&quot;text/html; charset=UTF-8&quot; /&gt;\n",
       "    \n",
       "        &lt;script&gt;\n",
       "            L_NO_TOUCH = false;\n",
       "            L_DISABLE_3D = false;\n",
       "        &lt;/script&gt;\n",
       "    \n",
       "    &lt;style&gt;html, body {width: 100%;height: 100%;margin: 0;padding: 0;}&lt;/style&gt;\n",
       "    &lt;style&gt;#map {position:absolute;top:0;bottom:0;right:0;left:0;}&lt;/style&gt;\n",
       "    &lt;script src=&quot;https://cdn.jsdelivr.net/npm/leaflet@1.9.3/dist/leaflet.js&quot;&gt;&lt;/script&gt;\n",
       "    &lt;script src=&quot;https://code.jquery.com/jquery-1.12.4.min.js&quot;&gt;&lt;/script&gt;\n",
       "    &lt;script src=&quot;https://cdn.jsdelivr.net/npm/bootstrap@5.2.2/dist/js/bootstrap.bundle.min.js&quot;&gt;&lt;/script&gt;\n",
       "    &lt;script src=&quot;https://cdnjs.cloudflare.com/ajax/libs/Leaflet.awesome-markers/2.0.2/leaflet.awesome-markers.js&quot;&gt;&lt;/script&gt;\n",
       "    &lt;link rel=&quot;stylesheet&quot; href=&quot;https://cdn.jsdelivr.net/npm/leaflet@1.9.3/dist/leaflet.css&quot;/&gt;\n",
       "    &lt;link rel=&quot;stylesheet&quot; href=&quot;https://cdn.jsdelivr.net/npm/bootstrap@5.2.2/dist/css/bootstrap.min.css&quot;/&gt;\n",
       "    &lt;link rel=&quot;stylesheet&quot; href=&quot;https://netdna.bootstrapcdn.com/bootstrap/3.0.0/css/bootstrap.min.css&quot;/&gt;\n",
       "    &lt;link rel=&quot;stylesheet&quot; href=&quot;https://cdn.jsdelivr.net/npm/@fortawesome/fontawesome-free@6.2.0/css/all.min.css&quot;/&gt;\n",
       "    &lt;link rel=&quot;stylesheet&quot; href=&quot;https://cdnjs.cloudflare.com/ajax/libs/Leaflet.awesome-markers/2.0.2/leaflet.awesome-markers.css&quot;/&gt;\n",
       "    &lt;link rel=&quot;stylesheet&quot; href=&quot;https://cdn.jsdelivr.net/gh/python-visualization/folium/folium/templates/leaflet.awesome.rotate.min.css&quot;/&gt;\n",
       "    \n",
       "            &lt;meta name=&quot;viewport&quot; content=&quot;width=device-width,\n",
       "                initial-scale=1.0, maximum-scale=1.0, user-scalable=no&quot; /&gt;\n",
       "            &lt;style&gt;\n",
       "                #map_4fba02c6c6b06fcc1da7a653cb4f0ac4 {\n",
       "                    position: relative;\n",
       "                    width: 100.0%;\n",
       "                    height: 100.0%;\n",
       "                    left: 0.0%;\n",
       "                    top: 0.0%;\n",
       "                }\n",
       "                .leaflet-container { font-size: 1rem; }\n",
       "            &lt;/style&gt;\n",
       "        \n",
       "&lt;/head&gt;\n",
       "&lt;body&gt;\n",
       "    \n",
       "    \n",
       "            &lt;div class=&quot;folium-map&quot; id=&quot;map_4fba02c6c6b06fcc1da7a653cb4f0ac4&quot; &gt;&lt;/div&gt;\n",
       "        \n",
       "&lt;/body&gt;\n",
       "&lt;script&gt;\n",
       "    \n",
       "    \n",
       "            var map_4fba02c6c6b06fcc1da7a653cb4f0ac4 = L.map(\n",
       "                &quot;map_4fba02c6c6b06fcc1da7a653cb4f0ac4&quot;,\n",
       "                {\n",
       "                    center: [41.90904099318182, -87.67462872272726],\n",
       "                    crs: L.CRS.EPSG3857,\n",
       "                    zoom: 11,\n",
       "                    zoomControl: true,\n",
       "                    preferCanvas: false,\n",
       "                }\n",
       "            );\n",
       "\n",
       "            \n",
       "\n",
       "        \n",
       "    \n",
       "            var tile_layer_6be7346c285bbb680673eaea1719a903 = L.tileLayer(\n",
       "                &quot;https://{s}.tile.openstreetmap.org/{z}/{x}/{y}.png&quot;,\n",
       "                {&quot;attribution&quot;: &quot;Data by \\u0026copy; \\u003ca target=\\&quot;_blank\\&quot; href=\\&quot;http://openstreetmap.org\\&quot;\\u003eOpenStreetMap\\u003c/a\\u003e, under \\u003ca target=\\&quot;_blank\\&quot; href=\\&quot;http://www.openstreetmap.org/copyright\\&quot;\\u003eODbL\\u003c/a\\u003e.&quot;, &quot;detectRetina&quot;: false, &quot;maxNativeZoom&quot;: 18, &quot;maxZoom&quot;: 18, &quot;minZoom&quot;: 0, &quot;noWrap&quot;: false, &quot;opacity&quot;: 1, &quot;subdomains&quot;: &quot;abc&quot;, &quot;tms&quot;: false}\n",
       "            ).addTo(map_4fba02c6c6b06fcc1da7a653cb4f0ac4);\n",
       "        \n",
       "    \n",
       "            var marker_afb1e9413b56547f2f05188f28a706e4 = L.marker(\n",
       "                [41.90904099318182, -87.67462872272726],\n",
       "                {}\n",
       "            ).addTo(map_4fba02c6c6b06fcc1da7a653cb4f0ac4);\n",
       "        \n",
       "    \n",
       "        var popup_0d1beb70a8065184c93de76d4f2ae4d5 = L.popup({&quot;maxWidth&quot;: &quot;100%&quot;});\n",
       "\n",
       "        \n",
       "            \n",
       "                var html_ee8a1ff06023ac91fb585091e430a560 = $(`&lt;div id=&quot;html_ee8a1ff06023ac91fb585091e430a560&quot; style=&quot;width: 100.0%; height: 100.0%;&quot;&gt;center&lt;/div&gt;`)[0];\n",
       "                popup_0d1beb70a8065184c93de76d4f2ae4d5.setContent(html_ee8a1ff06023ac91fb585091e430a560);\n",
       "            \n",
       "        \n",
       "\n",
       "        marker_afb1e9413b56547f2f05188f28a706e4.bindPopup(popup_0d1beb70a8065184c93de76d4f2ae4d5)\n",
       "        ;\n",
       "\n",
       "        \n",
       "    \n",
       "&lt;/script&gt;\n",
       "&lt;/html&gt;\" style=\"position:absolute;width:100%;height:100%;left:0;top:0;border:none !important;\" allowfullscreen webkitallowfullscreen mozallowfullscreen></iframe></div></div>"
      ],
      "text/plain": [
       "<folium.folium.Map at 0x18770462d60>"
      ]
     },
     "execution_count": 40,
     "metadata": {},
     "output_type": "execute_result"
    }
   ],
   "source": [
    "map = folium.Map(location=[df['lat'].mean(),\n",
    "                          df['lng'].mean()],\n",
    "                zoom_start=11)\n",
    "folium.Marker([df['lat'].mean(), df['lng'].mean()],\n",
    "             popup='center').add_to(map)\n",
    "map"
   ]
  },
  {
   "cell_type": "code",
   "execution_count": 41,
   "id": "4eda3b4c",
   "metadata": {
    "scrolled": true
   },
   "outputs": [
    {
     "data": {
      "text/html": [
       "<div style=\"width:100%;\"><div style=\"position:relative;width:100%;height:0;padding-bottom:60%;\"><span style=\"color:#565656\">Make this Notebook Trusted to load map: File -> Trust Notebook</span><iframe srcdoc=\"&lt;!DOCTYPE html&gt;\n",
       "&lt;html&gt;\n",
       "&lt;head&gt;\n",
       "    \n",
       "    &lt;meta http-equiv=&quot;content-type&quot; content=&quot;text/html; charset=UTF-8&quot; /&gt;\n",
       "    \n",
       "        &lt;script&gt;\n",
       "            L_NO_TOUCH = false;\n",
       "            L_DISABLE_3D = false;\n",
       "        &lt;/script&gt;\n",
       "    \n",
       "    &lt;style&gt;html, body {width: 100%;height: 100%;margin: 0;padding: 0;}&lt;/style&gt;\n",
       "    &lt;style&gt;#map {position:absolute;top:0;bottom:0;right:0;left:0;}&lt;/style&gt;\n",
       "    &lt;script src=&quot;https://cdn.jsdelivr.net/npm/leaflet@1.9.3/dist/leaflet.js&quot;&gt;&lt;/script&gt;\n",
       "    &lt;script src=&quot;https://code.jquery.com/jquery-1.12.4.min.js&quot;&gt;&lt;/script&gt;\n",
       "    &lt;script src=&quot;https://cdn.jsdelivr.net/npm/bootstrap@5.2.2/dist/js/bootstrap.bundle.min.js&quot;&gt;&lt;/script&gt;\n",
       "    &lt;script src=&quot;https://cdnjs.cloudflare.com/ajax/libs/Leaflet.awesome-markers/2.0.2/leaflet.awesome-markers.js&quot;&gt;&lt;/script&gt;\n",
       "    &lt;link rel=&quot;stylesheet&quot; href=&quot;https://cdn.jsdelivr.net/npm/leaflet@1.9.3/dist/leaflet.css&quot;/&gt;\n",
       "    &lt;link rel=&quot;stylesheet&quot; href=&quot;https://cdn.jsdelivr.net/npm/bootstrap@5.2.2/dist/css/bootstrap.min.css&quot;/&gt;\n",
       "    &lt;link rel=&quot;stylesheet&quot; href=&quot;https://netdna.bootstrapcdn.com/bootstrap/3.0.0/css/bootstrap.min.css&quot;/&gt;\n",
       "    &lt;link rel=&quot;stylesheet&quot; href=&quot;https://cdn.jsdelivr.net/npm/@fortawesome/fontawesome-free@6.2.0/css/all.min.css&quot;/&gt;\n",
       "    &lt;link rel=&quot;stylesheet&quot; href=&quot;https://cdnjs.cloudflare.com/ajax/libs/Leaflet.awesome-markers/2.0.2/leaflet.awesome-markers.css&quot;/&gt;\n",
       "    &lt;link rel=&quot;stylesheet&quot; href=&quot;https://cdn.jsdelivr.net/gh/python-visualization/folium/folium/templates/leaflet.awesome.rotate.min.css&quot;/&gt;\n",
       "    \n",
       "            &lt;meta name=&quot;viewport&quot; content=&quot;width=device-width,\n",
       "                initial-scale=1.0, maximum-scale=1.0, user-scalable=no&quot; /&gt;\n",
       "            &lt;style&gt;\n",
       "                #map_c5f2498847af1104185d8e9fcf3bb396 {\n",
       "                    position: relative;\n",
       "                    width: 100.0%;\n",
       "                    height: 100.0%;\n",
       "                    left: 0.0%;\n",
       "                    top: 0.0%;\n",
       "                }\n",
       "                .leaflet-container { font-size: 1rem; }\n",
       "            &lt;/style&gt;\n",
       "        \n",
       "&lt;/head&gt;\n",
       "&lt;body&gt;\n",
       "    \n",
       "    \n",
       "            &lt;div class=&quot;folium-map&quot; id=&quot;map_c5f2498847af1104185d8e9fcf3bb396&quot; &gt;&lt;/div&gt;\n",
       "        \n",
       "&lt;/body&gt;\n",
       "&lt;script&gt;\n",
       "    \n",
       "    \n",
       "            var map_c5f2498847af1104185d8e9fcf3bb396 = L.map(\n",
       "                &quot;map_c5f2498847af1104185d8e9fcf3bb396&quot;,\n",
       "                {\n",
       "                    center: [41.90904099318182, -87.67462872272726],\n",
       "                    crs: L.CRS.EPSG3857,\n",
       "                    zoom: 11,\n",
       "                    zoomControl: true,\n",
       "                    preferCanvas: false,\n",
       "                }\n",
       "            );\n",
       "\n",
       "            \n",
       "\n",
       "        \n",
       "    \n",
       "            var tile_layer_8b571c364b1240fd9190e041d6358519 = L.tileLayer(\n",
       "                &quot;https://{s}.tile.openstreetmap.org/{z}/{x}/{y}.png&quot;,\n",
       "                {&quot;attribution&quot;: &quot;Data by \\u0026copy; \\u003ca target=\\&quot;_blank\\&quot; href=\\&quot;http://openstreetmap.org\\&quot;\\u003eOpenStreetMap\\u003c/a\\u003e, under \\u003ca target=\\&quot;_blank\\&quot; href=\\&quot;http://www.openstreetmap.org/copyright\\&quot;\\u003eODbL\\u003c/a\\u003e.&quot;, &quot;detectRetina&quot;: false, &quot;maxNativeZoom&quot;: 18, &quot;maxZoom&quot;: 18, &quot;minZoom&quot;: 0, &quot;noWrap&quot;: false, &quot;opacity&quot;: 1, &quot;subdomains&quot;: &quot;abc&quot;, &quot;tms&quot;: false}\n",
       "            ).addTo(map_c5f2498847af1104185d8e9fcf3bb396);\n",
       "        \n",
       "    \n",
       "            var marker_f94f79dbe8c0cf2b0b6d19cc66c203a7 = L.marker(\n",
       "                [41.8955577, -87.6799673],\n",
       "                {}\n",
       "            ).addTo(map_c5f2498847af1104185d8e9fcf3bb396);\n",
       "        \n",
       "    \n",
       "        var popup_acacf715e98213bfa145ea7971aaa9b2 = L.popup({&quot;maxWidth&quot;: &quot;100%&quot;});\n",
       "\n",
       "        \n",
       "            \n",
       "                var html_d126e9f4efec2cf5575992ca63ea92a9 = $(`&lt;div id=&quot;html_d126e9f4efec2cf5575992ca63ea92a9&quot; style=&quot;width: 100.0%; height: 100.0%;&quot;&gt;Old Oak Tap&lt;/div&gt;`)[0];\n",
       "                popup_acacf715e98213bfa145ea7971aaa9b2.setContent(html_d126e9f4efec2cf5575992ca63ea92a9);\n",
       "            \n",
       "        \n",
       "\n",
       "        marker_f94f79dbe8c0cf2b0b6d19cc66c203a7.bindPopup(popup_acacf715e98213bfa145ea7971aaa9b2)\n",
       "        ;\n",
       "\n",
       "        \n",
       "    \n",
       "    \n",
       "            var marker_99cd6272b1cd212cda708b45e0987cab = L.marker(\n",
       "                [41.8846392, -87.6475897],\n",
       "                {}\n",
       "            ).addTo(map_c5f2498847af1104185d8e9fcf3bb396);\n",
       "        \n",
       "    \n",
       "        var popup_3abccc8f81587f479dbd9e0202831b9e = L.popup({&quot;maxWidth&quot;: &quot;100%&quot;});\n",
       "\n",
       "        \n",
       "            \n",
       "                var html_fa050becf63d2146b65c85d15adb0da2 = $(`&lt;div id=&quot;html_fa050becf63d2146b65c85d15adb0da2&quot; style=&quot;width: 100.0%; height: 100.0%;&quot;&gt;Au Cheval&lt;/div&gt;`)[0];\n",
       "                popup_3abccc8f81587f479dbd9e0202831b9e.setContent(html_fa050becf63d2146b65c85d15adb0da2);\n",
       "            \n",
       "        \n",
       "\n",
       "        marker_99cd6272b1cd212cda708b45e0987cab.bindPopup(popup_3abccc8f81587f479dbd9e0202831b9e)\n",
       "        ;\n",
       "\n",
       "        \n",
       "    \n",
       "    \n",
       "            var marker_f404f8a65f098eb55fc5b57b214f09a6 = L.marker(\n",
       "                [41.8905226, -87.6307834],\n",
       "                {}\n",
       "            ).addTo(map_c5f2498847af1104185d8e9fcf3bb396);\n",
       "        \n",
       "    \n",
       "        var popup_3e3721b1fedb6f3636622bc02a2c37f4 = L.popup({&quot;maxWidth&quot;: &quot;100%&quot;});\n",
       "\n",
       "        \n",
       "            \n",
       "                var html_7507df22295707babce99a8663057f67 = $(`&lt;div id=&quot;html_7507df22295707babce99a8663057f67&quot; style=&quot;width: 100.0%; height: 100.0%;&quot;&gt;Xoco&lt;/div&gt;`)[0];\n",
       "                popup_3e3721b1fedb6f3636622bc02a2c37f4.setContent(html_7507df22295707babce99a8663057f67);\n",
       "            \n",
       "        \n",
       "\n",
       "        marker_f404f8a65f098eb55fc5b57b214f09a6.bindPopup(popup_3e3721b1fedb6f3636622bc02a2c37f4)\n",
       "        ;\n",
       "\n",
       "        \n",
       "    \n",
       "    \n",
       "            var marker_0a0af13e055cf2b66c4de4eb0e6b2847 = L.marker(\n",
       "                [41.8781136, -87.6297982],\n",
       "                {}\n",
       "            ).addTo(map_c5f2498847af1104185d8e9fcf3bb396);\n",
       "        \n",
       "    \n",
       "        var popup_78f792b55671e37b424d58f5982664e9 = L.popup({&quot;maxWidth&quot;: &quot;100%&quot;});\n",
       "\n",
       "        \n",
       "            \n",
       "                var html_1a3370195bd7c0d5235294a6739f04b4 = $(`&lt;div id=&quot;html_1a3370195bd7c0d5235294a6739f04b4&quot; style=&quot;width: 100.0%; height: 100.0%;&quot;&gt;Al’s Deli&lt;/div&gt;`)[0];\n",
       "                popup_78f792b55671e37b424d58f5982664e9.setContent(html_1a3370195bd7c0d5235294a6739f04b4);\n",
       "            \n",
       "        \n",
       "\n",
       "        marker_0a0af13e055cf2b66c4de4eb0e6b2847.bindPopup(popup_78f792b55671e37b424d58f5982664e9)\n",
       "        ;\n",
       "\n",
       "        \n",
       "    \n",
       "    \n",
       "            var marker_6c80919fef8dd0f7a5e755e1d6f709ed = L.marker(\n",
       "                [41.8866036, -87.64853649999999],\n",
       "                {}\n",
       "            ).addTo(map_c5f2498847af1104185d8e9fcf3bb396);\n",
       "        \n",
       "    \n",
       "        var popup_e265bc70b814e39d1ecc5fa836c76639 = L.popup({&quot;maxWidth&quot;: &quot;100%&quot;});\n",
       "\n",
       "        \n",
       "            \n",
       "                var html_3b2330f6e1e5b8e83b03daf8568d23c8 = $(`&lt;div id=&quot;html_3b2330f6e1e5b8e83b03daf8568d23c8&quot; style=&quot;width: 100.0%; height: 100.0%;&quot;&gt;Publican Quality Meats&lt;/div&gt;`)[0];\n",
       "                popup_e265bc70b814e39d1ecc5fa836c76639.setContent(html_3b2330f6e1e5b8e83b03daf8568d23c8);\n",
       "            \n",
       "        \n",
       "\n",
       "        marker_6c80919fef8dd0f7a5e755e1d6f709ed.bindPopup(popup_e265bc70b814e39d1ecc5fa836c76639)\n",
       "        ;\n",
       "\n",
       "        \n",
       "    \n",
       "    \n",
       "            var marker_77f727bb485b8328f80d53438d704a02 = L.marker(\n",
       "                [41.9002501, -87.6250781],\n",
       "                {}\n",
       "            ).addTo(map_c5f2498847af1104185d8e9fcf3bb396);\n",
       "        \n",
       "    \n",
       "        var popup_9e3f697eb1240a51922e89a61f3095ff = L.popup({&quot;maxWidth&quot;: &quot;100%&quot;});\n",
       "\n",
       "        \n",
       "            \n",
       "                var html_7a3dc35806b01dbbb377603e24d546c2 = $(`&lt;div id=&quot;html_7a3dc35806b01dbbb377603e24d546c2&quot; style=&quot;width: 100.0%; height: 100.0%;&quot;&gt;Hendrickx Belgian Bread Crafter&lt;/div&gt;`)[0];\n",
       "                popup_9e3f697eb1240a51922e89a61f3095ff.setContent(html_7a3dc35806b01dbbb377603e24d546c2);\n",
       "            \n",
       "        \n",
       "\n",
       "        marker_77f727bb485b8328f80d53438d704a02.bindPopup(popup_9e3f697eb1240a51922e89a61f3095ff)\n",
       "        ;\n",
       "\n",
       "        \n",
       "    \n",
       "    \n",
       "            var marker_c61d0062a47ae933aae06e22e1bd4aa9 = L.marker(\n",
       "                [41.8590541, -87.6252007],\n",
       "                {}\n",
       "            ).addTo(map_c5f2498847af1104185d8e9fcf3bb396);\n",
       "        \n",
       "    \n",
       "        var popup_d9ec36fcb727f595b10dbf0b67fdbfa1 = L.popup({&quot;maxWidth&quot;: &quot;100%&quot;});\n",
       "\n",
       "        \n",
       "            \n",
       "                var html_659d51d52090ef84c9bf94eb64475762 = $(`&lt;div id=&quot;html_659d51d52090ef84c9bf94eb64475762&quot; style=&quot;width: 100.0%; height: 100.0%;&quot;&gt;Acadia&lt;/div&gt;`)[0];\n",
       "                popup_d9ec36fcb727f595b10dbf0b67fdbfa1.setContent(html_659d51d52090ef84c9bf94eb64475762);\n",
       "            \n",
       "        \n",
       "\n",
       "        marker_c61d0062a47ae933aae06e22e1bd4aa9.bindPopup(popup_d9ec36fcb727f595b10dbf0b67fdbfa1)\n",
       "        ;\n",
       "\n",
       "        \n",
       "    \n",
       "    \n",
       "            var marker_72b67eeef1137b551b06cdefefdcee9f = L.marker(\n",
       "                [41.9102031, -87.68287529999999],\n",
       "                {}\n",
       "            ).addTo(map_c5f2498847af1104185d8e9fcf3bb396);\n",
       "        \n",
       "    \n",
       "        var popup_0a0160613e8fa59531f1fcd344ee0ce1 = L.popup({&quot;maxWidth&quot;: &quot;100%&quot;});\n",
       "\n",
       "        \n",
       "            \n",
       "                var html_5136dbde29f3f906882f9ed09d2b0749 = $(`&lt;div id=&quot;html_5136dbde29f3f906882f9ed09d2b0749&quot; style=&quot;width: 100.0%; height: 100.0%;&quot;&gt;Birchwood Kitchen&lt;/div&gt;`)[0];\n",
       "                popup_0a0160613e8fa59531f1fcd344ee0ce1.setContent(html_5136dbde29f3f906882f9ed09d2b0749);\n",
       "            \n",
       "        \n",
       "\n",
       "        marker_72b67eeef1137b551b06cdefefdcee9f.bindPopup(popup_0a0160613e8fa59531f1fcd344ee0ce1)\n",
       "        ;\n",
       "\n",
       "        \n",
       "    \n",
       "    \n",
       "            var marker_381f1db1e32046a23be607428c4ea5be = L.marker(\n",
       "                [41.909758, -87.7176767],\n",
       "                {}\n",
       "            ).addTo(map_c5f2498847af1104185d8e9fcf3bb396);\n",
       "        \n",
       "    \n",
       "        var popup_68662394f11e6f1675a20e7db16d48dd = L.popup({&quot;maxWidth&quot;: &quot;100%&quot;});\n",
       "\n",
       "        \n",
       "            \n",
       "                var html_73edee1a792372fac1c7a305913b6620 = $(`&lt;div id=&quot;html_73edee1a792372fac1c7a305913b6620&quot; style=&quot;width: 100.0%; height: 100.0%;&quot;&gt;Cemitas Puebla&lt;/div&gt;`)[0];\n",
       "                popup_68662394f11e6f1675a20e7db16d48dd.setContent(html_73edee1a792372fac1c7a305913b6620);\n",
       "            \n",
       "        \n",
       "\n",
       "        marker_381f1db1e32046a23be607428c4ea5be.bindPopup(popup_68662394f11e6f1675a20e7db16d48dd)\n",
       "        ;\n",
       "\n",
       "        \n",
       "    \n",
       "    \n",
       "            var marker_35cea257e007312e561dba60ef0919fd = L.marker(\n",
       "                [41.8345302, -87.6456492],\n",
       "                {}\n",
       "            ).addTo(map_c5f2498847af1104185d8e9fcf3bb396);\n",
       "        \n",
       "    \n",
       "        var popup_891e8c9585349d970c71caaa9904b2bc = L.popup({&quot;maxWidth&quot;: &quot;100%&quot;});\n",
       "\n",
       "        \n",
       "            \n",
       "                var html_04a33f6559424156b053dfa96149724e = $(`&lt;div id=&quot;html_04a33f6559424156b053dfa96149724e&quot; style=&quot;width: 100.0%; height: 100.0%;&quot;&gt;Nana&lt;/div&gt;`)[0];\n",
       "                popup_891e8c9585349d970c71caaa9904b2bc.setContent(html_04a33f6559424156b053dfa96149724e);\n",
       "            \n",
       "        \n",
       "\n",
       "        marker_35cea257e007312e561dba60ef0919fd.bindPopup(popup_891e8c9585349d970c71caaa9904b2bc)\n",
       "        ;\n",
       "\n",
       "        \n",
       "    \n",
       "    \n",
       "            var marker_34f1efdf8d45f7d070c89fbdc4a46dfe = L.marker(\n",
       "                [41.9276207, -87.706792],\n",
       "                {}\n",
       "            ).addTo(map_c5f2498847af1104185d8e9fcf3bb396);\n",
       "        \n",
       "    \n",
       "        var popup_575e5ccf1af55e70dbb4aa283476da3c = L.popup({&quot;maxWidth&quot;: &quot;100%&quot;});\n",
       "\n",
       "        \n",
       "            \n",
       "                var html_9d0ff7d31a7571ac811452321a6735f7 = $(`&lt;div id=&quot;html_9d0ff7d31a7571ac811452321a6735f7&quot; style=&quot;width: 100.0%; height: 100.0%;&quot;&gt;Lula Cafe&lt;/div&gt;`)[0];\n",
       "                popup_575e5ccf1af55e70dbb4aa283476da3c.setContent(html_9d0ff7d31a7571ac811452321a6735f7);\n",
       "            \n",
       "        \n",
       "\n",
       "        marker_34f1efdf8d45f7d070c89fbdc4a46dfe.bindPopup(popup_575e5ccf1af55e70dbb4aa283476da3c)\n",
       "        ;\n",
       "\n",
       "        \n",
       "    \n",
       "    \n",
       "            var marker_cf0b40e409f6813305b447aaa8991c90 = L.marker(\n",
       "                [41.9384419, -87.64464369999999],\n",
       "                {}\n",
       "            ).addTo(map_c5f2498847af1104185d8e9fcf3bb396);\n",
       "        \n",
       "    \n",
       "        var popup_4f913c3af4aa0753f98da740226a7e77 = L.popup({&quot;maxWidth&quot;: &quot;100%&quot;});\n",
       "\n",
       "        \n",
       "            \n",
       "                var html_934194b37b70435c1edd10eb0c2e2a42 = $(`&lt;div id=&quot;html_934194b37b70435c1edd10eb0c2e2a42&quot; style=&quot;width: 100.0%; height: 100.0%;&quot;&gt;Frog n Snail&lt;/div&gt;`)[0];\n",
       "                popup_4f913c3af4aa0753f98da740226a7e77.setContent(html_934194b37b70435c1edd10eb0c2e2a42);\n",
       "            \n",
       "        \n",
       "\n",
       "        marker_cf0b40e409f6813305b447aaa8991c90.bindPopup(popup_4f913c3af4aa0753f98da740226a7e77)\n",
       "        ;\n",
       "\n",
       "        \n",
       "    \n",
       "    \n",
       "            var marker_cdcd8bf1a1b7939b036d004d3d010aad = L.marker(\n",
       "                [41.9451143, -87.6636971],\n",
       "                {}\n",
       "            ).addTo(map_c5f2498847af1104185d8e9fcf3bb396);\n",
       "        \n",
       "    \n",
       "        var popup_b208826d82c6c1a88f461a7534a02846 = L.popup({&quot;maxWidth&quot;: &quot;100%&quot;});\n",
       "\n",
       "        \n",
       "            \n",
       "                var html_839f78afc9a32917a6a537dcefd1fa2b = $(`&lt;div id=&quot;html_839f78afc9a32917a6a537dcefd1fa2b&quot; style=&quot;width: 100.0%; height: 100.0%;&quot;&gt;Crosby’s Kitchen&lt;/div&gt;`)[0];\n",
       "                popup_b208826d82c6c1a88f461a7534a02846.setContent(html_839f78afc9a32917a6a537dcefd1fa2b);\n",
       "            \n",
       "        \n",
       "\n",
       "        marker_cdcd8bf1a1b7939b036d004d3d010aad.bindPopup(popup_b208826d82c6c1a88f461a7534a02846)\n",
       "        ;\n",
       "\n",
       "        \n",
       "    \n",
       "    \n",
       "            var marker_7e03178e3dad90b31d46f626ba8b4d77 = L.marker(\n",
       "                [41.9300559, -87.70703379999999],\n",
       "                {}\n",
       "            ).addTo(map_c5f2498847af1104185d8e9fcf3bb396);\n",
       "        \n",
       "    \n",
       "        var popup_a97cb9baa1f5510037622fe0c5b591dc = L.popup({&quot;maxWidth&quot;: &quot;100%&quot;});\n",
       "\n",
       "        \n",
       "            \n",
       "                var html_7f3b4213206c8b2961e2b9a57276f518 = $(`&lt;div id=&quot;html_7f3b4213206c8b2961e2b9a57276f518&quot; style=&quot;width: 100.0%; height: 100.0%;&quot;&gt;Longman &amp; Eagle&lt;/div&gt;`)[0];\n",
       "                popup_a97cb9baa1f5510037622fe0c5b591dc.setContent(html_7f3b4213206c8b2961e2b9a57276f518);\n",
       "            \n",
       "        \n",
       "\n",
       "        marker_7e03178e3dad90b31d46f626ba8b4d77.bindPopup(popup_a97cb9baa1f5510037622fe0c5b591dc)\n",
       "        ;\n",
       "\n",
       "        \n",
       "    \n",
       "    \n",
       "            var marker_2566074426dadf45489eb8ff662f28c9 = L.marker(\n",
       "                [41.8912971, -87.6555453],\n",
       "                {}\n",
       "            ).addTo(map_c5f2498847af1104185d8e9fcf3bb396);\n",
       "        \n",
       "    \n",
       "        var popup_1a8b3a8b3414af9e9f8ed4e41ef3cfa6 = L.popup({&quot;maxWidth&quot;: &quot;100%&quot;});\n",
       "\n",
       "        \n",
       "            \n",
       "                var html_041f35566e128666f4d7569134642ba0 = $(`&lt;div id=&quot;html_041f35566e128666f4d7569134642ba0&quot; style=&quot;width: 100.0%; height: 100.0%;&quot;&gt;Bari&lt;/div&gt;`)[0];\n",
       "                popup_1a8b3a8b3414af9e9f8ed4e41ef3cfa6.setContent(html_041f35566e128666f4d7569134642ba0);\n",
       "            \n",
       "        \n",
       "\n",
       "        marker_2566074426dadf45489eb8ff662f28c9.bindPopup(popup_1a8b3a8b3414af9e9f8ed4e41ef3cfa6)\n",
       "        ;\n",
       "\n",
       "        \n",
       "    \n",
       "    \n",
       "            var marker_b3ba4a2c5b72e0e4dad451d38cd4f609 = L.marker(\n",
       "                [41.8678529, -87.6419289],\n",
       "                {}\n",
       "            ).addTo(map_c5f2498847af1104185d8e9fcf3bb396);\n",
       "        \n",
       "    \n",
       "        var popup_eb9caff63a801434c331f26286586c4d = L.popup({&quot;maxWidth&quot;: &quot;100%&quot;});\n",
       "\n",
       "        \n",
       "            \n",
       "                var html_4f3588f4394e38f9825518fa08607435 = $(`&lt;div id=&quot;html_4f3588f4394e38f9825518fa08607435&quot; style=&quot;width: 100.0%; height: 100.0%;&quot;&gt;Manny’s&lt;/div&gt;`)[0];\n",
       "                popup_eb9caff63a801434c331f26286586c4d.setContent(html_4f3588f4394e38f9825518fa08607435);\n",
       "            \n",
       "        \n",
       "\n",
       "        marker_b3ba4a2c5b72e0e4dad451d38cd4f609.bindPopup(popup_eb9caff63a801434c331f26286586c4d)\n",
       "        ;\n",
       "\n",
       "        \n",
       "    \n",
       "    \n",
       "            var marker_1267bfa9ef6d50ca673d68a75e90da96 = L.marker(\n",
       "                [41.8852691, -87.6184837],\n",
       "                {}\n",
       "            ).addTo(map_c5f2498847af1104185d8e9fcf3bb396);\n",
       "        \n",
       "    \n",
       "        var popup_1a24cd68f91f9eaf4fb77cd27b37b674 = L.popup({&quot;maxWidth&quot;: &quot;100%&quot;});\n",
       "\n",
       "        \n",
       "            \n",
       "                var html_2bcfbb4e091e4da55a51fa82fca8e25a = $(`&lt;div id=&quot;html_2bcfbb4e091e4da55a51fa82fca8e25a&quot; style=&quot;width: 100.0%; height: 100.0%;&quot;&gt;Eggy’s&lt;/div&gt;`)[0];\n",
       "                popup_1a24cd68f91f9eaf4fb77cd27b37b674.setContent(html_2bcfbb4e091e4da55a51fa82fca8e25a);\n",
       "            \n",
       "        \n",
       "\n",
       "        marker_1267bfa9ef6d50ca673d68a75e90da96.bindPopup(popup_1a24cd68f91f9eaf4fb77cd27b37b674)\n",
       "        ;\n",
       "\n",
       "        \n",
       "    \n",
       "    \n",
       "            var marker_3c0e12edfa464f17f0759a1f616f03f2 = L.marker(\n",
       "                [41.9080547, -87.6343125],\n",
       "                {}\n",
       "            ).addTo(map_c5f2498847af1104185d8e9fcf3bb396);\n",
       "        \n",
       "    \n",
       "        var popup_af4ba5696f04273c388d939b12cda026 = L.popup({&quot;maxWidth&quot;: &quot;100%&quot;});\n",
       "\n",
       "        \n",
       "            \n",
       "                var html_4bd8f231249941b17a5e141b13d378fb = $(`&lt;div id=&quot;html_4bd8f231249941b17a5e141b13d378fb&quot; style=&quot;width: 100.0%; height: 100.0%;&quot;&gt;Old Jerusalem&lt;/div&gt;`)[0];\n",
       "                popup_af4ba5696f04273c388d939b12cda026.setContent(html_4bd8f231249941b17a5e141b13d378fb);\n",
       "            \n",
       "        \n",
       "\n",
       "        marker_3c0e12edfa464f17f0759a1f616f03f2.bindPopup(popup_af4ba5696f04273c388d939b12cda026)\n",
       "        ;\n",
       "\n",
       "        \n",
       "    \n",
       "    \n",
       "            var marker_e591f5da7307e3f47e9b6223ca99776a = L.marker(\n",
       "                [41.91369539999999, -87.6771273],\n",
       "                {}\n",
       "            ).addTo(map_c5f2498847af1104185d8e9fcf3bb396);\n",
       "        \n",
       "    \n",
       "        var popup_4e6e4e74089189b1891030e400d36f6f = L.popup({&quot;maxWidth&quot;: &quot;100%&quot;});\n",
       "\n",
       "        \n",
       "            \n",
       "                var html_e4df7c224de78b6a4d3713b17822bfd6 = $(`&lt;div id=&quot;html_e4df7c224de78b6a4d3713b17822bfd6&quot; style=&quot;width: 100.0%; height: 100.0%;&quot;&gt;Mindy’s HotChocolate&lt;/div&gt;`)[0];\n",
       "                popup_4e6e4e74089189b1891030e400d36f6f.setContent(html_e4df7c224de78b6a4d3713b17822bfd6);\n",
       "            \n",
       "        \n",
       "\n",
       "        marker_e591f5da7307e3f47e9b6223ca99776a.bindPopup(popup_4e6e4e74089189b1891030e400d36f6f)\n",
       "        ;\n",
       "\n",
       "        \n",
       "    \n",
       "    \n",
       "            var marker_1a4c2b6faeaf4e1bf4b8265491ac547b = L.marker(\n",
       "                [41.95371249999999, -87.7084504],\n",
       "                {}\n",
       "            ).addTo(map_c5f2498847af1104185d8e9fcf3bb396);\n",
       "        \n",
       "    \n",
       "        var popup_ad9675194fdc5167f1ceefa5cb8dcd8d = L.popup({&quot;maxWidth&quot;: &quot;100%&quot;});\n",
       "\n",
       "        \n",
       "            \n",
       "                var html_a558949ef24b84a8bb8b4ad41323e109 = $(`&lt;div id=&quot;html_a558949ef24b84a8bb8b4ad41323e109&quot; style=&quot;width: 100.0%; height: 100.0%;&quot;&gt;Olga’s Delicatessen&lt;/div&gt;`)[0];\n",
       "                popup_ad9675194fdc5167f1ceefa5cb8dcd8d.setContent(html_a558949ef24b84a8bb8b4ad41323e109);\n",
       "            \n",
       "        \n",
       "\n",
       "        marker_1a4c2b6faeaf4e1bf4b8265491ac547b.bindPopup(popup_ad9675194fdc5167f1ceefa5cb8dcd8d)\n",
       "        ;\n",
       "\n",
       "        \n",
       "    \n",
       "    \n",
       "            var marker_45322ce77ab5a30bec1fd5a4b3e57ff2 = L.marker(\n",
       "                [41.9794496, -87.66795719999999],\n",
       "                {}\n",
       "            ).addTo(map_c5f2498847af1104185d8e9fcf3bb396);\n",
       "        \n",
       "    \n",
       "        var popup_c693032a3bb6cd869a6b5106b1dba6d8 = L.popup({&quot;maxWidth&quot;: &quot;100%&quot;});\n",
       "\n",
       "        \n",
       "            \n",
       "                var html_a50458d740942f50bfe11a756cb2ccd4 = $(`&lt;div id=&quot;html_a50458d740942f50bfe11a756cb2ccd4&quot; style=&quot;width: 100.0%; height: 100.0%;&quot;&gt;Big Jones&lt;/div&gt;`)[0];\n",
       "                popup_c693032a3bb6cd869a6b5106b1dba6d8.setContent(html_a50458d740942f50bfe11a756cb2ccd4);\n",
       "            \n",
       "        \n",
       "\n",
       "        marker_45322ce77ab5a30bec1fd5a4b3e57ff2.bindPopup(popup_c693032a3bb6cd869a6b5106b1dba6d8)\n",
       "        ;\n",
       "\n",
       "        \n",
       "    \n",
       "    \n",
       "            var marker_52407c422b6f2878c9c586bc21396882 = L.marker(\n",
       "                [41.9541592, -87.70271079999999],\n",
       "                {}\n",
       "            ).addTo(map_c5f2498847af1104185d8e9fcf3bb396);\n",
       "        \n",
       "    \n",
       "        var popup_e43502d9c591898659e789b0d1cb0532 = L.popup({&quot;maxWidth&quot;: &quot;100%&quot;});\n",
       "\n",
       "        \n",
       "            \n",
       "                var html_643a7e47623e3dcb0c203d36780c2f7f = $(`&lt;div id=&quot;html_643a7e47623e3dcb0c203d36780c2f7f&quot; style=&quot;width: 100.0%; height: 100.0%;&quot;&gt;La Pane&lt;/div&gt;`)[0];\n",
       "                popup_e43502d9c591898659e789b0d1cb0532.setContent(html_643a7e47623e3dcb0c203d36780c2f7f);\n",
       "            \n",
       "        \n",
       "\n",
       "        marker_52407c422b6f2878c9c586bc21396882.bindPopup(popup_e43502d9c591898659e789b0d1cb0532)\n",
       "        ;\n",
       "\n",
       "        \n",
       "    \n",
       "    \n",
       "            var marker_ab798a3bb0520adb8da8e7c8fe2e5f10 = L.marker(\n",
       "                [42.1567073, -87.8036345],\n",
       "                {}\n",
       "            ).addTo(map_c5f2498847af1104185d8e9fcf3bb396);\n",
       "        \n",
       "    \n",
       "        var popup_1f0b4f19b23aadab23733a5c6c5b5c17 = L.popup({&quot;maxWidth&quot;: &quot;100%&quot;});\n",
       "\n",
       "        \n",
       "            \n",
       "                var html_88c68a3671037fe20cf48ec73e9f3f76 = $(`&lt;div id=&quot;html_88c68a3671037fe20cf48ec73e9f3f76&quot; style=&quot;width: 100.0%; height: 100.0%;&quot;&gt;Max’s Deli&lt;/div&gt;`)[0];\n",
       "                popup_1f0b4f19b23aadab23733a5c6c5b5c17.setContent(html_88c68a3671037fe20cf48ec73e9f3f76);\n",
       "            \n",
       "        \n",
       "\n",
       "        marker_ab798a3bb0520adb8da8e7c8fe2e5f10.bindPopup(popup_1f0b4f19b23aadab23733a5c6c5b5c17)\n",
       "        ;\n",
       "\n",
       "        \n",
       "    \n",
       "    \n",
       "            var marker_a78d40ca46aaaa44bf2038a29cc9bca7 = L.marker(\n",
       "                [41.9652721, -87.675542],\n",
       "                {}\n",
       "            ).addTo(map_c5f2498847af1104185d8e9fcf3bb396);\n",
       "        \n",
       "    \n",
       "        var popup_4be1ecdc2361a667474c6ae191eb54e8 = L.popup({&quot;maxWidth&quot;: &quot;100%&quot;});\n",
       "\n",
       "        \n",
       "            \n",
       "                var html_0cd3a159ae61ae5cb5e491776954b4c9 = $(`&lt;div id=&quot;html_0cd3a159ae61ae5cb5e491776954b4c9&quot; style=&quot;width: 100.0%; height: 100.0%;&quot;&gt;City Provisions&lt;/div&gt;`)[0];\n",
       "                popup_4be1ecdc2361a667474c6ae191eb54e8.setContent(html_0cd3a159ae61ae5cb5e491776954b4c9);\n",
       "            \n",
       "        \n",
       "\n",
       "        marker_a78d40ca46aaaa44bf2038a29cc9bca7.bindPopup(popup_4be1ecdc2361a667474c6ae191eb54e8)\n",
       "        ;\n",
       "\n",
       "        \n",
       "    \n",
       "    \n",
       "            var marker_138ac3e62dda2d9d12b7c26e682d210d = L.marker(\n",
       "                [41.9027261, -87.6902278],\n",
       "                {}\n",
       "            ).addTo(map_c5f2498847af1104185d8e9fcf3bb396);\n",
       "        \n",
       "    \n",
       "        var popup_0c3b262efc7643c1096375e1e1516538 = L.popup({&quot;maxWidth&quot;: &quot;100%&quot;});\n",
       "\n",
       "        \n",
       "            \n",
       "                var html_59ecf16e52dcc9d458d13124ad5b3ea9 = $(`&lt;div id=&quot;html_59ecf16e52dcc9d458d13124ad5b3ea9&quot; style=&quot;width: 100.0%; height: 100.0%;&quot;&gt;Papa’s Cache Sabroso&lt;/div&gt;`)[0];\n",
       "                popup_0c3b262efc7643c1096375e1e1516538.setContent(html_59ecf16e52dcc9d458d13124ad5b3ea9);\n",
       "            \n",
       "        \n",
       "\n",
       "        marker_138ac3e62dda2d9d12b7c26e682d210d.bindPopup(popup_0c3b262efc7643c1096375e1e1516538)\n",
       "        ;\n",
       "\n",
       "        \n",
       "    \n",
       "    \n",
       "            var marker_a383634cb7e6dcd7793105bba7b23397 = L.marker(\n",
       "                [41.8893683, -87.6349487],\n",
       "                {}\n",
       "            ).addTo(map_c5f2498847af1104185d8e9fcf3bb396);\n",
       "        \n",
       "    \n",
       "        var popup_54f0218821ea1e4eb06e00a2b6a0a9c2 = L.popup({&quot;maxWidth&quot;: &quot;100%&quot;});\n",
       "\n",
       "        \n",
       "            \n",
       "                var html_aa6823abd18462ed23f1df695d5ffb9c = $(`&lt;div id=&quot;html_aa6823abd18462ed23f1df695d5ffb9c&quot; style=&quot;width: 100.0%; height: 100.0%;&quot;&gt;Bavette’s Bar &amp; Boeuf&lt;/div&gt;`)[0];\n",
       "                popup_54f0218821ea1e4eb06e00a2b6a0a9c2.setContent(html_aa6823abd18462ed23f1df695d5ffb9c);\n",
       "            \n",
       "        \n",
       "\n",
       "        marker_a383634cb7e6dcd7793105bba7b23397.bindPopup(popup_54f0218821ea1e4eb06e00a2b6a0a9c2)\n",
       "        ;\n",
       "\n",
       "        \n",
       "    \n",
       "    \n",
       "            var marker_213e19f629e4d0a0b2854ba536a34096 = L.marker(\n",
       "                [41.9105258, -87.6343775],\n",
       "                {}\n",
       "            ).addTo(map_c5f2498847af1104185d8e9fcf3bb396);\n",
       "        \n",
       "    \n",
       "        var popup_546b6d4e1a75c21fdffeafc03ad01c43 = L.popup({&quot;maxWidth&quot;: &quot;100%&quot;});\n",
       "\n",
       "        \n",
       "            \n",
       "                var html_7e51be6ed72bef5ca4421c1a79ea273a = $(`&lt;div id=&quot;html_7e51be6ed72bef5ca4421c1a79ea273a&quot; style=&quot;width: 100.0%; height: 100.0%;&quot;&gt;La Fournette&lt;/div&gt;`)[0];\n",
       "                popup_546b6d4e1a75c21fdffeafc03ad01c43.setContent(html_7e51be6ed72bef5ca4421c1a79ea273a);\n",
       "            \n",
       "        \n",
       "\n",
       "        marker_213e19f629e4d0a0b2854ba536a34096.bindPopup(popup_546b6d4e1a75c21fdffeafc03ad01c43)\n",
       "        ;\n",
       "\n",
       "        \n",
       "    \n",
       "    \n",
       "            var marker_adc86f716b85ff680898cb498d4608fc = L.marker(\n",
       "                [41.8896363, -87.64484089999999],\n",
       "                {}\n",
       "            ).addTo(map_c5f2498847af1104185d8e9fcf3bb396);\n",
       "        \n",
       "    \n",
       "        var popup_69d81526fdbd2012e9adbfe71a41e625 = L.popup({&quot;maxWidth&quot;: &quot;100%&quot;});\n",
       "\n",
       "        \n",
       "            \n",
       "                var html_d63d22bd4570895242667d76f4a6cbaf = $(`&lt;div id=&quot;html_d63d22bd4570895242667d76f4a6cbaf&quot; style=&quot;width: 100.0%; height: 100.0%;&quot;&gt;Paramount Room&lt;/div&gt;`)[0];\n",
       "                popup_69d81526fdbd2012e9adbfe71a41e625.setContent(html_d63d22bd4570895242667d76f4a6cbaf);\n",
       "            \n",
       "        \n",
       "\n",
       "        marker_adc86f716b85ff680898cb498d4608fc.bindPopup(popup_69d81526fdbd2012e9adbfe71a41e625)\n",
       "        ;\n",
       "\n",
       "        \n",
       "    \n",
       "    \n",
       "            var marker_748fefdd7abefae824c69c5d3558219e = L.marker(\n",
       "                [41.91504990000001, -87.6778047],\n",
       "                {}\n",
       "            ).addTo(map_c5f2498847af1104185d8e9fcf3bb396);\n",
       "        \n",
       "    \n",
       "        var popup_a2cad451afe88227543eb5faca2397da = L.popup({&quot;maxWidth&quot;: &quot;100%&quot;});\n",
       "\n",
       "        \n",
       "            \n",
       "                var html_12403a3ff718401ba1eb261b9a0013f8 = $(`&lt;div id=&quot;html_12403a3ff718401ba1eb261b9a0013f8&quot; style=&quot;width: 100.0%; height: 100.0%;&quot;&gt;Melt Sandwich Shoppe&lt;/div&gt;`)[0];\n",
       "                popup_a2cad451afe88227543eb5faca2397da.setContent(html_12403a3ff718401ba1eb261b9a0013f8);\n",
       "            \n",
       "        \n",
       "\n",
       "        marker_748fefdd7abefae824c69c5d3558219e.bindPopup(popup_a2cad451afe88227543eb5faca2397da)\n",
       "        ;\n",
       "\n",
       "        \n",
       "    \n",
       "    \n",
       "            var marker_02521bfa84045a83c3dfc9b5915d60df = L.marker(\n",
       "                [41.9218523, -87.6592125],\n",
       "                {}\n",
       "            ).addTo(map_c5f2498847af1104185d8e9fcf3bb396);\n",
       "        \n",
       "    \n",
       "        var popup_af748b37ae75c9b04d789c372847b778 = L.popup({&quot;maxWidth&quot;: &quot;100%&quot;});\n",
       "\n",
       "        \n",
       "            \n",
       "                var html_4b98b6210969e49e69a55fb27d72b702 = $(`&lt;div id=&quot;html_4b98b6210969e49e69a55fb27d72b702&quot; style=&quot;width: 100.0%; height: 100.0%;&quot;&gt;Floriole Cafe &amp; Bakery&lt;/div&gt;`)[0];\n",
       "                popup_af748b37ae75c9b04d789c372847b778.setContent(html_4b98b6210969e49e69a55fb27d72b702);\n",
       "            \n",
       "        \n",
       "\n",
       "        marker_02521bfa84045a83c3dfc9b5915d60df.bindPopup(popup_af748b37ae75c9b04d789c372847b778)\n",
       "        ;\n",
       "\n",
       "        \n",
       "    \n",
       "    \n",
       "            var marker_2ff3010e12184c46a5bb44202bf6d7c0 = L.marker(\n",
       "                [41.9797099, -87.66934409999999],\n",
       "                {}\n",
       "            ).addTo(map_c5f2498847af1104185d8e9fcf3bb396);\n",
       "        \n",
       "    \n",
       "        var popup_32b1ea21af53cbd2ddd2bfeeda2ed442 = L.popup({&quot;maxWidth&quot;: &quot;100%&quot;});\n",
       "\n",
       "        \n",
       "            \n",
       "                var html_6387c7b953d0393e846b844869ca4f18 = $(`&lt;div id=&quot;html_6387c7b953d0393e846b844869ca4f18&quot; style=&quot;width: 100.0%; height: 100.0%;&quot;&gt;First Slice Pie Café&lt;/div&gt;`)[0];\n",
       "                popup_32b1ea21af53cbd2ddd2bfeeda2ed442.setContent(html_6387c7b953d0393e846b844869ca4f18);\n",
       "            \n",
       "        \n",
       "\n",
       "        marker_2ff3010e12184c46a5bb44202bf6d7c0.bindPopup(popup_32b1ea21af53cbd2ddd2bfeeda2ed442)\n",
       "        ;\n",
       "\n",
       "        \n",
       "    \n",
       "    \n",
       "            var marker_1816750075a3cdb9d2f8e9c4e8c82ed6 = L.marker(\n",
       "                [41.9617122, -87.67581620000001],\n",
       "                {}\n",
       "            ).addTo(map_c5f2498847af1104185d8e9fcf3bb396);\n",
       "        \n",
       "    \n",
       "        var popup_6e13e35c79c76ec749fb3d3baced147b = L.popup({&quot;maxWidth&quot;: &quot;100%&quot;});\n",
       "\n",
       "        \n",
       "            \n",
       "                var html_db59382ea0c42fe8aed94480dd32652a = $(`&lt;div id=&quot;html_db59382ea0c42fe8aed94480dd32652a&quot; style=&quot;width: 100.0%; height: 100.0%;&quot;&gt;Troquet&lt;/div&gt;`)[0];\n",
       "                popup_6e13e35c79c76ec749fb3d3baced147b.setContent(html_db59382ea0c42fe8aed94480dd32652a);\n",
       "            \n",
       "        \n",
       "\n",
       "        marker_1816750075a3cdb9d2f8e9c4e8c82ed6.bindPopup(popup_6e13e35c79c76ec749fb3d3baced147b)\n",
       "        ;\n",
       "\n",
       "        \n",
       "    \n",
       "    \n",
       "            var marker_347ebb1b90bc045e66497cd0713f650c = L.marker(\n",
       "                [41.8929151, -87.62782589999999],\n",
       "                {}\n",
       "            ).addTo(map_c5f2498847af1104185d8e9fcf3bb396);\n",
       "        \n",
       "    \n",
       "        var popup_567bceef65bc1f1a2ba35086ad04ac76 = L.popup({&quot;maxWidth&quot;: &quot;100%&quot;});\n",
       "\n",
       "        \n",
       "            \n",
       "                var html_80fd4d5c033c48fda3c4956dc589e2fb = $(`&lt;div id=&quot;html_80fd4d5c033c48fda3c4956dc589e2fb&quot; style=&quot;width: 100.0%; height: 100.0%;&quot;&gt;Grahamwich&lt;/div&gt;`)[0];\n",
       "                popup_567bceef65bc1f1a2ba35086ad04ac76.setContent(html_80fd4d5c033c48fda3c4956dc589e2fb);\n",
       "            \n",
       "        \n",
       "\n",
       "        marker_347ebb1b90bc045e66497cd0713f650c.bindPopup(popup_567bceef65bc1f1a2ba35086ad04ac76)\n",
       "        ;\n",
       "\n",
       "        \n",
       "    \n",
       "    \n",
       "            var marker_0d43e9bd96965664cfea1023562de3ce = L.marker(\n",
       "                [41.9608129, -87.9394449],\n",
       "                {}\n",
       "            ).addTo(map_c5f2498847af1104185d8e9fcf3bb396);\n",
       "        \n",
       "    \n",
       "        var popup_02a9f4232627c71aa7f9a3cabe80018b = L.popup({&quot;maxWidth&quot;: &quot;100%&quot;});\n",
       "\n",
       "        \n",
       "            \n",
       "                var html_e045b5b27c01e979fb6bcbe01ffd0dd1 = $(`&lt;div id=&quot;html_e045b5b27c01e979fb6bcbe01ffd0dd1&quot; style=&quot;width: 100.0%; height: 100.0%;&quot;&gt;Rosalia’s Deli&lt;/div&gt;`)[0];\n",
       "                popup_02a9f4232627c71aa7f9a3cabe80018b.setContent(html_e045b5b27c01e979fb6bcbe01ffd0dd1);\n",
       "            \n",
       "        \n",
       "\n",
       "        marker_0d43e9bd96965664cfea1023562de3ce.bindPopup(popup_02a9f4232627c71aa7f9a3cabe80018b)\n",
       "        ;\n",
       "\n",
       "        \n",
       "    \n",
       "    \n",
       "            var marker_ab20f737a8d7ffbb8814f74dcd2c9f9b = L.marker(\n",
       "                [41.7913223, -87.5938615],\n",
       "                {}\n",
       "            ).addTo(map_c5f2498847af1104185d8e9fcf3bb396);\n",
       "        \n",
       "    \n",
       "        var popup_71e6d4ff767035531cd0b03ea2bebea5 = L.popup({&quot;maxWidth&quot;: &quot;100%&quot;});\n",
       "\n",
       "        \n",
       "            \n",
       "                var html_f79d124fcf71991bf946a67443134c21 = $(`&lt;div id=&quot;html_f79d124fcf71991bf946a67443134c21&quot; style=&quot;width: 100.0%; height: 100.0%;&quot;&gt;Z&amp;H MarketCafe&lt;/div&gt;`)[0];\n",
       "                popup_71e6d4ff767035531cd0b03ea2bebea5.setContent(html_f79d124fcf71991bf946a67443134c21);\n",
       "            \n",
       "        \n",
       "\n",
       "        marker_ab20f737a8d7ffbb8814f74dcd2c9f9b.bindPopup(popup_71e6d4ff767035531cd0b03ea2bebea5)\n",
       "        ;\n",
       "\n",
       "        \n",
       "    \n",
       "    \n",
       "            var marker_0a8c7ae6a9d6e3aa12de3a6f4c057652 = L.marker(\n",
       "                [41.7068231, -87.6161865],\n",
       "                {}\n",
       "            ).addTo(map_c5f2498847af1104185d8e9fcf3bb396);\n",
       "        \n",
       "    \n",
       "        var popup_5bd330e593450e7280e69e935b49cb54 = L.popup({&quot;maxWidth&quot;: &quot;100%&quot;});\n",
       "\n",
       "        \n",
       "            \n",
       "                var html_a536bd01159d3c2ed5461bfef4847335 = $(`&lt;div id=&quot;html_a536bd01159d3c2ed5461bfef4847335&quot; style=&quot;width: 100.0%; height: 100.0%;&quot;&gt;Market House on the Square&lt;/div&gt;`)[0];\n",
       "                popup_5bd330e593450e7280e69e935b49cb54.setContent(html_a536bd01159d3c2ed5461bfef4847335);\n",
       "            \n",
       "        \n",
       "\n",
       "        marker_0a8c7ae6a9d6e3aa12de3a6f4c057652.bindPopup(popup_5bd330e593450e7280e69e935b49cb54)\n",
       "        ;\n",
       "\n",
       "        \n",
       "    \n",
       "    \n",
       "            var marker_3bb6c67769fe027db33c6a6ecf8e1ba2 = L.marker(\n",
       "                [41.9152875, -87.6343888],\n",
       "                {}\n",
       "            ).addTo(map_c5f2498847af1104185d8e9fcf3bb396);\n",
       "        \n",
       "    \n",
       "        var popup_c06e4197cb647ec1bf272dd4f4bdfae2 = L.popup({&quot;maxWidth&quot;: &quot;100%&quot;});\n",
       "\n",
       "        \n",
       "            \n",
       "                var html_cdb703ff6b741fc37eb00fffa90b739b = $(`&lt;div id=&quot;html_cdb703ff6b741fc37eb00fffa90b739b&quot; style=&quot;width: 100.0%; height: 100.0%;&quot;&gt;Elaine’s Coffee Call&lt;/div&gt;`)[0];\n",
       "                popup_c06e4197cb647ec1bf272dd4f4bdfae2.setContent(html_cdb703ff6b741fc37eb00fffa90b739b);\n",
       "            \n",
       "        \n",
       "\n",
       "        marker_3bb6c67769fe027db33c6a6ecf8e1ba2.bindPopup(popup_c06e4197cb647ec1bf272dd4f4bdfae2)\n",
       "        ;\n",
       "\n",
       "        \n",
       "    \n",
       "    \n",
       "            var marker_b095a9c5fcd8812544526f5c6164c7cb = L.marker(\n",
       "                [41.8863622, -87.8022297],\n",
       "                {}\n",
       "            ).addTo(map_c5f2498847af1104185d8e9fcf3bb396);\n",
       "        \n",
       "    \n",
       "        var popup_c57fb22694baadca54309c65802cedea = L.popup({&quot;maxWidth&quot;: &quot;100%&quot;});\n",
       "\n",
       "        \n",
       "            \n",
       "                var html_d9a9842e5e028843c25a162c1f938dc1 = $(`&lt;div id=&quot;html_d9a9842e5e028843c25a162c1f938dc1&quot; style=&quot;width: 100.0%; height: 100.0%;&quot;&gt;Marion Street Cheese Market&lt;/div&gt;`)[0];\n",
       "                popup_c57fb22694baadca54309c65802cedea.setContent(html_d9a9842e5e028843c25a162c1f938dc1);\n",
       "            \n",
       "        \n",
       "\n",
       "        marker_b095a9c5fcd8812544526f5c6164c7cb.bindPopup(popup_c57fb22694baadca54309c65802cedea)\n",
       "        ;\n",
       "\n",
       "        \n",
       "    \n",
       "    \n",
       "            var marker_30ecb37642968dbfe0e6b8e1b2a79b2b = L.marker(\n",
       "                [41.8758205, -87.6264566],\n",
       "                {}\n",
       "            ).addTo(map_c5f2498847af1104185d8e9fcf3bb396);\n",
       "        \n",
       "    \n",
       "        var popup_23f3ed6edd7af47fd6179e2657180cbc = L.popup({&quot;maxWidth&quot;: &quot;100%&quot;});\n",
       "\n",
       "        \n",
       "            \n",
       "                var html_65f373eed4690428f2d7a95f35624743 = $(`&lt;div id=&quot;html_65f373eed4690428f2d7a95f35624743&quot; style=&quot;width: 100.0%; height: 100.0%;&quot;&gt;Cafecito&lt;/div&gt;`)[0];\n",
       "                popup_23f3ed6edd7af47fd6179e2657180cbc.setContent(html_65f373eed4690428f2d7a95f35624743);\n",
       "            \n",
       "        \n",
       "\n",
       "        marker_30ecb37642968dbfe0e6b8e1b2a79b2b.bindPopup(popup_23f3ed6edd7af47fd6179e2657180cbc)\n",
       "        ;\n",
       "\n",
       "        \n",
       "    \n",
       "    \n",
       "            var marker_6a60ba944c786f0189efac6b6da10df9 = L.marker(\n",
       "                [41.8961134, -87.677857],\n",
       "                {}\n",
       "            ).addTo(map_c5f2498847af1104185d8e9fcf3bb396);\n",
       "        \n",
       "    \n",
       "        var popup_5663d1ec0841183e743c42cc83c8efee = L.popup({&quot;maxWidth&quot;: &quot;100%&quot;});\n",
       "\n",
       "        \n",
       "            \n",
       "                var html_fe5ca32e81d8642c95209b869b374bbe = $(`&lt;div id=&quot;html_fe5ca32e81d8642c95209b869b374bbe&quot; style=&quot;width: 100.0%; height: 100.0%;&quot;&gt;Chickpea&lt;/div&gt;`)[0];\n",
       "                popup_5663d1ec0841183e743c42cc83c8efee.setContent(html_fe5ca32e81d8642c95209b869b374bbe);\n",
       "            \n",
       "        \n",
       "\n",
       "        marker_6a60ba944c786f0189efac6b6da10df9.bindPopup(popup_5663d1ec0841183e743c42cc83c8efee)\n",
       "        ;\n",
       "\n",
       "        \n",
       "    \n",
       "    \n",
       "            var marker_7e81f5c2b30624d8c226a8cb53c02a39 = L.marker(\n",
       "                [41.89897850000001, -87.6273926],\n",
       "                {}\n",
       "            ).addTo(map_c5f2498847af1104185d8e9fcf3bb396);\n",
       "        \n",
       "    \n",
       "        var popup_bc9842bfb7ea6bc5cfedcfcda9ae955a = L.popup({&quot;maxWidth&quot;: &quot;100%&quot;});\n",
       "\n",
       "        \n",
       "            \n",
       "                var html_d3555a465263a9efee13aa58ea80aa4c = $(`&lt;div id=&quot;html_d3555a465263a9efee13aa58ea80aa4c&quot; style=&quot;width: 100.0%; height: 100.0%;&quot;&gt;The Goddess and Grocer&lt;/div&gt;`)[0];\n",
       "                popup_bc9842bfb7ea6bc5cfedcfcda9ae955a.setContent(html_d3555a465263a9efee13aa58ea80aa4c);\n",
       "            \n",
       "        \n",
       "\n",
       "        marker_7e81f5c2b30624d8c226a8cb53c02a39.bindPopup(popup_bc9842bfb7ea6bc5cfedcfcda9ae955a)\n",
       "        ;\n",
       "\n",
       "        \n",
       "    \n",
       "    \n",
       "            var marker_d94b0deb6dfb631f41d710ac8e092388 = L.marker(\n",
       "                [41.9105832, -87.94048839999999],\n",
       "                {}\n",
       "            ).addTo(map_c5f2498847af1104185d8e9fcf3bb396);\n",
       "        \n",
       "    \n",
       "        var popup_b2a193283fe6e3fa4af6b0eed5968ceb = L.popup({&quot;maxWidth&quot;: &quot;100%&quot;});\n",
       "\n",
       "        \n",
       "            \n",
       "                var html_a498053afd540199237d89060db99fb5 = $(`&lt;div id=&quot;html_a498053afd540199237d89060db99fb5&quot; style=&quot;width: 100.0%; height: 100.0%;&quot;&gt;Zenwich&lt;/div&gt;`)[0];\n",
       "                popup_b2a193283fe6e3fa4af6b0eed5968ceb.setContent(html_a498053afd540199237d89060db99fb5);\n",
       "            \n",
       "        \n",
       "\n",
       "        marker_d94b0deb6dfb631f41d710ac8e092388.bindPopup(popup_b2a193283fe6e3fa4af6b0eed5968ceb)\n",
       "        ;\n",
       "\n",
       "        \n",
       "    \n",
       "    \n",
       "            var marker_757a50873418ec80a504783833972a03 = L.marker(\n",
       "                [41.8831061, -87.6254381],\n",
       "                {}\n",
       "            ).addTo(map_c5f2498847af1104185d8e9fcf3bb396);\n",
       "        \n",
       "    \n",
       "        var popup_9c6e3286b88f89d25ab693f374c05d7c = L.popup({&quot;maxWidth&quot;: &quot;100%&quot;});\n",
       "\n",
       "        \n",
       "            \n",
       "                var html_0c00093523811e8b27cfbec5f4d15b84 = $(`&lt;div id=&quot;html_0c00093523811e8b27cfbec5f4d15b84&quot; style=&quot;width: 100.0%; height: 100.0%;&quot;&gt;Toni Patisserie&lt;/div&gt;`)[0];\n",
       "                popup_9c6e3286b88f89d25ab693f374c05d7c.setContent(html_0c00093523811e8b27cfbec5f4d15b84);\n",
       "            \n",
       "        \n",
       "\n",
       "        marker_757a50873418ec80a504783833972a03.bindPopup(popup_9c6e3286b88f89d25ab693f374c05d7c)\n",
       "        ;\n",
       "\n",
       "        \n",
       "    \n",
       "    \n",
       "            var marker_6641dad9c36da4d887bd322b6707a90b = L.marker(\n",
       "                [41.9431632, -87.6445071],\n",
       "                {}\n",
       "            ).addTo(map_c5f2498847af1104185d8e9fcf3bb396);\n",
       "        \n",
       "    \n",
       "        var popup_8f61153117484531c3dc37dc8b17a4a1 = L.popup({&quot;maxWidth&quot;: &quot;100%&quot;});\n",
       "\n",
       "        \n",
       "            \n",
       "                var html_836732c71759e413aea78da0e6c77359 = $(`&lt;div id=&quot;html_836732c71759e413aea78da0e6c77359&quot; style=&quot;width: 100.0%; height: 100.0%;&quot;&gt;Phoebe’s Bakery&lt;/div&gt;`)[0];\n",
       "                popup_8f61153117484531c3dc37dc8b17a4a1.setContent(html_836732c71759e413aea78da0e6c77359);\n",
       "            \n",
       "        \n",
       "\n",
       "        marker_6641dad9c36da4d887bd322b6707a90b.bindPopup(popup_8f61153117484531c3dc37dc8b17a4a1)\n",
       "        ;\n",
       "\n",
       "        \n",
       "    \n",
       "&lt;/script&gt;\n",
       "&lt;/html&gt;\" style=\"position:absolute;width:100%;height:100%;left:0;top:0;border:none !important;\" allowfullscreen webkitallowfullscreen mozallowfullscreen></iframe></div></div>"
      ],
      "text/plain": [
       "<folium.folium.Map at 0x18770444df0>"
      ]
     },
     "execution_count": 41,
     "metadata": {},
     "output_type": "execute_result"
    }
   ],
   "source": [
    "map = folium.Map(location=[df['lat'].mean(),\n",
    "                          df['lng'].mean()],\n",
    "                zoom_start=11)\n",
    "\n",
    "for n in df.index:\n",
    "    if np.isnan(df['lat'][n]) == False:\n",
    "        folium.Marker([df['lat'][n], df['lng'][n]], \n",
    "                popup=df['Cafe'][n]).add_to(map)\n",
    "        \n",
    "map"
   ]
  }
 ],
 "metadata": {
  "kernelspec": {
   "display_name": "Python 3 (ipykernel)",
   "language": "python",
   "name": "python3"
  },
  "language_info": {
   "codemirror_mode": {
    "name": "ipython",
    "version": 3
   },
   "file_extension": ".py",
   "mimetype": "text/x-python",
   "name": "python",
   "nbconvert_exporter": "python",
   "pygments_lexer": "ipython3",
   "version": "3.8.15"
  }
 },
 "nbformat": 4,
 "nbformat_minor": 5
}
