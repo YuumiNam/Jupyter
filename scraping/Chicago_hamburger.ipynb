{
 "cells": [
  {
   "cell_type": "markdown",
   "id": "e333cd97",
   "metadata": {},
   "source": [
    "# Chicago 사이트에서 정보 불러오고 맵에 표시하기"
   ]
  },
  {
   "cell_type": "markdown",
   "id": "00aff144",
   "metadata": {},
   "source": [
    "#### 참고자료(지금은 12년도 사이트를 활용할것)\n",
    "- (2012년도) : https://www.chicagomag.com/Chicago-Magazine/November-2012/Best-Sandwiches-Chicago/\n",
    "\n",
    "- 최신년도 : https://www.chicagomag.com"
   ]
  },
  {
   "cell_type": "code",
   "execution_count": 1,
   "id": "7e42965c",
   "metadata": {},
   "outputs": [],
   "source": [
    "from bs4 import BeautifulSoup\n",
    "import requests"
   ]
  },
  {
   "cell_type": "markdown",
   "id": "4c182afb",
   "metadata": {},
   "source": [
    "### 사이트 접속"
   ]
  },
  {
   "cell_type": "code",
   "execution_count": 2,
   "id": "0d4e8f0a",
   "metadata": {},
   "outputs": [],
   "source": [
    "url = 'https://www.chicagomag.com/Chicago-Magazine/November-2012/Best-Sandwiches-Chicago/'\n",
    "\n",
    "# headers={\"User-Agent\":\"Mozilla/5.0\"}\n",
    "# 접근하는 웹사이트가 우리를 브라우저로 인식하게해서\n",
    "# 접근금지를 풀어줌\n",
    "html = requests.get(url, headers={\"User-Agent\":\"Mozilla/5.0\"}).text\n",
    "soup = BeautifulSoup(html, 'lxml')"
   ]
  },
  {
   "cell_type": "code",
   "execution_count": 40,
   "id": "556c9902",
   "metadata": {
    "scrolled": true
   },
   "outputs": [],
   "source": [
    "# headers={\"User-Agent\":\"Mozilla/5.0\"}를 안적었다면\n",
    "# 접근금지뜸\n",
    "# print(soup)"
   ]
  },
  {
   "cell_type": "markdown",
   "id": "e70be00b",
   "metadata": {},
   "source": [
    "### 첫번째 햄버거 정보 뽑아보기"
   ]
  },
  {
   "cell_type": "code",
   "execution_count": 4,
   "id": "43ecf9ec",
   "metadata": {},
   "outputs": [
    {
     "data": {
      "text/plain": [
       "50"
      ]
     },
     "execution_count": 4,
     "metadata": {},
     "output_type": "execute_result"
    }
   ],
   "source": [
    "# 사이트에 있는 햄버거의 개수\n",
    "len(soup.select('div.sammy'))"
   ]
  },
  {
   "cell_type": "code",
   "execution_count": 5,
   "id": "b76403d2",
   "metadata": {
    "scrolled": false
   },
   "outputs": [
    {
     "data": {
      "text/plain": [
       "<div class=\"sammy\" style=\"position: relative;\">\n",
       "<div class=\"sammyRank\">1</div>\n",
       "<div class=\"sammyListing\"><a href=\"/Chicago-Magazine/November-2012/Best-Sandwiches-in-Chicago-Old-Oak-Tap-BLT/\"><b>BLT</b><br/>\n",
       "Old Oak Tap<br/>\n",
       "<em>Read more</em> </a></div>\n",
       "</div>"
      ]
     },
     "execution_count": 5,
     "metadata": {},
     "output_type": "execute_result"
    }
   ],
   "source": [
    "# 첫번째 햄버거 정보\n",
    "soup.select('div.sammy')[0]"
   ]
  },
  {
   "cell_type": "code",
   "execution_count": 6,
   "id": "83815726",
   "metadata": {},
   "outputs": [],
   "source": [
    "# sammy태그의 첫번째 햄버거 정보를 변수로 지정\n",
    "tmp = soup.select('div.sammy')[0]"
   ]
  },
  {
   "cell_type": "code",
   "execution_count": 7,
   "id": "2144990b",
   "metadata": {
    "scrolled": false
   },
   "outputs": [
    {
     "data": {
      "text/plain": [
       "'1'"
      ]
     },
     "execution_count": 7,
     "metadata": {},
     "output_type": "execute_result"
    }
   ],
   "source": [
    "# .text와 get_text()의 차이는 뭘까\n",
    "# select는 배열로 가져오기때문에\n",
    "# 값을 뽑아오려면 뒤에 [0]을 붙인것임\n",
    "tmp.select('.sammyRank')[0].text"
   ]
  },
  {
   "cell_type": "code",
   "execution_count": 8,
   "id": "4cb1eacf",
   "metadata": {
    "scrolled": true
   },
   "outputs": [
    {
     "data": {
      "text/plain": [
       "'BLT\\nOld Oak Tap\\nRead more '"
      ]
     },
     "execution_count": 8,
     "metadata": {},
     "output_type": "execute_result"
    }
   ],
   "source": [
    "tmp.select('.sammyListing')[0].text"
   ]
  },
  {
   "cell_type": "code",
   "execution_count": 9,
   "id": "e1973969",
   "metadata": {},
   "outputs": [
    {
     "data": {
      "text/plain": [
       "['BLT', 'Old Oak Tap', 'Read more ']"
      ]
     },
     "execution_count": 9,
     "metadata": {},
     "output_type": "execute_result"
    }
   ],
   "source": [
    "# 띄어쓰기를 기준으로 단어 나누기\n",
    "tmp.select('.sammyListing')[0].text.split('\\n')"
   ]
  },
  {
   "cell_type": "code",
   "execution_count": 10,
   "id": "e2f38c53",
   "metadata": {
    "scrolled": true
   },
   "outputs": [
    {
     "data": {
      "text/plain": [
       "<a href=\"/Chicago-Magazine/November-2012/Best-Sandwiches-in-Chicago-Old-Oak-Tap-BLT/\"><b>BLT</b><br/>\n",
       "Old Oak Tap<br/>\n",
       "<em>Read more</em> </a>"
      ]
     },
     "execution_count": 10,
     "metadata": {},
     "output_type": "execute_result"
    }
   ],
   "source": [
    "tmp.find('a')"
   ]
  },
  {
   "cell_type": "code",
   "execution_count": 11,
   "id": "ad2935d5",
   "metadata": {
    "scrolled": false
   },
   "outputs": [
    {
     "data": {
      "text/plain": [
       "<a href=\"/Chicago-Magazine/November-2012/Best-Sandwiches-in-Chicago-Old-Oak-Tap-BLT/\"><b>BLT</b><br/>\n",
       "Old Oak Tap<br/>\n",
       "<em>Read more</em> </a>"
      ]
     },
     "execution_count": 11,
     "metadata": {},
     "output_type": "execute_result"
    }
   ],
   "source": [
    "# href 안에있는 내용만 뽑아오고싶음\n",
    "tmp.select('div.sammyListing a')[0] # 실패"
   ]
  },
  {
   "cell_type": "code",
   "execution_count": 12,
   "id": "76dece99",
   "metadata": {},
   "outputs": [
    {
     "data": {
      "text/plain": [
       "'/Chicago-Magazine/November-2012/Best-Sandwiches-in-Chicago-Old-Oak-Tap-BLT/'"
      ]
     },
     "execution_count": 12,
     "metadata": {},
     "output_type": "execute_result"
    }
   ],
   "source": [
    "tmp.find('a')['href'] # 성공"
   ]
  },
  {
   "cell_type": "markdown",
   "id": "9504c595",
   "metadata": {},
   "source": [
    "### 50종류의 햄버거를 각 배열에 저장"
   ]
  },
  {
   "cell_type": "code",
   "execution_count": 13,
   "id": "f665f686",
   "metadata": {},
   "outputs": [],
   "source": [
    "rank = []\n",
    "main_menu = []\n",
    "cafe_name = []\n",
    "link_url = []\n",
    "\n",
    "list_soup = soup.select('div.sammy')\n",
    "\n",
    "for item in list_soup:\n",
    "    rank.append(item.select('.sammyRank')[0].text)\n",
    "    \n",
    "    # 띄어쓰기를 기준으로 단어를 나누기\n",
    "    list_string = item.select('.sammyListing')[0].text.split('\\n')\n",
    "    main_menu.append(list_string[0])\n",
    "    cafe_name.append(list_string[1])\n",
    "    \n",
    "    link_url.append(item.find('a')['href'])"
   ]
  },
  {
   "cell_type": "code",
   "execution_count": 14,
   "id": "3d93a41a",
   "metadata": {},
   "outputs": [
    {
     "name": "stdout",
     "output_type": "stream",
     "text": [
      "50 50 50 50\n"
     ]
    }
   ],
   "source": [
    "print(len(rank), len(main_menu), len(cafe_name), len(link_url))"
   ]
  },
  {
   "cell_type": "code",
   "execution_count": 15,
   "id": "4fa00def",
   "metadata": {},
   "outputs": [
    {
     "name": "stdout",
     "output_type": "stream",
     "text": [
      "['1', '2', '3', '4', '5', '6', '7', '8', '9', '10', '11', '12', '13', '14', '15', '16', '17', '18', '19', '20', '21', '22', '23', '24', '25', '26', '27', '28', '29', '30', '31', '32', '33', '34', '35', '36', '37', '38', '39', '40', '41', '42', '43', '44', '45', '46', '47', '48', '49', '50']\n"
     ]
    }
   ],
   "source": [
    "print(rank)"
   ]
  },
  {
   "cell_type": "code",
   "execution_count": 16,
   "id": "875d4888",
   "metadata": {},
   "outputs": [],
   "source": [
    "base_url = 'https://www.chicagomag.com/Chicago-Magazine/November-2012/Best-Sandwiches-Chicago/'"
   ]
  },
  {
   "cell_type": "code",
   "execution_count": 17,
   "id": "30920512",
   "metadata": {},
   "outputs": [
    {
     "data": {
      "application/vnd.jupyter.widget-view+json": {
       "model_id": "4408e56f5aac497890318478802d9ae4",
       "version_major": 2,
       "version_minor": 0
      },
      "text/plain": [
       "  0%|          | 0/50 [00:00<?, ?it/s]"
      ]
     },
     "metadata": {},
     "output_type": "display_data"
    }
   ],
   "source": [
    "from urllib.parse import urljoin\n",
    "from tqdm.notebook import tqdm\n",
    "\n",
    "rank = []\n",
    "main_menu = []\n",
    "cafe_name = []\n",
    "link_url = []\n",
    "\n",
    "list_soup = soup.select('div.sammy')\n",
    "\n",
    "# tqdm\n",
    "# 해당부분의 진행정도를 보여주게 됨\n",
    "for item in tqdm(list_soup):\n",
    "    rank.append(item.select('.sammyRank')[0].text)\n",
    "    \n",
    "    # 띄어쓰기를 기준으로 단어를 나누기\n",
    "    list_string = item.select('.sammyListing')[0].text.split('\\n')\n",
    "    main_menu.append(list_string[0])\n",
    "    cafe_name.append(list_string[1])\n",
    "    \n",
    "    link_url.append(urljoin(base_url, \n",
    "                            item.find('a')['href']))"
   ]
  },
  {
   "cell_type": "code",
   "execution_count": 18,
   "id": "478e9043",
   "metadata": {
    "scrolled": true
   },
   "outputs": [
    {
     "data": {
      "text/html": [
       "<div>\n",
       "<style scoped>\n",
       "    .dataframe tbody tr th:only-of-type {\n",
       "        vertical-align: middle;\n",
       "    }\n",
       "\n",
       "    .dataframe tbody tr th {\n",
       "        vertical-align: top;\n",
       "    }\n",
       "\n",
       "    .dataframe thead th {\n",
       "        text-align: right;\n",
       "    }\n",
       "</style>\n",
       "<table border=\"1\" class=\"dataframe\">\n",
       "  <thead>\n",
       "    <tr style=\"text-align: right;\">\n",
       "      <th></th>\n",
       "      <th>Rank</th>\n",
       "      <th>Cafe</th>\n",
       "      <th>Menu</th>\n",
       "      <th>URL</th>\n",
       "    </tr>\n",
       "  </thead>\n",
       "  <tbody>\n",
       "    <tr>\n",
       "      <th>0</th>\n",
       "      <td>1</td>\n",
       "      <td>Old Oak Tap</td>\n",
       "      <td>BLT</td>\n",
       "      <td>https://www.chicagomag.com/Chicago-Magazine/No...</td>\n",
       "    </tr>\n",
       "    <tr>\n",
       "      <th>1</th>\n",
       "      <td>2</td>\n",
       "      <td>Au Cheval</td>\n",
       "      <td>Fried Bologna</td>\n",
       "      <td>https://www.chicagomag.com/Chicago-Magazine/No...</td>\n",
       "    </tr>\n",
       "    <tr>\n",
       "      <th>2</th>\n",
       "      <td>3</td>\n",
       "      <td>Xoco</td>\n",
       "      <td>Woodland Mushroom</td>\n",
       "      <td>https://www.chicagomag.com/Chicago-Magazine/No...</td>\n",
       "    </tr>\n",
       "    <tr>\n",
       "      <th>3</th>\n",
       "      <td>4</td>\n",
       "      <td>Al’s Deli</td>\n",
       "      <td>Roast Beef</td>\n",
       "      <td>https://www.chicagomag.com/Chicago-Magazine/No...</td>\n",
       "    </tr>\n",
       "    <tr>\n",
       "      <th>4</th>\n",
       "      <td>5</td>\n",
       "      <td>Publican Quality Meats</td>\n",
       "      <td>PB&amp;L</td>\n",
       "      <td>https://www.chicagomag.com/Chicago-Magazine/No...</td>\n",
       "    </tr>\n",
       "  </tbody>\n",
       "</table>\n",
       "</div>"
      ],
      "text/plain": [
       "  Rank                    Cafe               Menu  \\\n",
       "0    1             Old Oak Tap                BLT   \n",
       "1    2               Au Cheval      Fried Bologna   \n",
       "2    3                    Xoco  Woodland Mushroom   \n",
       "3    4               Al’s Deli         Roast Beef   \n",
       "4    5  Publican Quality Meats               PB&L   \n",
       "\n",
       "                                                 URL  \n",
       "0  https://www.chicagomag.com/Chicago-Magazine/No...  \n",
       "1  https://www.chicagomag.com/Chicago-Magazine/No...  \n",
       "2  https://www.chicagomag.com/Chicago-Magazine/No...  \n",
       "3  https://www.chicagomag.com/Chicago-Magazine/No...  \n",
       "4  https://www.chicagomag.com/Chicago-Magazine/No...  "
      ]
     },
     "execution_count": 18,
     "metadata": {},
     "output_type": "execute_result"
    }
   ],
   "source": [
    "import pandas as pd\n",
    "\n",
    "data = {'Rank':rank, 'Cafe':cafe_name, 'Menu':main_menu, 'URL':link_url}\n",
    "df = pd.DataFrame(data)\n",
    "df.head()"
   ]
  },
  {
   "cell_type": "markdown",
   "id": "6acf9502",
   "metadata": {},
   "source": [
    "### 이제 주소와 가격 등을 뽑기위해 \n",
    "### 각 햄버거마다 다른 url에 접속해줘야함"
   ]
  },
  {
   "cell_type": "markdown",
   "id": "a20c82fa",
   "metadata": {},
   "source": [
    "### 첫번째 햄버거 url에 접근"
   ]
  },
  {
   "cell_type": "code",
   "execution_count": 19,
   "id": "bce74b00",
   "metadata": {},
   "outputs": [
    {
     "data": {
      "text/plain": [
       "RangeIndex(start=0, stop=50, step=1)"
      ]
     },
     "execution_count": 19,
     "metadata": {},
     "output_type": "execute_result"
    }
   ],
   "source": [
    "df.index"
   ]
  },
  {
   "cell_type": "code",
   "execution_count": 20,
   "id": "8c868df0",
   "metadata": {},
   "outputs": [
    {
     "data": {
      "text/plain": [
       "'https://www.chicagomag.com/Chicago-Magazine/November-2012/Best-Sandwiches-in-Chicago-Old-Oak-Tap-BLT/'"
      ]
     },
     "execution_count": 20,
     "metadata": {},
     "output_type": "execute_result"
    }
   ],
   "source": [
    "df['URL'][0]"
   ]
  },
  {
   "cell_type": "code",
   "execution_count": 21,
   "id": "df995924",
   "metadata": {},
   "outputs": [],
   "source": [
    "# 50종류의 햄버거중 첫번째 햄버거로 url 클릭\n",
    "html = requests.get(df['URL'][0], headers={\"User-Agent\":\"Mozilla/5.0\"}).text\n",
    "tmp = BeautifulSoup(html, 'lxml')"
   ]
  },
  {
   "cell_type": "code",
   "execution_count": 22,
   "id": "d9f20df2",
   "metadata": {},
   "outputs": [
    {
     "data": {
      "text/plain": [
       "'\\n$10. 2109 W. Chicago Ave., 773-772-0406, theoldoaktap.com'"
      ]
     },
     "execution_count": 22,
     "metadata": {},
     "output_type": "execute_result"
    }
   ],
   "source": [
    "# p태그의 addy클래스의 주소정보, 전화번호, 사이트를 뽑아옴\n",
    "tmp.select('p.addy')[0].text"
   ]
  },
  {
   "cell_type": "code",
   "execution_count": 23,
   "id": "152daacc",
   "metadata": {
    "scrolled": false
   },
   "outputs": [
    {
     "data": {
      "text/plain": [
       "'\\n$10. 2109 W. Chicago Ave.'"
      ]
     },
     "execution_count": 23,
     "metadata": {},
     "output_type": "execute_result"
    }
   ],
   "source": [
    "# 주소정보만 뽑아옴\n",
    "tmp.select('p.addy')[0].text.split(',')[0]"
   ]
  },
  {
   "cell_type": "code",
   "execution_count": 24,
   "id": "9a99acd2",
   "metadata": {},
   "outputs": [
    {
     "data": {
      "text/plain": [
       "['$10.', '2109', 'W.', 'Chicago', 'Ave.']"
      ]
     },
     "execution_count": 24,
     "metadata": {},
     "output_type": "execute_result"
    }
   ],
   "source": [
    "# 주소정보를 불러옴\n",
    "tmp.select('p.addy')[0].text.split(',')[0].split()"
   ]
  },
  {
   "cell_type": "code",
   "execution_count": 25,
   "id": "405d0227",
   "metadata": {},
   "outputs": [
    {
     "data": {
      "text/plain": [
       "'$10.'"
      ]
     },
     "execution_count": 25,
     "metadata": {},
     "output_type": "execute_result"
    }
   ],
   "source": [
    "# $10. 만 뽑아옴 (가격 완성!)\n",
    "tmp.select('p.addy')[0].text.split(',')[0].split()[0]"
   ]
  },
  {
   "cell_type": "code",
   "execution_count": 26,
   "id": "fc89272a",
   "metadata": {},
   "outputs": [
    {
     "data": {
      "text/plain": [
       "'$10'"
      ]
     },
     "execution_count": 26,
     "metadata": {},
     "output_type": "execute_result"
    }
   ],
   "source": [
    "# $10과 .을 분리\n",
    "# [:-1]은 뒤에서 빼고 나머지는 출력\n",
    "# [-1]은 뒤에서 첫번째만 출력\n",
    "tmp.select('p.addy')[0].text.split(',')[0].split()[0][:-1]"
   ]
  },
  {
   "cell_type": "code",
   "execution_count": 27,
   "id": "0982e506",
   "metadata": {
    "scrolled": true
   },
   "outputs": [
    {
     "data": {
      "text/plain": [
       "['2109', 'W.', 'Chicago', 'Ave.']"
      ]
     },
     "execution_count": 27,
     "metadata": {},
     "output_type": "execute_result"
    }
   ],
   "source": [
    "# $10 빼고 출력\n",
    "tmp.select('p.addy')[0].text.split(',')[0].split()[1:]"
   ]
  },
  {
   "cell_type": "code",
   "execution_count": 28,
   "id": "4e88e94e",
   "metadata": {},
   "outputs": [
    {
     "data": {
      "text/plain": [
       "'2109 W. Chicago Ave.'"
      ]
     },
     "execution_count": 28,
     "metadata": {},
     "output_type": "execute_result"
    }
   ],
   "source": [
    "# $10 빼고 출력한것을 붙여줌 (주소 완성!)\n",
    "' '.join(tmp.select('p.addy')[0].text.split(',')[0].split()[1:])"
   ]
  },
  {
   "cell_type": "markdown",
   "id": "e889456d",
   "metadata": {},
   "source": [
    "### 50종류에 대한 햄버거의 주소, 가격 등을 뽑아옴"
   ]
  },
  {
   "cell_type": "code",
   "execution_count": 29,
   "id": "695d63fc",
   "metadata": {},
   "outputs": [
    {
     "data": {
      "application/vnd.jupyter.widget-view+json": {
       "model_id": "a8456db780ea4a5eaab198911371039e",
       "version_major": 2,
       "version_minor": 0
      },
      "text/plain": [
       "  0%|          | 0/50 [00:00<?, ?it/s]"
      ]
     },
     "metadata": {},
     "output_type": "display_data"
    }
   ],
   "source": [
    "import time\n",
    "\n",
    "price = []\n",
    "address = []\n",
    "\n",
    "for n in tqdm(df.index):\n",
    "    html = requests.get(df['URL'][n], headers={\"User-Agent\":\"Mozilla/5.0\"})\n",
    "    time.sleep(1)\n",
    "    tmp = BeautifulSoup(html.text, 'lxml')\n",
    "    \n",
    "    val_list = tmp.select('p.addy')[0].text.split(',')[0].split()\n",
    "    \n",
    "    price.append(val_list[0][:-1])\n",
    "    address.append(' '.join(val_list[1:]))"
   ]
  },
  {
   "cell_type": "code",
   "execution_count": 30,
   "id": "07b9f52d",
   "metadata": {},
   "outputs": [
    {
     "name": "stdout",
     "output_type": "stream",
     "text": [
      "50 50\n"
     ]
    }
   ],
   "source": [
    "print(len(price), len(address))"
   ]
  },
  {
   "cell_type": "code",
   "execution_count": 31,
   "id": "11db347d",
   "metadata": {},
   "outputs": [
    {
     "data": {
      "text/html": [
       "<div>\n",
       "<style scoped>\n",
       "    .dataframe tbody tr th:only-of-type {\n",
       "        vertical-align: middle;\n",
       "    }\n",
       "\n",
       "    .dataframe tbody tr th {\n",
       "        vertical-align: top;\n",
       "    }\n",
       "\n",
       "    .dataframe thead th {\n",
       "        text-align: right;\n",
       "    }\n",
       "</style>\n",
       "<table border=\"1\" class=\"dataframe\">\n",
       "  <thead>\n",
       "    <tr style=\"text-align: right;\">\n",
       "      <th></th>\n",
       "      <th>Rank</th>\n",
       "      <th>Cafe</th>\n",
       "      <th>Menu</th>\n",
       "      <th>URL</th>\n",
       "      <th>Price</th>\n",
       "      <th>Address</th>\n",
       "    </tr>\n",
       "  </thead>\n",
       "  <tbody>\n",
       "    <tr>\n",
       "      <th>0</th>\n",
       "      <td>1</td>\n",
       "      <td>Old Oak Tap</td>\n",
       "      <td>BLT</td>\n",
       "      <td>https://www.chicagomag.com/Chicago-Magazine/No...</td>\n",
       "      <td>$10</td>\n",
       "      <td>2109 W. Chicago Ave.</td>\n",
       "    </tr>\n",
       "    <tr>\n",
       "      <th>1</th>\n",
       "      <td>2</td>\n",
       "      <td>Au Cheval</td>\n",
       "      <td>Fried Bologna</td>\n",
       "      <td>https://www.chicagomag.com/Chicago-Magazine/No...</td>\n",
       "      <td>$9</td>\n",
       "      <td>800 W. Randolph St.</td>\n",
       "    </tr>\n",
       "    <tr>\n",
       "      <th>2</th>\n",
       "      <td>3</td>\n",
       "      <td>Xoco</td>\n",
       "      <td>Woodland Mushroom</td>\n",
       "      <td>https://www.chicagomag.com/Chicago-Magazine/No...</td>\n",
       "      <td>$9.50</td>\n",
       "      <td>445 N. Clark St.</td>\n",
       "    </tr>\n",
       "    <tr>\n",
       "      <th>3</th>\n",
       "      <td>4</td>\n",
       "      <td>Al’s Deli</td>\n",
       "      <td>Roast Beef</td>\n",
       "      <td>https://www.chicagomag.com/Chicago-Magazine/No...</td>\n",
       "      <td>$9.40</td>\n",
       "      <td>914 Noyes St.</td>\n",
       "    </tr>\n",
       "    <tr>\n",
       "      <th>4</th>\n",
       "      <td>5</td>\n",
       "      <td>Publican Quality Meats</td>\n",
       "      <td>PB&amp;L</td>\n",
       "      <td>https://www.chicagomag.com/Chicago-Magazine/No...</td>\n",
       "      <td>$10</td>\n",
       "      <td>825 W. Fulton Mkt.</td>\n",
       "    </tr>\n",
       "  </tbody>\n",
       "</table>\n",
       "</div>"
      ],
      "text/plain": [
       "  Rank                    Cafe               Menu  \\\n",
       "0    1             Old Oak Tap                BLT   \n",
       "1    2               Au Cheval      Fried Bologna   \n",
       "2    3                    Xoco  Woodland Mushroom   \n",
       "3    4               Al’s Deli         Roast Beef   \n",
       "4    5  Publican Quality Meats               PB&L   \n",
       "\n",
       "                                                 URL  Price  \\\n",
       "0  https://www.chicagomag.com/Chicago-Magazine/No...    $10   \n",
       "1  https://www.chicagomag.com/Chicago-Magazine/No...     $9   \n",
       "2  https://www.chicagomag.com/Chicago-Magazine/No...  $9.50   \n",
       "3  https://www.chicagomag.com/Chicago-Magazine/No...  $9.40   \n",
       "4  https://www.chicagomag.com/Chicago-Magazine/No...    $10   \n",
       "\n",
       "                Address  \n",
       "0  2109 W. Chicago Ave.  \n",
       "1   800 W. Randolph St.  \n",
       "2      445 N. Clark St.  \n",
       "3         914 Noyes St.  \n",
       "4    825 W. Fulton Mkt.  "
      ]
     },
     "execution_count": 31,
     "metadata": {},
     "output_type": "execute_result"
    }
   ],
   "source": [
    "df['Price'] = price\n",
    "df['Address'] = address\n",
    "df.head()"
   ]
  },
  {
   "cell_type": "code",
   "execution_count": 32,
   "id": "9dab2639",
   "metadata": {},
   "outputs": [
    {
     "data": {
      "text/html": [
       "<div>\n",
       "<style scoped>\n",
       "    .dataframe tbody tr th:only-of-type {\n",
       "        vertical-align: middle;\n",
       "    }\n",
       "\n",
       "    .dataframe tbody tr th {\n",
       "        vertical-align: top;\n",
       "    }\n",
       "\n",
       "    .dataframe thead th {\n",
       "        text-align: right;\n",
       "    }\n",
       "</style>\n",
       "<table border=\"1\" class=\"dataframe\">\n",
       "  <thead>\n",
       "    <tr style=\"text-align: right;\">\n",
       "      <th></th>\n",
       "      <th>Rank</th>\n",
       "      <th>Cafe</th>\n",
       "      <th>Menu</th>\n",
       "      <th>Price</th>\n",
       "      <th>Address</th>\n",
       "    </tr>\n",
       "  </thead>\n",
       "  <tbody>\n",
       "    <tr>\n",
       "      <th>0</th>\n",
       "      <td>1</td>\n",
       "      <td>Old Oak Tap</td>\n",
       "      <td>BLT</td>\n",
       "      <td>$10</td>\n",
       "      <td>2109 W. Chicago Ave.</td>\n",
       "    </tr>\n",
       "    <tr>\n",
       "      <th>1</th>\n",
       "      <td>2</td>\n",
       "      <td>Au Cheval</td>\n",
       "      <td>Fried Bologna</td>\n",
       "      <td>$9</td>\n",
       "      <td>800 W. Randolph St.</td>\n",
       "    </tr>\n",
       "    <tr>\n",
       "      <th>2</th>\n",
       "      <td>3</td>\n",
       "      <td>Xoco</td>\n",
       "      <td>Woodland Mushroom</td>\n",
       "      <td>$9.50</td>\n",
       "      <td>445 N. Clark St.</td>\n",
       "    </tr>\n",
       "    <tr>\n",
       "      <th>3</th>\n",
       "      <td>4</td>\n",
       "      <td>Al’s Deli</td>\n",
       "      <td>Roast Beef</td>\n",
       "      <td>$9.40</td>\n",
       "      <td>914 Noyes St.</td>\n",
       "    </tr>\n",
       "    <tr>\n",
       "      <th>4</th>\n",
       "      <td>5</td>\n",
       "      <td>Publican Quality Meats</td>\n",
       "      <td>PB&amp;L</td>\n",
       "      <td>$10</td>\n",
       "      <td>825 W. Fulton Mkt.</td>\n",
       "    </tr>\n",
       "  </tbody>\n",
       "</table>\n",
       "</div>"
      ],
      "text/plain": [
       "  Rank                    Cafe               Menu  Price               Address\n",
       "0    1             Old Oak Tap                BLT    $10  2109 W. Chicago Ave.\n",
       "1    2               Au Cheval      Fried Bologna     $9   800 W. Randolph St.\n",
       "2    3                    Xoco  Woodland Mushroom  $9.50      445 N. Clark St.\n",
       "3    4               Al’s Deli         Roast Beef  $9.40         914 Noyes St.\n",
       "4    5  Publican Quality Meats               PB&L    $10    825 W. Fulton Mkt."
      ]
     },
     "execution_count": 32,
     "metadata": {},
     "output_type": "execute_result"
    }
   ],
   "source": [
    "del df['URL']\n",
    "df.head()"
   ]
  },
  {
   "cell_type": "code",
   "execution_count": 33,
   "id": "135b9400",
   "metadata": {},
   "outputs": [
    {
     "data": {
      "text/html": [
       "<div>\n",
       "<style scoped>\n",
       "    .dataframe tbody tr th:only-of-type {\n",
       "        vertical-align: middle;\n",
       "    }\n",
       "\n",
       "    .dataframe tbody tr th {\n",
       "        vertical-align: top;\n",
       "    }\n",
       "\n",
       "    .dataframe thead th {\n",
       "        text-align: right;\n",
       "    }\n",
       "</style>\n",
       "<table border=\"1\" class=\"dataframe\">\n",
       "  <thead>\n",
       "    <tr style=\"text-align: right;\">\n",
       "      <th></th>\n",
       "      <th>Cafe</th>\n",
       "      <th>Menu</th>\n",
       "      <th>Price</th>\n",
       "      <th>Address</th>\n",
       "    </tr>\n",
       "    <tr>\n",
       "      <th>Rank</th>\n",
       "      <th></th>\n",
       "      <th></th>\n",
       "      <th></th>\n",
       "      <th></th>\n",
       "    </tr>\n",
       "  </thead>\n",
       "  <tbody>\n",
       "    <tr>\n",
       "      <th>1</th>\n",
       "      <td>Old Oak Tap</td>\n",
       "      <td>BLT</td>\n",
       "      <td>$10</td>\n",
       "      <td>2109 W. Chicago Ave.</td>\n",
       "    </tr>\n",
       "    <tr>\n",
       "      <th>2</th>\n",
       "      <td>Au Cheval</td>\n",
       "      <td>Fried Bologna</td>\n",
       "      <td>$9</td>\n",
       "      <td>800 W. Randolph St.</td>\n",
       "    </tr>\n",
       "    <tr>\n",
       "      <th>3</th>\n",
       "      <td>Xoco</td>\n",
       "      <td>Woodland Mushroom</td>\n",
       "      <td>$9.50</td>\n",
       "      <td>445 N. Clark St.</td>\n",
       "    </tr>\n",
       "    <tr>\n",
       "      <th>4</th>\n",
       "      <td>Al’s Deli</td>\n",
       "      <td>Roast Beef</td>\n",
       "      <td>$9.40</td>\n",
       "      <td>914 Noyes St.</td>\n",
       "    </tr>\n",
       "    <tr>\n",
       "      <th>5</th>\n",
       "      <td>Publican Quality Meats</td>\n",
       "      <td>PB&amp;L</td>\n",
       "      <td>$10</td>\n",
       "      <td>825 W. Fulton Mkt.</td>\n",
       "    </tr>\n",
       "  </tbody>\n",
       "</table>\n",
       "</div>"
      ],
      "text/plain": [
       "                        Cafe               Menu  Price               Address\n",
       "Rank                                                                        \n",
       "1                Old Oak Tap                BLT    $10  2109 W. Chicago Ave.\n",
       "2                  Au Cheval      Fried Bologna     $9   800 W. Randolph St.\n",
       "3                       Xoco  Woodland Mushroom  $9.50      445 N. Clark St.\n",
       "4                  Al’s Deli         Roast Beef  $9.40         914 Noyes St.\n",
       "5     Publican Quality Meats               PB&L    $10    825 W. Fulton Mkt."
      ]
     },
     "execution_count": 33,
     "metadata": {},
     "output_type": "execute_result"
    }
   ],
   "source": [
    "df.set_index('Rank', inplace=True)\n",
    "df.head()"
   ]
  },
  {
   "cell_type": "markdown",
   "id": "f306f768",
   "metadata": {},
   "source": [
    "### 주소를 활용해서 구글맵에 표시\n",
    "### 구글 키(Geocoding API)를 발급받아야함\n",
    "### Git에 올릴때 키가 노출되지않도록 조심"
   ]
  },
  {
   "cell_type": "code",
   "execution_count": 34,
   "id": "dc0092c3",
   "metadata": {},
   "outputs": [],
   "source": [
    "import folium\n",
    "import googlemaps\n",
    "import numpy as np"
   ]
  },
  {
   "cell_type": "code",
   "execution_count": 35,
   "id": "746bf8a4",
   "metadata": {},
   "outputs": [],
   "source": [
    "# gmaps_key = \"**********\"\n",
    "# gmaps = googlemaps.Client(key=gmaps_key)"
   ]
  },
  {
   "cell_type": "code",
   "execution_count": 36,
   "id": "4ebe5d8c",
   "metadata": {},
   "outputs": [],
   "source": [
    "# lat = []\n",
    "# lng = []\n",
    "\n",
    "# for n in tqdm(df.index):\n",
    "#     if df['Address'][n] != 'Multiple locations':\n",
    "#         target_name = df['Address'][n] + ', ' + 'Chicago'\n",
    "#         gmaps_output = gmaps.geocode(target_name)\n",
    "#         time.sleep(0.5)\n",
    "#         location = gmaps_output[0].get('geometry')\n",
    "#         lat.append(location['location']['lat'])\n",
    "#         lng.append(location['location']['lng'])\n",
    "#     else:\n",
    "#         lat.append(np.nan)\n",
    "#         lng.append(np.nan)"
   ]
  },
  {
   "cell_type": "code",
   "execution_count": 37,
   "id": "25793552",
   "metadata": {},
   "outputs": [],
   "source": [
    "# print(len(lat), len(lng))"
   ]
  },
  {
   "cell_type": "code",
   "execution_count": 38,
   "id": "014d1774",
   "metadata": {},
   "outputs": [],
   "source": [
    "# df['lat'] = lat\n",
    "# df['lng'] = lng\n",
    "# df.head()"
   ]
  },
  {
   "cell_type": "code",
   "execution_count": 39,
   "id": "52a84397",
   "metadata": {},
   "outputs": [],
   "source": [
    "# map = folium.Map(location=[df['lat'].mean(),\n",
    "#                           df['lng'].mean()],\n",
    "#                 zoom_start=11)\n",
    "# folium.Marker([df['lat'].mean(), df['lng'].mean()],\n",
    "#              popup='center').add_to(map)\n",
    "# map"
   ]
  }
 ],
 "metadata": {
  "kernelspec": {
   "display_name": "Python 3 (ipykernel)",
   "language": "python",
   "name": "python3"
  },
  "language_info": {
   "codemirror_mode": {
    "name": "ipython",
    "version": 3
   },
   "file_extension": ".py",
   "mimetype": "text/x-python",
   "name": "python",
   "nbconvert_exporter": "python",
   "pygments_lexer": "ipython3",
   "version": "3.8.15"
  }
 },
 "nbformat": 4,
 "nbformat_minor": 5
}
