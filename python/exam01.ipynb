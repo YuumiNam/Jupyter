{
 "cells": [
  {
   "cell_type": "markdown",
   "id": "d3a8e79b",
   "metadata": {},
   "source": [
    "# List Comprehension"
   ]
  },
  {
   "cell_type": "code",
   "execution_count": 3,
   "id": "3709d85b",
   "metadata": {},
   "outputs": [
    {
     "name": "stdout",
     "output_type": "stream",
     "text": [
      "[0, 1, 2, 3, 4, 5, 6, 7, 8, 9]\n",
      "\n"
     ]
    }
   ],
   "source": [
    "result = [];\n",
    "\n",
    "for i in range(10):\n",
    "    result.append(i)\n",
    "\n",
    "print(result);\n",
    "print();"
   ]
  },
  {
   "cell_type": "code",
   "execution_count": 4,
   "id": "50f4a4cd",
   "metadata": {},
   "outputs": [
    {
     "name": "stdout",
     "output_type": "stream",
     "text": [
      "[0, 1, 2, 3, 4, 5, 6, 7, 8, 9]\n"
     ]
    }
   ],
   "source": [
    "result2 = [i for i in range(10)];\n",
    "print(result2);"
   ]
  },
  {
   "cell_type": "code",
   "execution_count": 6,
   "id": "e3dda897",
   "metadata": {},
   "outputs": [
    {
     "name": "stdout",
     "output_type": "stream",
     "text": [
      "[0, 2, 4, 6, 8]\n",
      "\n"
     ]
    }
   ],
   "source": [
    "result = [];\n",
    "\n",
    "for i in range(10):\n",
    "    if i % 2 == 0:\n",
    "        result.append(i);\n",
    "\n",
    "print(result);\n",
    "print();"
   ]
  },
  {
   "cell_type": "code",
   "execution_count": 7,
   "id": "6c4f477b",
   "metadata": {},
   "outputs": [
    {
     "name": "stdout",
     "output_type": "stream",
     "text": [
      "[0, 2, 4, 6, 8]\n"
     ]
    }
   ],
   "source": [
    "result2 = [i for i in range(10) if i % 2 == 0];\n",
    "print(result2);"
   ]
  },
  {
   "cell_type": "code",
   "execution_count": 10,
   "id": "8b146465",
   "metadata": {},
   "outputs": [
    {
     "name": "stdout",
     "output_type": "stream",
     "text": [
      "[0, 99, 2, 99, 4, 99, 6, 99, 8, 99]\n",
      "\n"
     ]
    }
   ],
   "source": [
    "result = [];\n",
    "\n",
    "for i in range(10):\n",
    "    if i % 2 == 0:\n",
    "        result.append(i);\n",
    "    else:\n",
    "        result.append(99);\n",
    "\n",
    "print(result);\n",
    "print();"
   ]
  },
  {
   "cell_type": "code",
   "execution_count": 11,
   "id": "87732edc",
   "metadata": {},
   "outputs": [
    {
     "name": "stdout",
     "output_type": "stream",
     "text": [
      "[0, 99, 2, 99, 4, 99, 6, 99, 8, 99]\n"
     ]
    }
   ],
   "source": [
    "result2 = [i if i % 2 == 0 else 99 for i in range(10)];\n",
    "print(result2);"
   ]
  },
  {
   "cell_type": "code",
   "execution_count": 15,
   "id": "6064867d",
   "metadata": {},
   "outputs": [
    {
     "name": "stdout",
     "output_type": "stream",
     "text": [
      "['AB', 'AC', 'BA', 'BC', 'CA', 'CB']\n"
     ]
    }
   ],
   "source": [
    "result = [];\n",
    "case1 = ['A', 'B', 'C'];\n",
    "case2 = ['A', 'B', 'C'];\n",
    "for i in case1:\n",
    "    for j in case2:\n",
    "        result.append(i + j);\n",
    "        \n",
    "print(result);"
   ]
  },
  {
   "cell_type": "code",
   "execution_count": 14,
   "id": "b9807b2a",
   "metadata": {},
   "outputs": [
    {
     "name": "stdout",
     "output_type": "stream",
     "text": [
      "['AA', 'AB', 'AC', 'BA', 'BB', 'BC', 'CA', 'CB', 'CC']\n"
     ]
    }
   ],
   "source": [
    "result2 = [i + j for i in case1 for j in case2];\n",
    "print(result2);"
   ]
  },
  {
   "cell_type": "code",
   "execution_count": 16,
   "id": "99abb8c9",
   "metadata": {},
   "outputs": [
    {
     "name": "stdout",
     "output_type": "stream",
     "text": [
      "['AB', 'AC', 'BA', 'BC', 'CA', 'CB']\n"
     ]
    }
   ],
   "source": [
    "result2 = [i + j for i in case1 for j in case2 if i != j];\n",
    "print(result2);"
   ]
  },
  {
   "cell_type": "markdown",
   "id": "ca290ced",
   "metadata": {},
   "source": [
    "# numpy (파이썬 배열의 단점을 보완. ML을 하려면 필수!!)"
   ]
  },
  {
   "cell_type": "code",
   "execution_count": 17,
   "id": "9e072d71",
   "metadata": {},
   "outputs": [],
   "source": [
    "import numpy as np"
   ]
  },
  {
   "cell_type": "code",
   "execution_count": 18,
   "id": "1d8d269b",
   "metadata": {},
   "outputs": [
    {
     "name": "stdout",
     "output_type": "stream",
     "text": [
      "[0 1 2 3 4 5]\n"
     ]
    }
   ],
   "source": [
    "a1 = np.array([0, 1, 2, 3, 4, 5]);\n",
    "print(a1);"
   ]
  },
  {
   "cell_type": "code",
   "execution_count": 19,
   "id": "63621462",
   "metadata": {},
   "outputs": [
    {
     "name": "stdout",
     "output_type": "stream",
     "text": [
      "<class 'numpy.ndarray'>\n"
     ]
    }
   ],
   "source": [
    "print(type(a1));"
   ]
  },
  {
   "cell_type": "code",
   "execution_count": 20,
   "id": "8a1095b1",
   "metadata": {},
   "outputs": [
    {
     "name": "stdout",
     "output_type": "stream",
     "text": [
      "int32\n"
     ]
    }
   ],
   "source": [
    "print(a1.dtype);"
   ]
  },
  {
   "cell_type": "code",
   "execution_count": 21,
   "id": "bdbe3a50",
   "metadata": {},
   "outputs": [
    {
     "name": "stdout",
     "output_type": "stream",
     "text": [
      "[[1, 2, 3], [4, 5, 6], [7, 8, 9]]\n"
     ]
    }
   ],
   "source": [
    "list1 = [[1, 2, 3], [4, 5, 6], [7, 8, 9]];\n",
    "print(list1);"
   ]
  },
  {
   "cell_type": "code",
   "execution_count": 23,
   "id": "6cbc9e4f",
   "metadata": {},
   "outputs": [
    {
     "name": "stdout",
     "output_type": "stream",
     "text": [
      "[[1 2 3]\n",
      " [4 5 6]\n",
      " [7 8 9]]\n"
     ]
    }
   ],
   "source": [
    "list2 = np.array(list1);\n",
    "print(list2);"
   ]
  },
  {
   "cell_type": "code",
   "execution_count": 25,
   "id": "89facbaa",
   "metadata": {},
   "outputs": [
    {
     "name": "stdout",
     "output_type": "stream",
     "text": [
      "[0 2 4 6 8]\n"
     ]
    }
   ],
   "source": [
    "a = np.arange(0, 10, 2);\n",
    "print(a);"
   ]
  },
  {
   "cell_type": "code",
   "execution_count": 26,
   "id": "f6af81fa",
   "metadata": {},
   "outputs": [
    {
     "name": "stdout",
     "output_type": "stream",
     "text": [
      "[0 1 2 3 4 5 6 7 8 9]\n"
     ]
    }
   ],
   "source": [
    "a = np.arange(10);\n",
    "print(a);"
   ]
  },
  {
   "cell_type": "code",
   "execution_count": 27,
   "id": "4c7153d9",
   "metadata": {},
   "outputs": [
    {
     "name": "stdout",
     "output_type": "stream",
     "text": [
      "[1 2 3 4 5 6 7 8 9]\n"
     ]
    }
   ],
   "source": [
    "a = np.arange(1, 10);\n",
    "print(a);"
   ]
  },
  {
   "cell_type": "code",
   "execution_count": 29,
   "id": "521115ab",
   "metadata": {},
   "outputs": [
    {
     "name": "stdout",
     "output_type": "stream",
     "text": [
      "[[ 0  1  2]\n",
      " [ 3  4  5]\n",
      " [ 6  7  8]\n",
      " [ 9 10 11]]\n"
     ]
    }
   ],
   "source": [
    "a = np.arange(12).reshape(4, 3);\n",
    "print(a);"
   ]
  },
  {
   "cell_type": "code",
   "execution_count": 31,
   "id": "8130cf9d",
   "metadata": {},
   "outputs": [
    {
     "name": "stdout",
     "output_type": "stream",
     "text": [
      "[[ 0  1  2]\n",
      " [ 3  4  5]\n",
      " [ 6  7  8]\n",
      " [ 9 10 11]]\n"
     ]
    }
   ],
   "source": [
    "a = np.arange(12).reshape(4, -1);\n",
    "print(a);"
   ]
  },
  {
   "cell_type": "code",
   "execution_count": 32,
   "id": "b7ef46d6",
   "metadata": {},
   "outputs": [
    {
     "name": "stdout",
     "output_type": "stream",
     "text": [
      "[[ 0  1  2]\n",
      " [ 3  4  5]\n",
      " [ 6  7  8]\n",
      " [ 9 10 11]]\n"
     ]
    }
   ],
   "source": [
    "a = np.arange(12).reshape(-1, 3);\n",
    "print(a);"
   ]
  },
  {
   "cell_type": "code",
   "execution_count": 38,
   "id": "13d5caa6",
   "metadata": {},
   "outputs": [
    {
     "name": "stdout",
     "output_type": "stream",
     "text": [
      "[ 1.  2.  3.  4.  5.  6.  7.  8.  9. 10.]\n"
     ]
    }
   ],
   "source": [
    "a = np.linspace(1, 10, 10);\n",
    "print(a);"
   ]
  },
  {
   "cell_type": "code",
   "execution_count": 39,
   "id": "d321bf03",
   "metadata": {},
   "outputs": [
    {
     "name": "stdout",
     "output_type": "stream",
     "text": [
      "[ 1.          2.28571429  3.57142857  4.85714286  6.14285714  7.42857143\n",
      "  8.71428571 10.        ]\n"
     ]
    }
   ],
   "source": [
    "a = np.linspace(1, 10, 8);\n",
    "print(a);"
   ]
  },
  {
   "cell_type": "code",
   "execution_count": 42,
   "id": "091621cd",
   "metadata": {},
   "outputs": [
    {
     "name": "stdout",
     "output_type": "stream",
     "text": [
      "[0 0 0 0 0 0 0 0 0 0]\n",
      "[[0 0 0 0]\n",
      " [0 0 0 0]\n",
      " [0 0 0 0]]\n",
      "[1. 1. 1. 1. 1.]\n",
      "[[1. 1. 1. 1. 1.]\n",
      " [1. 1. 1. 1. 1.]\n",
      " [1. 1. 1. 1. 1.]]\n",
      "[[1. 0. 0.]\n",
      " [0. 1. 0.]\n",
      " [0. 0. 1.]]\n"
     ]
    }
   ],
   "source": [
    "a1 = np.zeros(10, int);\n",
    "print(a1);\n",
    "\n",
    "a2 = np.zeros((3, 4), int);\n",
    "print(a2);\n",
    "\n",
    "a3 = np.ones(5);\n",
    "print(a3);\n",
    "\n",
    "a4 = np.ones((3, 5));\n",
    "print(a4);\n",
    "\n",
    "a5 = np.eye(3);\n",
    "print(a5);"
   ]
  },
  {
   "cell_type": "code",
   "execution_count": 55,
   "id": "f6ecee90",
   "metadata": {},
   "outputs": [
    {
     "name": "stdout",
     "output_type": "stream",
     "text": [
      "[10, 20, 30, 40, 1, 2, 3, 4]\n"
     ]
    }
   ],
   "source": [
    "list1 = [10, 20, 30, 40];\n",
    "list2 = [1, 2, 3, 4];\n",
    "print(list1 + list2);"
   ]
  },
  {
   "cell_type": "code",
   "execution_count": 56,
   "id": "f7a84502",
   "metadata": {},
   "outputs": [
    {
     "name": "stdout",
     "output_type": "stream",
     "text": [
      "[11 22 33 44]\n"
     ]
    }
   ],
   "source": [
    "a1 = np.array(list1);\n",
    "a2 = np.array(list2);\n",
    "print(a1 + a2);"
   ]
  },
  {
   "cell_type": "code",
   "execution_count": 57,
   "id": "f853059e",
   "metadata": {},
   "outputs": [
    {
     "name": "stdout",
     "output_type": "stream",
     "text": [
      "[ True  True  True  True]\n"
     ]
    }
   ],
   "source": [
    "print(a1 > a2);"
   ]
  },
  {
   "cell_type": "code",
   "execution_count": 7,
   "id": "0de3a141",
   "metadata": {},
   "outputs": [
    {
     "name": "stdout",
     "output_type": "stream",
     "text": [
      "15\n",
      "3.0\n",
      "1.4142135623730951\n",
      "2.0\n",
      "1\n",
      "5\n",
      "[ 1  3  6 10 15]\n",
      "[  1   2   6  24 120]\n"
     ]
    }
   ],
   "source": [
    "import numpy as np\n",
    "\n",
    "a1 = np.arange(1, 6);\n",
    "\n",
    "print(a1.sum());\n",
    "print(a1.mean());\n",
    "print(a1.std());\n",
    "print(a1.var());\n",
    "print(a1.min());\n",
    "print(a1.max());\n",
    "print(a1.cumsum()); # 누적합\n",
    "print(a1.cumprod());"
   ]
  },
  {
   "cell_type": "code",
   "execution_count": 11,
   "id": "cf0a0e7b",
   "metadata": {},
   "outputs": [
    {
     "name": "stdout",
     "output_type": "stream",
     "text": [
      "[[0 1]\n",
      " [2 3]]\n",
      "[[3 2]\n",
      " [0 1]]\n",
      "--------------------\n",
      "[[0 1]\n",
      " [6 7]]\n",
      "[[0 1]\n",
      " [6 7]]\n",
      "--------------------\n",
      "[[0 2]\n",
      " [1 3]]\n",
      "[[0 2]\n",
      " [1 3]]\n",
      "[[0 2]\n",
      " [1 3]]\n",
      "--------------------\n",
      "[[-1.5  0.5]\n",
      " [ 1.   0. ]]\n",
      "-2.0\n"
     ]
    }
   ],
   "source": [
    "a = np.array([0, 1, 2, 3]).reshape(2, 2);\n",
    "print(a);\n",
    "\n",
    "b = np.array([3, 2, 0, 1]).reshape(2, 2);\n",
    "print(b);\n",
    "\n",
    "print('-'*20);\n",
    "print(a.dot(b)); # 행렬곲\n",
    "print(np.dot(a, b)); # 행렬곲\n",
    "\n",
    "print('-'*20);\n",
    "print(np.transpose(a)); # 전치행렬\n",
    "print(a.transpose()); # 전치행렬\n",
    "print(a.T); # 전치행렬\n",
    "\n",
    "print('-'*20);\n",
    "print(np.linalg.inv(a)); # 역행렬\n",
    "print(np.linalg.det(a)); # 행렬식"
   ]
  },
  {
   "cell_type": "code",
   "execution_count": 15,
   "id": "984b0b8a",
   "metadata": {},
   "outputs": [
    {
     "name": "stdout",
     "output_type": "stream",
     "text": [
      "[10 30 40]\n",
      "--------------------\n",
      "[[10 20 30]\n",
      " [40 50 60]\n",
      " [70 80 90]]\n",
      "--------------------\n",
      "30\n",
      "[[10 20 30]\n",
      " [40 50 60]\n",
      " [70 80 97]]\n",
      "[40 50 60]\n",
      "--------------------\n",
      "[[10 20 30]\n",
      " [45 55 65]\n",
      " [70 80 97]]\n",
      "[[10 20 30]\n",
      " [45 55 65]\n",
      " [75 85 95]]\n",
      "--------------------\n",
      "[10 85]\n"
     ]
    }
   ],
   "source": [
    "a = np.array([0, 10, 20, 30, 40, 50]);\n",
    "print(a[[1, 3, 4]]);\n",
    "\n",
    "b = np.arange(10, 100, 10).reshape(3, 3);\n",
    "print('-'*20);\n",
    "print(b);\n",
    "print('-'*20);\n",
    "\n",
    "print(b[0, 2]);\n",
    "b[2, 2] = 97;\n",
    "print(b);\n",
    "print(b[1]);\n",
    "\n",
    "print('-'*20);\n",
    "b[1] = np.array([45, 55, 65]);\n",
    "print(b);\n",
    "b[2] = [75, 85, 95];\n",
    "print(b);\n",
    "\n",
    "print('-'*20);\n",
    "print(b[[0, 2], [0, 1]]);"
   ]
  },
  {
   "cell_type": "code",
   "execution_count": 17,
   "id": "c43f239e",
   "metadata": {},
   "outputs": [
    {
     "name": "stdout",
     "output_type": "stream",
     "text": [
      "[4 5 6]\n",
      "[2 4 6]\n"
     ]
    }
   ],
   "source": [
    "a = np.array([1, 2, 3, 4, 5, 6]);\n",
    "\n",
    "print(a[a > 3]);\n",
    "print(a[(a % 2) == 0]);"
   ]
  },
  {
   "cell_type": "code",
   "execution_count": 19,
   "id": "d271470e",
   "metadata": {},
   "outputs": [
    {
     "name": "stdout",
     "output_type": "stream",
     "text": [
      "[10 20 30]\n",
      "[ 0 10 20]\n",
      "[20 30 40 50]\n",
      "[ 0 10 25 35 45 50]\n"
     ]
    }
   ],
   "source": [
    "a = np.array([0, 10, 20, 30, 40, 50]);\n",
    "\n",
    "print(a[1:4]);\n",
    "print(a[:3]);\n",
    "print(a[2:]);\n",
    "a[2:5] = np.array([25, 35, 45]);\n",
    "print(a);"
   ]
  },
  {
   "cell_type": "code",
   "execution_count": 21,
   "id": "8dfac672",
   "metadata": {},
   "outputs": [
    {
     "name": "stdout",
     "output_type": "stream",
     "text": [
      "--------------------\n",
      "[[10 20 30]\n",
      " [40 50 60]\n",
      " [70 80 90]]\n",
      "--------------------\n",
      "[[50 60]\n",
      " [80 90]]\n",
      "[[20 30]\n",
      " [50 60]\n",
      " [80 90]]\n",
      "[40 50]\n",
      "[[10 25 35]\n",
      " [40 55 65]\n",
      " [70 80 90]]\n"
     ]
    }
   ],
   "source": [
    "a = np.arange(10, 100, 10).reshape(3, 3);\n",
    "\n",
    "print('-'*20);\n",
    "print(a);\n",
    "print('-'*20);\n",
    "\n",
    "print(a[1:3, 1:3]);\n",
    "print(a[:3, 1:]);\n",
    "print(a[1][0:2]);\n",
    "a[0:2, 1:3] = np.array([[25, 35], [55, 65]]);\n",
    "print(a);"
   ]
  }
 ],
 "metadata": {
  "kernelspec": {
   "display_name": "Python 3 (ipykernel)",
   "language": "python",
   "name": "python3"
  },
  "language_info": {
   "codemirror_mode": {
    "name": "ipython",
    "version": 3
   },
   "file_extension": ".py",
   "mimetype": "text/x-python",
   "name": "python",
   "nbconvert_exporter": "python",
   "pygments_lexer": "ipython3",
   "version": "3.8.15"
  }
 },
 "nbformat": 4,
 "nbformat_minor": 5
}
